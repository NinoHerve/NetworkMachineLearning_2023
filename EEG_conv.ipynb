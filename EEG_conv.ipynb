{
 "cells": [
  {
   "attachments": {},
   "cell_type": "markdown",
   "metadata": {},
   "source": [
    "# 1d Conv on EEG data\n",
    "\n",
    "Step 1:\n",
    "- have a standardizer\n",
    "    - load whole data\n",
    "    - fit standardizer\n",
    "    - use standardizer as transformer\n",
    "\n",
    "Step 2:\n",
    "- build convolutional model\n",
    "\n",
    "Step 3:\n",
    "- run a training pipeline"
   ]
  },
  {
   "cell_type": "code",
   "execution_count": 1,
   "metadata": {},
   "outputs": [],
   "source": [
    "from utils.dataset import EEGDataset\n",
    "from pathlib import Path\n",
    "\n",
    "\n",
    "eeg_dir = Path('/home/admin/work/NetworkMachineLearning_2023/EEGDataset/')\n",
    "subjects = ['sub-01']\n",
    "\n",
    "data = EEGDataset(eeg_dir, subjects)"
   ]
  },
  {
   "attachments": {},
   "cell_type": "markdown",
   "metadata": {},
   "source": [
    "### Step 1 - Standardizer"
   ]
  },
  {
   "cell_type": "code",
   "execution_count": 2,
   "metadata": {},
   "outputs": [],
   "source": [
    "import numpy as np\n",
    "from sklearn import preprocessing\n",
    "from utils.transforms import Compose"
   ]
  },
  {
   "attachments": {},
   "cell_type": "markdown",
   "metadata": {},
   "source": [
    "Load whole data"
   ]
  },
  {
   "cell_type": "code",
   "execution_count": 3,
   "metadata": {},
   "outputs": [],
   "source": [
    "# Extract whole dataset\n",
    "X = []\n",
    "y = []\n",
    "for sample in data:\n",
    "    X.append(sample['eeg'])\n",
    "    y.append(sample['label'])\n",
    "\n",
    "X = np.array(X)\n",
    "y = np.array(y)"
   ]
  },
  {
   "attachments": {},
   "cell_type": "markdown",
   "metadata": {},
   "source": [
    "Fit standardizer"
   ]
  },
  {
   "cell_type": "code",
   "execution_count": 4,
   "metadata": {},
   "outputs": [],
   "source": [
    "# Check if both standardization are the same\n",
    "X = np.moveaxis(X, 1, 2)\n",
    "sklearn_scaler = preprocessing.StandardScaler()\n",
    "X_sk_scaled = sklearn_scaler.fit_transform(X.reshape(-1,X.shape[-1])).reshape(X.shape)"
   ]
  },
  {
   "cell_type": "code",
   "execution_count": 21,
   "metadata": {},
   "outputs": [],
   "source": [
    "data_scaler = data.standard_scaler()\n",
    "data.transform = Compose([data_scaler])\n",
    "X_dat_scaled = np.array([data[i]['eeg'] for i in range(len(data))])"
   ]
  },
  {
   "cell_type": "code",
   "execution_count": 22,
   "metadata": {},
   "outputs": [
    {
     "name": "stdout",
     "output_type": "stream",
     "text": [
      "(588, 625, 128)\n",
      "(588, 128, 625)\n"
     ]
    }
   ],
   "source": [
    "print(X_sk_scaled.shape)\n",
    "print(X_dat_scaled.shape)\n"
   ]
  },
  {
   "cell_type": "code",
   "execution_count": 23,
   "metadata": {},
   "outputs": [
    {
     "name": "stdout",
     "output_type": "stream",
     "text": [
      "[[-2.71763961e-09 -3.00651514e-11  1.24513079e-09 ...  5.01260873e-09\n",
      "  -1.35579036e-09 -1.57415887e-09]\n",
      " [ 4.39221461e-09  1.86965735e-09 -1.91110547e-09 ...  5.23498761e-11\n",
      "   3.14546111e-09 -2.01100782e-09]\n",
      " [-9.12064004e-10 -1.96411255e-09 -1.77989506e-09 ... -3.23891773e-10\n",
      "  -5.94473189e-10  2.90511318e-09]\n",
      " ...\n",
      " [-3.95237242e-09 -1.70386574e-09  4.09100836e-10 ... -4.20818894e-09\n",
      "  -4.57979908e-09 -2.71021732e-09]\n",
      " [-3.25592869e-09 -2.14569155e-09 -3.42834117e-09 ... -2.77540109e-09\n",
      "  -1.57768481e-09 -2.31243994e-09]\n",
      " [-2.66457968e-09 -1.08582341e-09  1.49507736e-09 ...  2.14223586e-09\n",
      "   1.83986412e-10  9.05399006e-10]]\n",
      "[[-2.71763587e-09 -3.00651550e-11  1.24512911e-09 ...  5.01260189e-09\n",
      "  -1.35578840e-09 -1.57415665e-09]\n",
      " [ 4.39220858e-09  1.86965478e-09 -1.91110285e-09 ...  5.23497931e-11\n",
      "   3.14545679e-09 -2.01100513e-09]\n",
      " [-9.12062831e-10 -1.96410999e-09 -1.77989266e-09 ... -3.23891334e-10\n",
      "  -5.94472453e-10  2.90510935e-09]\n",
      " ...\n",
      " [-3.95236689e-09 -1.70386339e-09  4.09100323e-10 ... -4.20818338e-09\n",
      "  -4.57979281e-09 -2.71021373e-09]\n",
      " [-3.25592428e-09 -2.14568856e-09 -3.42833644e-09 ... -2.77539726e-09\n",
      "  -1.57768271e-09 -2.31243685e-09]\n",
      " [-2.66457599e-09 -1.08582185e-09  1.49507532e-09 ...  2.14223306e-09\n",
      "   1.83986174e-10  9.05397746e-10]]\n"
     ]
    }
   ],
   "source": [
    "print(np.mean(X_sk_scaled, axis=1))"
   ]
  }
 ],
 "metadata": {
  "kernelspec": {
   "display_name": "eegcs",
   "language": "python",
   "name": "python3"
  },
  "language_info": {
   "codemirror_mode": {
    "name": "ipython",
    "version": 3
   },
   "file_extension": ".py",
   "mimetype": "text/x-python",
   "name": "python",
   "nbconvert_exporter": "python",
   "pygments_lexer": "ipython3",
   "version": "3.9.16"
  },
  "orig_nbformat": 4
 },
 "nbformat": 4,
 "nbformat_minor": 2
}
