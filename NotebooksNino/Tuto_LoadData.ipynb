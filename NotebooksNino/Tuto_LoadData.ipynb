{
 "cells": [
  {
   "attachments": {},
   "cell_type": "markdown",
   "metadata": {},
   "source": [
    "#### Example on how to define dataset and dataloader"
   ]
  },
  {
   "cell_type": "code",
   "execution_count": 1,
   "metadata": {},
   "outputs": [],
   "source": [
    "from pathlib import Path\n",
    "from utils.dataset import EEGDataset\n",
    "from utils.transforms import Compose, ToTensor, Resize, TemporalShift\n",
    "\n",
    "import torch\n",
    "from torch.utils.data import DataLoader\n",
    "from torch.utils.data import random_split\n",
    "\n",
    "# path to eeg dataset\n",
    "eeg_dir  = Path('/home/admin/work/NetworkMachineLearning_2023/EEGDataset')\n",
    "\n",
    "# subjects\n",
    "subjects = ['sub-01', 'sub-02', 'sub-03']\n",
    "\n",
    "# define transformations\n",
    "transforms = Compose([\n",
    "    ToTensor(),\n",
    "    Resize(600),\n",
    "    TemporalShift(25),\n",
    "])\n",
    "\n",
    "# dataset using only selected subjects\n",
    "dataset = EEGDataset(eeg_dir, subjects, transforms)\n",
    "\n",
    "# You can split data with build in torch functions\n",
    "train_data, test_data = random_split(dataset, [0.8, 0.2])\n",
    "\n",
    "# Build data loaders (the collate_fn function determines how to regroup the samples into batches)\n",
    "train_loader = DataLoader(dataset, batch_size=32)\n",
    "test_loader  = DataLoader(dataset, batch_size=32)\n"
   ]
  },
  {
   "attachments": {},
   "cell_type": "markdown",
   "metadata": {},
   "source": [
    "You can index a dataset to retrieve a specific sample. <br>\n",
    "Samples are dictionnaries containing the eeg signals of a trial and it's respective label (1='faces', 0='scrambled')"
   ]
  },
  {
   "cell_type": "code",
   "execution_count": 2,
   "metadata": {},
   "outputs": [
    {
     "name": "stdout",
     "output_type": "stream",
     "text": [
      "Data size: 1305\n",
      "EEG size: (128, 600)\n",
      "Label: 1\n"
     ]
    }
   ],
   "source": [
    "sample = train_data[54]\n",
    "eeg, label = sample['eeg'], sample['label']\n",
    "\n",
    "print(f'Data size: {len(train_data)}')\n",
    "print(f'EEG size: {eeg.shape}')\n",
    "print(f'Label: {label}')"
   ]
  },
  {
   "attachments": {},
   "cell_type": "markdown",
   "metadata": {},
   "source": [
    "You can iterate over a dataset using batches with the dataloader"
   ]
  },
  {
   "cell_type": "code",
   "execution_count": 4,
   "metadata": {},
   "outputs": [
    {
     "name": "stdout",
     "output_type": "stream",
     "text": [
      "Iteration 0 has data of size torch.Size([32, 128, 600])\n",
      "Iteration 1 has data of size torch.Size([32, 128, 600])\n",
      "Iteration 2 has data of size torch.Size([32, 128, 600])\n",
      "Iteration 3 has data of size torch.Size([32, 128, 600])\n",
      "Iteration 4 has data of size torch.Size([32, 128, 600])\n",
      "Iteration 5 has data of size torch.Size([32, 128, 600])\n",
      "Iteration 6 has data of size torch.Size([32, 128, 600])\n",
      "Iteration 7 has data of size torch.Size([32, 128, 600])\n",
      "Iteration 8 has data of size torch.Size([32, 128, 600])\n",
      "Iteration 9 has data of size torch.Size([32, 128, 600])\n",
      "Iteration 10 has data of size torch.Size([32, 128, 600])\n",
      "Iteration 11 has data of size torch.Size([32, 128, 600])\n",
      "Iteration 12 has data of size torch.Size([32, 128, 600])\n",
      "Iteration 13 has data of size torch.Size([32, 128, 600])\n",
      "Iteration 14 has data of size torch.Size([32, 128, 600])\n",
      "Iteration 15 has data of size torch.Size([32, 128, 600])\n",
      "Iteration 16 has data of size torch.Size([32, 128, 600])\n",
      "Iteration 17 has data of size torch.Size([32, 128, 600])\n",
      "Iteration 18 has data of size torch.Size([32, 128, 600])\n",
      "Iteration 19 has data of size torch.Size([32, 128, 600])\n",
      "Iteration 20 has data of size torch.Size([32, 128, 600])\n",
      "Iteration 21 has data of size torch.Size([32, 128, 600])\n",
      "Iteration 22 has data of size torch.Size([32, 128, 600])\n",
      "Iteration 23 has data of size torch.Size([32, 128, 600])\n",
      "Iteration 24 has data of size torch.Size([32, 128, 600])\n",
      "Iteration 25 has data of size torch.Size([32, 128, 600])\n",
      "Iteration 26 has data of size torch.Size([32, 128, 600])\n",
      "Iteration 27 has data of size torch.Size([32, 128, 600])\n",
      "Iteration 28 has data of size torch.Size([32, 128, 600])\n",
      "Iteration 29 has data of size torch.Size([32, 128, 600])\n",
      "Iteration 30 has data of size torch.Size([32, 128, 600])\n",
      "Iteration 31 has data of size torch.Size([32, 128, 600])\n",
      "Iteration 32 has data of size torch.Size([32, 128, 600])\n",
      "Iteration 33 has data of size torch.Size([32, 128, 600])\n",
      "Iteration 34 has data of size torch.Size([32, 128, 600])\n",
      "Iteration 35 has data of size torch.Size([32, 128, 600])\n",
      "Iteration 36 has data of size torch.Size([32, 128, 600])\n",
      "Iteration 37 has data of size torch.Size([32, 128, 600])\n",
      "Iteration 38 has data of size torch.Size([32, 128, 600])\n",
      "Iteration 39 has data of size torch.Size([32, 128, 600])\n",
      "Iteration 40 has data of size torch.Size([32, 128, 600])\n",
      "Iteration 41 has data of size torch.Size([32, 128, 600])\n",
      "Iteration 42 has data of size torch.Size([32, 128, 600])\n",
      "Iteration 43 has data of size torch.Size([32, 128, 600])\n",
      "Iteration 44 has data of size torch.Size([32, 128, 600])\n",
      "Iteration 45 has data of size torch.Size([32, 128, 600])\n",
      "Iteration 46 has data of size torch.Size([32, 128, 600])\n",
      "Iteration 47 has data of size torch.Size([32, 128, 600])\n",
      "Iteration 48 has data of size torch.Size([32, 128, 600])\n",
      "Iteration 49 has data of size torch.Size([32, 128, 600])\n",
      "Iteration 50 has data of size torch.Size([31, 128, 600])\n"
     ]
    }
   ],
   "source": [
    "for i, batch in enumerate(train_loader):\n",
    "    print(f'Iteration {i} has data of size {batch[\"eeg\"].shape}')"
   ]
  },
  {
   "cell_type": "code",
   "execution_count": null,
   "metadata": {},
   "outputs": [],
   "source": []
  }
 ],
 "metadata": {
  "kernelspec": {
   "display_name": "eegcs",
   "language": "python",
   "name": "python3"
  },
  "language_info": {
   "codemirror_mode": {
    "name": "ipython",
    "version": 3
   },
   "file_extension": ".py",
   "mimetype": "text/x-python",
   "name": "python",
   "nbconvert_exporter": "python",
   "pygments_lexer": "ipython3",
   "version": "3.9.16"
  },
  "orig_nbformat": 4
 },
 "nbformat": 4,
 "nbformat_minor": 2
}
