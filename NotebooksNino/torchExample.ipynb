{
 "cells": [
  {
   "attachments": {},
   "cell_type": "markdown",
   "metadata": {},
   "source": [
    "# Torch example\n",
    "\n",
    "Apply example from [this source](https://torcheeg.readthedocs.io/en/latest/introduction_by_example.html) on our data set"
   ]
  },
  {
   "cell_type": "code",
   "execution_count": 17,
   "metadata": {},
   "outputs": [],
   "source": [
    "from pathlib import Path\n",
    "from utils.dataSet import build_NumpyDataset\n",
    "\n",
    "from torcheeg.model_selection import KFold\n",
    "\n",
    "import torch \n",
    "import torch.nn as nn\n",
    "from torch.utils.data import DataLoader"
   ]
  },
  {
   "cell_type": "code",
   "execution_count": 18,
   "metadata": {},
   "outputs": [
    {
     "name": "stdout",
     "output_type": "stream",
     "text": [
      "The target folder already exists, if you need to regenerate the database IO, please delete the path ./io/numpy.\n"
     ]
    }
   ],
   "source": [
    "eeg_dir  = Path('/home/admin/work/NetworkMachineLearning_2023/EEGDataset')\n",
    "subjects = ['sub-01', 'sub-02', 'sub-03']\n",
    "task     = 'faces'\n",
    "\n",
    "# Load data\n",
    "dataset = build_NumpyDataset(eeg_dir, subjects, task)"
   ]
  },
  {
   "cell_type": "code",
   "execution_count": 19,
   "metadata": {},
   "outputs": [],
   "source": [
    "# Define data splitting method\n",
    "k_fold = KFold(n_splits=10, split_path='./io/split', shuffle=True)"
   ]
  },
  {
   "cell_type": "code",
   "execution_count": 29,
   "metadata": {},
   "outputs": [],
   "source": [
    "# Define model \n",
    "class CNN(torch.nn.Module):\n",
    "    def __init__(self, num_classes=2):\n",
    "        super().__init__()\n",
    "        self.Conv1 = nn.Sequential(\n",
    "            # temporal convolution\n",
    "            nn.Conv2d(1, 64, kernel_size=(1,11), stride=1),\n",
    "            nn.ReLU(),\n",
    "\n",
    "            # spatial convolution\n",
    "            nn.Conv2d(64, 64, kernel_size=(3,1), stride=1),\n",
    "            nn.ReLU(),\n",
    "\n",
    "            # pooling\n",
    "            nn.MaxPool2d((2,3), stride=1)\n",
    "        )\n",
    "        self.Conv2 = nn.Sequential(\n",
    "            # temporal convolution\n",
    "            nn.Conv2d(64, 128, kernel_size=(1,10), stride=1),\n",
    "            nn.ReLU(),\n",
    "\n",
    "            # spatial convolution\n",
    "            nn.Conv2d(128, 128, kernel_size=(2,1), stride=1),\n",
    "            nn.ReLU(),\n",
    "\n",
    "            # pooling\n",
    "            nn.MaxPool2d((2,3), stride=1)\n",
    "        )\n",
    "        self.Conv3 = nn.Sequential(\n",
    "            # temporal convolution\n",
    "            nn.Conv2d(128, 256, kernel_size=(1,3), stride=1),\n",
    "            nn.ReLU(),\n",
    "\n",
    "            # spatial convolution\n",
    "            nn.Conv2d(256, 256, kernel_size=(2,1), stride=1),\n",
    "            nn.ReLU(),\n",
    "\n",
    "            # pooling\n",
    "            nn.MaxPool2d((2,2), stride=1)\n",
    "        )\n",
    "\n",
    "        self.lin1 = nn.Linear(15 * 15 * 256, 1024)\n",
    "        self.lin2 = nn.Linear(1024, num_classes)\n",
    "\n",
    "    def forward(self, x):\n",
    "        x = x[:,None,:,:]  # reshape with 1 channel\n",
    "\n",
    "        x = self.Conv1(x)\n",
    "        x = self.Conv2(x)\n",
    "        x = self.Conv3(x)\n",
    "        print(x.shape)\n",
    "        \n",
    "        x = x.flatten(start_dim=1)\n",
    "        x = self.lin1(x)\n",
    "        x = self.lin2(x)\n",
    "        return x"
   ]
  },
  {
   "cell_type": "code",
   "execution_count": 30,
   "metadata": {},
   "outputs": [],
   "source": [
    "device = 'cpu' if torch.cuda.is_available() else 'cpu' \n",
    "loss_fn = nn.CrossEntropyLoss()\n",
    "batch_size = 32 \n",
    "\n",
    "def train(dataloader, model, loss_fn, optimizer):\n",
    "    size = len(dataloader.dataset)\n",
    "    model.train()\n",
    "    for batch_idx, batch in enumerate(dataloader):\n",
    "        X = batch[0].to(device)\n",
    "        y = batch[1]['trial'].to(device)\n",
    "\n",
    "        # Compute prediction error\n",
    "        pred = model(X)\n",
    "        loss = loss_fn(pred, y)\n",
    "\n",
    "        # Backpropagation\n",
    "        optimizer.zero_grad()\n",
    "        loss.backward()\n",
    "        optimizer.step()\n",
    "\n",
    "        if batch_idx % 100 == 0:\n",
    "            loss, current = loss.item(), batch_idx * len(X)\n",
    "            print(f\"loss: {loss:>7f}  [{current:>5d}/{size:>5d}]\")\n",
    "\n",
    "\n",
    "def valid(dataloader, model, loss_fn):\n",
    "    size = len(dataloader.dataset)\n",
    "    num_batches = len(dataloader)\n",
    "    model.eval()\n",
    "    val_loss, correct = 0, 0\n",
    "    with torch.no_grad():\n",
    "        for batch in dataloader:\n",
    "            X = batch[0].to(device)\n",
    "            y = batch[1]['trial'].to(device)\n",
    "\n",
    "            pred = model(X)\n",
    "            val_loss += loss_fn(pred, y).item()\n",
    "            correct += (pred.argmax(1) == y).type(torch.float).sum().item()\n",
    "    val_loss /= num_batches\n",
    "    correct /= size\n",
    "    print(f\"Test Error: \\n Accuracy: {(100*correct):>0.1f}%, Avg loss: {val_loss:>8f} \\n\")"
   ]
  },
  {
   "cell_type": "code",
   "execution_count": 31,
   "metadata": {},
   "outputs": [
    {
     "name": "stdout",
     "output_type": "stream",
     "text": [
      "Epoch 1\n",
      "-------------------------------\n",
      "torch.Size([32, 256, 121, 599])\n"
     ]
    }
   ],
   "source": [
    "for i, (train_dataset, val_dataset) in enumerate(k_fold.split(dataset)):\n",
    "\n",
    "    model = CNN().to(device)\n",
    "    optimizer = torch.optim.Adam(model.parameters(), lr=1e-4)\n",
    "\n",
    "    train_loader = DataLoader(train_dataset, batch_size=batch_size, shuffle=True)\n",
    "    val_loader = DataLoader(val_dataset, batch_size=batch_size, shuffle=False)\n",
    "\n",
    "    epochs = 5\n",
    "    for t in range(epochs):\n",
    "        print(f\"Epoch {t+1}\\n-------------------------------\")\n",
    "        train(train_loader, model, loss_fn, optimizer)\n",
    "        valid(val_loader, model, loss_fn)\n",
    "    print(\"Done!\")"
   ]
  },
  {
   "cell_type": "markdown",
   "metadata": {},
   "source": []
  },
  {
   "cell_type": "markdown",
   "metadata": {},
   "source": []
  },
  {
   "cell_type": "markdown",
   "metadata": {},
   "source": []
  },
  {
   "cell_type": "code",
   "execution_count": 12,
   "metadata": {},
   "outputs": [
    {
     "name": "stdout",
     "output_type": "stream",
     "text": [
      "FACES\n"
     ]
    }
   ],
   "source": [
    "import numpy as np\n",
    "\n",
    "arr = np.array(['FACES', 'SCRAMBLED', 'FACES'])\n",
    "\n",
    "labels = np.char.lower(np.unique(arr))\n",
    "print(np.char.upper(labels[0]))"
   ]
  },
  {
   "cell_type": "code",
   "execution_count": 9,
   "metadata": {},
   "outputs": [
    {
     "data": {
      "text/plain": [
       "numpy.str_"
      ]
     },
     "execution_count": 9,
     "metadata": {},
     "output_type": "execute_result"
    }
   ],
   "source": [
    "type(labels[0])"
   ]
  },
  {
   "cell_type": "code",
   "execution_count": null,
   "metadata": {},
   "outputs": [],
   "source": []
  }
 ],
 "metadata": {
  "kernelspec": {
   "display_name": "eegcs",
   "language": "python",
   "name": "python3"
  },
  "language_info": {
   "codemirror_mode": {
    "name": "ipython",
    "version": 3
   },
   "file_extension": ".py",
   "mimetype": "text/x-python",
   "name": "python",
   "nbconvert_exporter": "python",
   "pygments_lexer": "ipython3",
   "version": "3.9.16"
  },
  "orig_nbformat": 4
 },
 "nbformat": 4,
 "nbformat_minor": 2
}
