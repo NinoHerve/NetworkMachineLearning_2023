{
 "cells": [
  {
   "attachments": {},
   "cell_type": "markdown",
   "metadata": {},
   "source": [
    "#### Example on how to store the EEG dataset in a dataloader"
   ]
  },
  {
   "cell_type": "code",
   "execution_count": 1,
   "metadata": {},
   "outputs": [],
   "source": [
    "from pathlib import Path\n",
    "from utils.dataSet import EEGDataset, collate_fn \n",
    "\n",
    "import torch\n",
    "from torch.utils.data import DataLoader\n",
    "from torch.utils.data import random_split\n",
    "\n",
    "# path to eeg dataset\n",
    "eeg_dir  = Path('/home/admin/work/NML/EEGDataset')\n",
    "\n",
    "# subjects, data will be concatenated\n",
    "subjects = ['sub-01', 'sub-02', 'sub-03']\n",
    "\n",
    "# Builds pytorch Dataset by loading the subject specific files\n",
    "dataset = EEGDataset(eeg_dir, subjects)\n",
    "\n",
    "# You can split data with build in torch functions\n",
    "train_data, test_data = random_split(dataset, [0.8, 0.2])\n",
    "\n",
    "# Build data loaders (the collate_fn function determines how to regroup the samples into batches)\n",
    "train_loader = DataLoader(dataset, batch_size=32, collate_fn=collate_fn)\n",
    "test_loader  = DataLoader(dataset, batch_size=32, collate_fn=collate_fn)\n"
   ]
  },
  {
   "cell_type": "code",
   "execution_count": null,
   "metadata": {},
   "outputs": [],
   "source": []
  }
 ],
 "metadata": {
  "kernelspec": {
   "display_name": "eegcs",
   "language": "python",
   "name": "python3"
  },
  "language_info": {
   "codemirror_mode": {
    "name": "ipython",
    "version": 3
   },
   "file_extension": ".py",
   "mimetype": "text/x-python",
   "name": "python",
   "nbconvert_exporter": "python",
   "pygments_lexer": "ipython3",
   "version": "3.9.16"
  },
  "orig_nbformat": 4
 },
 "nbformat": 4,
 "nbformat_minor": 2
}
