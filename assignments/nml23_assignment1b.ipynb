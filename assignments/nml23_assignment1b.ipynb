{
  "cells": [
    {
      "cell_type": "markdown",
      "metadata": {
        "id": "8S5mo9I3pA2Q"
      },
      "source": [
        "# [NML23] Assignment 1B: Network Models\n",
        "\n",
        "TAs: [Ortal Senouf](https://people.epfl.ch/ortal.senouf) and [William Cappelletti](https://people.epfl.ch/william.cappelletti)"
      ]
    },
    {
      "cell_type": "markdown",
      "metadata": {
        "id": "5fKV_i9ZpA2U"
      },
      "source": [
        "## Students\n",
        "\n",
        "* Team: `20`\n",
        "* Students: `Hugo Fluhr`, `Nino Herve`"
      ]
    },
    {
      "cell_type": "markdown",
      "metadata": {
        "id": "aKj5_Hb1-tBm"
      },
      "source": [
        "## Rules\n",
        "\n",
        "> ⚠️ **Read carefully before starting**\n",
        "\n",
        "**Deadline:** March 28th\n",
        "\n",
        "**Grading:**\n",
        "* The integrality of Assignment 1 will be scaled to 100% and will amount to 25% of the overall assignments score.\n",
        "* The total number of points for part B is **52**, the points for each exercise are stated in the instructions.\n",
        "* All team members will receive the same grade based on the team solution.\n",
        "* Collaboration between team members is encouraged. No collaboration between teams is allowed.\n",
        "\n",
        "**Expected output:**\n",
        "\n",
        "You will have coding and theoretical questions. Coding exercises shall be solved within the specified space:\n",
        "```python\n",
        "# Your solution here ###########################################################\n",
        "...\n",
        "#^^^^^^^^^^^^^^^^^^^^^^^^^^^^^^^^^^^^^^^^^^^^^^^^^^^^^^^^^^^^^^^^^^^^^^^^^^^^^^^\n",
        "```\n",
        "Anything outside shall not be touched, except if otherwise stated.\n",
        "\n",
        "Theoretical questions shall be answered in the following markdown cell. The first line will be \n",
        "> **Your answer here:**\n",
        "\n",
        "**Submission:**\n",
        "* Your submission is self-contained in the `.ipynb` file.\n",
        "\n",
        "* Code has to be clean and readable. Provide meaningful variable names and comment where needed.\n",
        "\n",
        "* Textual answers in [markdown cells][md_cells] shall be short: one to two\n",
        "  sentences. Math shall be written in [LaTeX][md_latex].\n",
        "    **NOTE**: handwritten notes pasted in the notebook are ignored\n",
        "\n",
        "* You cannot import any other library than we imported.\n",
        "  Note that Networkx is imported in the second section and cannot be used in the first except for the Question 4 of Section 1 (at the indicated portion only).\n",
        "\n",
        "* Make sure all cells are executed before submitting. I.e., if you open the notebook again it should show numerical results and plots. Cells not run are ignored.\n",
        "\n",
        "* Execute your notebook from a blank state before submission, to make sure it is reproducible. You can click \"Kernel\" then \"Restart Kernel and Run All Cells\" in Jupyter. We might re-run cells to ensure that the code is working and corresponds to the results.\n",
        "\n",
        "[md_cells]: https://jupyter-notebook.readthedocs.io/en/stable/examples/Notebook/Working%20With%20Markdown%20Cells.html\n",
        "[md_latex]: https://jupyter-notebook.readthedocs.io/en/stable/examples/Notebook/Working%20With%20Markdown%20Cells.html#LaTeX-equations"
      ]
    },
    {
      "cell_type": "markdown",
      "metadata": {
        "id": "cmp4-YzspA2V"
      },
      "source": [
        "## Objective\n",
        "\n",
        "The purpose of this assignment is to explore a given dataset, represent it by network by constructing different graphs. In the first section, you analyzed various network properties. In this second section, you will explore various network models and find out the network model fitting the ones you construct from the dataset."
      ]
    },
    {
      "cell_type": "code",
      "execution_count": 1,
      "metadata": {
        "colab": {
          "base_uri": "https://localhost:8080/"
        },
        "id": "cve__kFpKJPB",
        "outputId": "6673273c-3491-4902-b1d7-5058c079a312"
      },
      "outputs": [
        {
          "output_type": "stream",
          "name": "stdout",
          "text": [
            "--2023-03-28 17:05:25--  https://docs.google.com/uc?export=download&id=1Ze-vDx_cMr7iNkivv8LLhniEtp4RD1ug\n",
            "Resolving docs.google.com (docs.google.com)... 173.194.69.138, 173.194.69.102, 173.194.69.101, ...\n",
            "Connecting to docs.google.com (docs.google.com)|173.194.69.138|:443... connected.\n",
            "HTTP request sent, awaiting response... 303 See Other\n",
            "Location: https://doc-14-9o-docs.googleusercontent.com/docs/securesc/ha0ro937gcuc7l7deffksulhg5h7mbp1/qihlv5gg5hq6q7f75ltuscobo06hdv1t/1680023100000/09510815484399706520/*/1Ze-vDx_cMr7iNkivv8LLhniEtp4RD1ug?e=download&uuid=b10dbfbf-b795-4ad5-b78f-eaea9d37c0b3 [following]\n",
            "Warning: wildcards not supported in HTTP.\n",
            "--2023-03-28 17:05:25--  https://doc-14-9o-docs.googleusercontent.com/docs/securesc/ha0ro937gcuc7l7deffksulhg5h7mbp1/qihlv5gg5hq6q7f75ltuscobo06hdv1t/1680023100000/09510815484399706520/*/1Ze-vDx_cMr7iNkivv8LLhniEtp4RD1ug?e=download&uuid=b10dbfbf-b795-4ad5-b78f-eaea9d37c0b3\n",
            "Resolving doc-14-9o-docs.googleusercontent.com (doc-14-9o-docs.googleusercontent.com)... 108.177.119.132, 2a00:1450:4013:c00::84\n",
            "Connecting to doc-14-9o-docs.googleusercontent.com (doc-14-9o-docs.googleusercontent.com)|108.177.119.132|:443... connected.\n",
            "HTTP request sent, awaiting response... 200 OK\n",
            "Length: 2795856 (2.7M) [application/octet-stream]\n",
            "Saving to: ‘data_1b.pickle’\n",
            "\n",
            "data_1b.pickle      100%[===================>]   2.67M  --.-KB/s    in 0.02s   \n",
            "\n",
            "2023-03-28 17:05:25 (117 MB/s) - ‘data_1b.pickle’ saved [2795856/2795856]\n",
            "\n"
          ]
        }
      ],
      "source": [
        "!pip install networkx==3.0 -q\n",
        "!wget --no-check-certificate 'https://docs.google.com/uc?export=download&id=1Ze-vDx_cMr7iNkivv8LLhniEtp4RD1ug' -O data_1b.pickle"
      ]
    },
    {
      "cell_type": "code",
      "execution_count": 2,
      "metadata": {
        "id": "l1NdR_noi-Wv"
      },
      "outputs": [],
      "source": [
        "import pickle\n",
        "\n",
        "import matplotlib.pyplot as plt\n",
        "import numpy as np\n",
        "\n",
        "with open(\"data_1b.pickle\", \"rb\") as f:\n",
        "    data_1b = pickle.load(f)\n",
        "f.close()\n",
        "A_citation = data_1b['cit_graph']\n",
        "A_feature_pruned = data_1b['feat_graph']"
      ]
    },
    {
      "cell_type": "markdown",
      "metadata": {
        "id": "ypqiZkDqpA2j"
      },
      "source": [
        "## Section B: Network Models\n",
        "\n",
        "In this section, you will analyze the feature and citation graphs you constructed in the previous section in terms of the network model types.\n",
        "For this purpose, you can use the NetworkX libary imported below. **Notice** that the citation and features adjency matrices were given to you in the previous code block.  "
      ]
    },
    {
      "cell_type": "code",
      "execution_count": 3,
      "metadata": {
        "id": "JmopO_ynpA2k"
      },
      "outputs": [],
      "source": [
        "import networkx as nx"
      ]
    },
    {
      "cell_type": "markdown",
      "metadata": {
        "id": "_S4Tfk9LpA2k"
      },
      "source": [
        "The next cell creates NetworkX graph objects from the adjacency matrices computed in the previous section. "
      ]
    },
    {
      "cell_type": "code",
      "execution_count": 4,
      "metadata": {
        "colab": {
          "base_uri": "https://localhost:8080/"
        },
        "id": "qEtZo52kpA2k",
        "outputId": "aa31742d-08b9-403c-dd55-b905d469fe28"
      },
      "outputs": [
        {
          "output_type": "stream",
          "name": "stdout",
          "text": [
            "Number of nodes: 418, Number of edges: 827\n",
            "Number of self-loops: 0, Number of connected components: 16\n"
          ]
        }
      ],
      "source": [
        "G_citation = nx.from_numpy_array(A_citation)\n",
        "print('Number of nodes: {}, Number of edges: {}'. format(G_citation.number_of_nodes(), G_citation.number_of_edges()))\n",
        "print('Number of self-loops: {}, Number of connected components: {}'. format(nx.number_of_selfloops(G_citation), nx.number_connected_components(G_citation)))"
      ]
    },
    {
      "cell_type": "markdown",
      "metadata": {
        "id": "DLvCF7PupA2k"
      },
      "source": [
        "In the rest of this assignment, we will consider the pruned feature graph as the feature network."
      ]
    },
    {
      "cell_type": "code",
      "execution_count": 5,
      "metadata": {
        "colab": {
          "base_uri": "https://localhost:8080/"
        },
        "id": "otYyMSyrpA2k",
        "outputId": "102edc37-b1de-490c-ee34-6107a3ce170c"
      },
      "outputs": [
        {
          "output_type": "stream",
          "name": "stdout",
          "text": [
            "Number of nodes: 418, Number of edges: 2364\n",
            "Number of self-loops: 0, Number of connected components: 324\n"
          ]
        }
      ],
      "source": [
        "G_feature = nx.from_numpy_array(A_feature_pruned)\n",
        "print('Number of nodes: {}, Number of edges: {}'. format(G_feature.number_of_nodes(), G_feature.number_of_edges()))\n",
        "print('Number of self-loops: {}, Number of connected components: {}'. format(nx.number_of_selfloops(G_feature), nx.number_connected_components(G_feature)))"
      ]
    },
    {
      "cell_type": "markdown",
      "metadata": {
        "id": "5Q4SfbR5pA2k"
      },
      "source": [
        "### Question 5 [8pt]: Simulation with the Erdős–Rényi (ER) random model"
      ]
    },
    {
      "cell_type": "markdown",
      "metadata": {
        "id": "2u4zGEMrpA2k"
      },
      "source": [
        "Create an ER graph using NetworkX to simulate the citation graph and the feature graph you have. When choosing parameters for the networks, take into account the number of vertices and edges of the original networks.\n",
        "\n",
        "The number of nodes should exactly match the number of nodes in the original citation and feature graphs."
      ]
    },
    {
      "cell_type": "code",
      "execution_count": 6,
      "metadata": {
        "colab": {
          "base_uri": "https://localhost:8080/"
        },
        "id": "xJgO2LHYpA2k",
        "outputId": "c0c451ad-1bc0-4cb7-fd43-9be790a6201d"
      },
      "outputs": [
        {
          "output_type": "execute_result",
          "data": {
            "text/plain": [
              "418"
            ]
          },
          "metadata": {},
          "execution_count": 6
        }
      ],
      "source": [
        "assert len(G_citation.nodes()) == len(G_feature.nodes())\n",
        "n = len(G_citation.nodes())\n",
        "n"
      ]
    },
    {
      "cell_type": "markdown",
      "metadata": {
        "id": "t8YP2dyApA2k"
      },
      "source": [
        "We pick the number of links as the average of the number of edges in the citation and the feature graph."
      ]
    },
    {
      "cell_type": "code",
      "execution_count": 7,
      "metadata": {
        "colab": {
          "base_uri": "https://localhost:8080/"
        },
        "id": "iOp0dHljpA2k",
        "outputId": "b8f8767b-c69c-4a35-8a19-c668fb29638c"
      },
      "outputs": [
        {
          "output_type": "execute_result",
          "data": {
            "text/plain": [
              "1596.0"
            ]
          },
          "metadata": {},
          "execution_count": 7
        }
      ],
      "source": [
        "m = np.round((G_citation.size() + G_feature.size()) / 2)\n",
        "m"
      ]
    },
    {
      "cell_type": "markdown",
      "metadata": {
        "id": "1cwoXtUZpA2k"
      },
      "source": [
        "**5.1 [2pt]** Explain how to determine the probability parameter for the Erdős–Rényi graph and crate a sample graph with NetworkX"
      ]
    },
    {
      "cell_type": "markdown",
      "metadata": {
        "id": "sn8cz-vLpA2l"
      },
      "source": [
        "**Your answer here:** \n",
        "\n",
        "Given that we want an Erdös-Rényi graph that has $m$ links, we can find $p$ by re-arranging the terms in the equation for the expected number of links:\n",
        "\\begin{equation}\n",
        "\\langle L \\rangle = p \\frac{n (n-1)}{2}\n",
        "\\end{equation}  \n",
        " \n",
        "Setting $ \\langle L \\rangle = m $ gives :\n",
        "\\begin{equation}\n",
        "p = \\frac{2m}{n(n-1)}\n",
        "\\end{equation} \n"
      ]
    },
    {
      "cell_type": "code",
      "execution_count": 8,
      "metadata": {
        "id": "k8Bi6TJ1pA2l"
      },
      "outputs": [],
      "source": [
        "# Your solution here ###########################################################\n",
        "p = 2*m/(n*(n-1))\n",
        "#^^^^^^^^^^^^^^^^^^^^^^^^^^^^^^^^^^^^^^^^^^^^^^^^^^^^^^^^^^^^^^^^^^^^^^^^^^^^^^^\n",
        "G_er = nx.erdos_renyi_graph(n, p)"
      ]
    },
    {
      "cell_type": "markdown",
      "metadata": {
        "id": "BHdnG-B3pA2l"
      },
      "source": [
        "Check the number of edges in the Erdős–Rényi graph."
      ]
    },
    {
      "cell_type": "code",
      "execution_count": 9,
      "metadata": {
        "colab": {
          "base_uri": "https://localhost:8080/"
        },
        "id": "8Cqtu5RdpA2l",
        "outputId": "3a6864d4-921c-42c8-b96a-dda7711bfb91"
      },
      "outputs": [
        {
          "output_type": "stream",
          "name": "stdout",
          "text": [
            "My Erdos-Rényi network that simulates the citation graph has 1561 edges.\n"
          ]
        }
      ],
      "source": [
        "print('My Erdos-Rényi network that simulates the citation graph has {} edges.'.format(G_er.size()))"
      ]
    },
    {
      "cell_type": "markdown",
      "metadata": {
        "id": "G-g_5krspA2l"
      },
      "source": [
        "**5.2 [2pt]** Check the size of the largest connected component in the citation, feature, and Erdős–Rényi graphs."
      ]
    },
    {
      "cell_type": "code",
      "execution_count": 10,
      "metadata": {
        "colab": {
          "base_uri": "https://localhost:8080/"
        },
        "id": "ofef85F8pA2l",
        "outputId": "bb615d64-0b17-47a1-d144-bb0b3583c779"
      },
      "outputs": [
        {
          "output_type": "stream",
          "name": "stdout",
          "text": [
            "The giant component of the citation graph has 395 nodes and 818 edges.\n",
            "The giant component of the Erdos-Rényi network has 418 nodes and 1561 edges.\n",
            "The giant component of the feature graph has 82 nodes and 2351 edges.\n"
          ]
        }
      ],
      "source": [
        "# Your solution here ###########################################################\n",
        "giant_nodes    = max(nx.connected_components(G_citation), key=len)\n",
        "giant_citation = G_citation.subgraph(giant_nodes)\n",
        "\n",
        "\n",
        "giant_nodes   = max(nx.connected_components(G_feature), key=len)\n",
        "giant_feature = G_feature.subgraph(giant_nodes)\n",
        "\n",
        "\n",
        "giant_nodes = max(nx.connected_components(G_er), key=len)\n",
        "giant_er    = G_er.subgraph(giant_nodes)\n",
        "\n",
        "#^^^^^^^^^^^^^^^^^^^^^^^^^^^^^^^^^^^^^^^^^^^^^^^^^^^^^^^^^^^^^^^^^^^^^^^^^^^^^^^\n",
        "\n",
        "print('The giant component of the citation graph has {} nodes and {} edges.'.format(giant_citation.number_of_nodes(), giant_citation.size()))\n",
        "print('The giant component of the Erdos-Rényi network has {} nodes and {} edges.'.format(giant_er.number_of_nodes(), giant_er.size()))\n",
        "print('The giant component of the feature graph has {} nodes and {} edges.'.format(giant_feature.number_of_nodes(), giant_feature.size()))"
      ]
    },
    {
      "cell_type": "markdown",
      "metadata": {
        "id": "bmHH4qkQpA2m"
      },
      "source": [
        "**5.3 [2pt]** Simulate a new Erdős–Rényi network to match the number of nodes in the giant component of the feature graph.\n",
        "Explain how to choose the probability parameter in this setting.\n",
        "\n",
        "*Hint:* Recall the expected giant component size from the lectures."
      ]
    },
    {
      "cell_type": "markdown",
      "metadata": {
        "id": "PdL0Bo4jpA2m"
      },
      "source": [
        "**Your answer here:**  \n",
        "\n",
        "The evolution of the Giant Component size in an Erdös-Rényi graph given in the lecture (slide 22 from lecture on random graphs) and coursebook can be used to find the average degree of an ER graph with a giant component containing a given fraction of the nodes. In our case we want:  \n",
        "\n",
        "\\begin{equation} \n",
        "\\frac{N_G}{N} = \\frac{82}{418} = 0.196 \n",
        "\\end{equation}  \n",
        "\n",
        "From the GC size plot we get $ \\langle k \\rangle  \\approx 1.1 $. \n",
        "We also know that $ \\langle k \\rangle = p (N-1) $ leading to:  \n",
        "\n",
        "\\begin{equation} \n",
        "p_{new} = \\frac{1.1}{N-1} \n",
        "\\end{equation}"
      ]
    },
    {
      "cell_type": "code",
      "execution_count": 11,
      "metadata": {
        "id": "s-rhxehnpA2m"
      },
      "outputs": [],
      "source": [
        "# Your solution here ###########################################################\n",
        "p_new = 1.1/(n-1)\n",
        "#^^^^^^^^^^^^^^^^^^^^^^^^^^^^^^^^^^^^^^^^^^^^^^^^^^^^^^^^^^^^^^^^^^^^^^^^^^^^^^^\n",
        "\n",
        "G_er_new = nx.erdos_renyi_graph(n, p_new)"
      ]
    },
    {
      "cell_type": "markdown",
      "metadata": {
        "id": "FKGFC_gTpA2m"
      },
      "source": [
        "Check the size of the new Erdős–Rényi network and its giant component."
      ]
    },
    {
      "cell_type": "code",
      "execution_count": 12,
      "metadata": {
        "colab": {
          "base_uri": "https://localhost:8080/"
        },
        "id": "XyTfZXOXpA2m",
        "outputId": "55722b1f-1a38-44ad-adfd-298cffdc4a31"
      },
      "outputs": [
        {
          "output_type": "stream",
          "name": "stdout",
          "text": [
            "My new Erdos Renyi network that simulates the feature graph has 215 edges.\n",
            "The giant component of the new Erdos-Rényi network has 48 nodes and 49 edges.\n"
          ]
        }
      ],
      "source": [
        "print('My new Erdos Renyi network that simulates the feature graph has {} edges.'.format(G_er_new.size()))\n",
        "giant_er_new = G_er_new.subgraph(max(nx.connected_components(G_er_new), key=len)) # Your code here.\n",
        "print('The giant component of the new Erdos-Rényi network has {} nodes and {} edges.'.format(giant_er_new.number_of_nodes(), giant_er_new.size()))"
      ]
    },
    {
      "cell_type": "markdown",
      "metadata": {
        "id": "2wfJtI29mo9B"
      },
      "source": [
        "**5.4 [2 pt]** Is the new ER graph a good fit for the feature graph? Explain in terms of the size and density of the GC and overall graph. Remember that the feature graph in this section is a pruned version of the original dense graph.\n",
        " "
      ]
    },
    {
      "cell_type": "markdown",
      "metadata": {
        "id": "NoISgGS9Yen9"
      },
      "source": [
        "**Your answer here:** \n",
        "\n",
        "The size of the giant component of the feature graph and the Erdös-Renyi graph is more or less similar depending on the run (since building Erdös-Renyi is a random process). However, the density of the feature graph and its giant component (0.027 and 0.71, respectively) is much greater than the density of the new Erdös-Renyi graph and its giant component (generally less than 0.003 and 0.1, respectively). Considering that the feature graph is a pruned version (fewer edges than the original graph), the difference in density should be even greater between the new Erdös-Renyi graph and the original feature graph. Because of the difference in densities, the new Erdös-Renyi graph is not a good fit for the feature graph."
      ]
    },
    {
      "cell_type": "markdown",
      "metadata": {
        "id": "7WXWixudpA2m"
      },
      "source": [
        "### Question 6 [8pt]: Degree Distributions and configuration models"
      ]
    },
    {
      "cell_type": "markdown",
      "metadata": {
        "id": "XEgOCcIIpA2m"
      },
      "source": [
        "**6.1 [1pt]** Extract with NetworkX the degree distribution of the citation and the feature graph."
      ]
    },
    {
      "cell_type": "code",
      "execution_count": 13,
      "metadata": {
        "colab": {
          "base_uri": "https://localhost:8080/",
          "height": 390
        },
        "id": "kRfZklhepA2n",
        "outputId": "265068dd-56e0-444e-a698-695d85940ddb"
      },
      "outputs": [
        {
          "output_type": "display_data",
          "data": {
            "text/plain": [
              "<Figure size 1080x432 with 2 Axes>"
            ],
            "image/png": "[encoded data removed]"
          },
          "metadata": {
            "needs_background": "light"
          }
        }
      ],
      "source": [
        "# Your solution here ###########################################################\n",
        "citation_degrees = [G_citation.degree(i) for i in G_citation.nodes]\n",
        "feature_degrees  = [G_feature.degree(i) for i in G_feature.nodes]\n",
        "#^^^^^^^^^^^^^^^^^^^^^^^^^^^^^^^^^^^^^^^^^^^^^^^^^^^^^^^^^^^^^^^^^^^^^^^^^^^^^^^\n",
        "\n",
        "fig, axes = plt.subplots(1, 2, figsize=(15, 6))\n",
        "axes[0].set_title('Citation graph')\n",
        "axes[0].hist(citation_degrees);\n",
        "axes[1].set_title('Feature graph')\n",
        "axes[1].hist(feature_degrees);"
      ]
    },
    {
      "cell_type": "markdown",
      "metadata": {
        "id": "lpeoy65GpA2n"
      },
      "source": [
        "**6.2 [2pt]** Explain what the degree distribution tell us about a network. Then, discuss how to make a prediction on the network model type of the citation and the feature graph by looking at their degree distributions."
      ]
    },
    {
      "cell_type": "markdown",
      "metadata": {
        "id": "uaV76WGzpA2n"
      },
      "source": [
        "**Your answer here:** \n",
        "\n",
        "The degree distribution tells us how many nodes have each degree. In an Erdös-Renyi graph, most nodes have similar degrees, whereas, in real networks, such as the citation and feature graphs, we often see some nodes having much larger degrees than the rest of the nodes. Such degree distributions are often called fat-tailed; it indicates the presence of hubs in the network. These degree distributions can be fit through a power law and indicate a scale-free property. Some models, such as the Barabasi-Albert (BA) model, can generate networks with a scale-free property and, thus, fat-tail degree distributions. This indicates that the BA model could fit the citation and feature graphs well regarding degree distribution."
      ]
    },
    {
      "cell_type": "markdown",
      "metadata": {
        "id": "jDYpjrhFpA2n"
      },
      "source": [
        "**6.3 [1pt]** Simulate a network using the configuration model to match the degree distribution of the feature exactly. Refer to [Configuration model](https://networkx.github.io/documentation/stable/reference/generated/networkx.generators.degree_seq.configuration_model.html#networkx.generators.degree_seq.configuration_model).\n"
      ]
    },
    {
      "cell_type": "code",
      "execution_count": 14,
      "metadata": {
        "colab": {
          "base_uri": "https://localhost:8080/"
        },
        "id": "FS_SUGS_pA2n",
        "outputId": "1c0a0605-30e8-4dc2-d84b-683d53f4854f"
      },
      "outputs": [
        {
          "output_type": "stream",
          "name": "stdout",
          "text": [
            "Configuration model has 418 nodes and 2364 edges.\n",
            "Feature model has 418 nodes and 2364 edges.\n"
          ]
        }
      ],
      "source": [
        "# Your solution here ###########################################################\n",
        "\n",
        "G_config = nx.configuration_model(feature_degrees)\n",
        "\n",
        "#^^^^^^^^^^^^^^^^^^^^^^^^^^^^^^^^^^^^^^^^^^^^^^^^^^^^^^^^^^^^^^^^^^^^^^^^^^^^^^^\n",
        "print('Configuration model has {} nodes and {} edges.'.format(G_config.number_of_nodes(), G_config.size()))\n",
        "print('Feature model has {} nodes and {} edges.'.format(G_feature.number_of_nodes(), G_feature.size()))"
      ]
    },
    {
      "cell_type": "markdown",
      "metadata": {
        "id": "q086WrWlpA2n"
      },
      "source": [
        "**6.4 [2pt]** Explain if the graph generated by the configuration model is identical to the feature graph. If not, motivate how to understand if they are not the same.\n",
        "\n",
        "In both case, verify your answer with a code."
      ]
    },
    {
      "cell_type": "markdown",
      "metadata": {
        "id": "TbpsBkzBpA2n"
      },
      "source": [
        "**Your answer here:** \n",
        "\n",
        "The configuration model will rewire the links while keeping the same degree for each node. Some properties, such as the number of nodes and edges and the degree distribution, will remain the same. Nevertheless, the degree distribution does not contain all the information about the graph; some properties can thus change, such as the size of the giant component, the number of self-loops or the global efficiency."
      ]
    },
    {
      "cell_type": "code",
      "execution_count": 15,
      "metadata": {
        "colab": {
          "base_uri": "https://localhost:8080/"
        },
        "id": "neG--W1gJgos",
        "outputId": "d5b61eb1-2d14-49c6-a061-6fc7a35fa082"
      },
      "outputs": [
        {
          "output_type": "stream",
          "name": "stdout",
          "text": [
            "\n",
            "\n",
            "\u001b[4mDifferent properties\u001b[0m (feature -- configurated)\n",
            "Giant component size: 82 -- 108\n",
            "Number of self-loops: 0 -- 32\n",
            "Global efficiency: 0.03262461800894207 -- 0.039204999636653415\n"
          ]
        }
      ],
      "source": [
        "# Your solution here ###########################################################\n",
        "giant_feature = len(max(nx.connected_components(G_feature), key=len))\n",
        "giant_config  = len(max(nx.connected_components(G_config), key=len))\n",
        "selfloops_feature  = int(np.sum([1 for i in G_feature.edges if i[0]==i[1]]))\n",
        "selfloops_config   = int(np.sum([1 for i in G_config.edges if i[0]==i[1]]))\n",
        "GE_feature = nx.global_efficiency(G_feature)\n",
        "GE_config = nx.global_efficiency(G_config)\n",
        "\n",
        "print('\\n\\n\\033[4mDifferent properties\\033[0m (feature -- configurated)')\n",
        "print(f'Giant component size: {giant_feature} -- {giant_config}')\n",
        "print(f'Number of self-loops: {selfloops_feature} -- {selfloops_config}')\n",
        "print(f'Global efficiency: {GE_feature} -- {GE_config}')\n",
        "\n",
        "\n",
        "#^^^^^^^^^^^^^^^^^^^^^^^^^^^^^^^^^^^^^^^^^^^^^^^^^^^^^^^^^^^^^^^^^^^^^^^^^^^^^^^"
      ]
    },
    {
      "cell_type": "markdown",
      "metadata": {
        "id": "jHAB38jptc4m"
      },
      "source": [
        "**6.5 [2pt]** Which alternative model would you choose to match the degree distribution of the original network while mainitaining some structural similarities? "
      ]
    },
    {
      "cell_type": "markdown",
      "metadata": {
        "id": "h7r4PQvCuLAI"
      },
      "source": [
        "**Your answer here:**\n",
        "\n",
        "A hidden parameter model generates a scale-free network that has no self-loops or multi-links and preserves the degree distribution. This could fit our original network better than the configuration model as it does not contain self-loops or multi-links."
      ]
    },
    {
      "cell_type": "markdown",
      "metadata": {
        "id": "xWBVAfiFpA2n"
      },
      "source": [
        "### Question 7 [11pt]: Clustering Coefficient and Watts-Strogatz model"
      ]
    },
    {
      "cell_type": "markdown",
      "metadata": {
        "id": "zo5Xsa82pA2n"
      },
      "source": [
        "Let us check the average clustering coefficient of the original citation and feature graphs. "
      ]
    },
    {
      "cell_type": "code",
      "execution_count": 16,
      "metadata": {
        "colab": {
          "base_uri": "https://localhost:8080/"
        },
        "id": "G9fG1MVvpA2o",
        "outputId": "7d58350b-7726-46c3-f370-9758f19b0356"
      },
      "outputs": [
        {
          "output_type": "stream",
          "name": "stdout",
          "text": [
            "Clustering coefficient of citation graph: 0.31318396750074196\n",
            "Clustering coefficient of feature graph: 0.17909022944594014\n"
          ]
        }
      ],
      "source": [
        "CC_cit = nx.average_clustering(G_citation)\n",
        "CC_feat = nx.average_clustering(G_feature)\n",
        "print(\"Clustering coefficient of citation graph:\", CC_cit)\n",
        "print(\"Clustering coefficient of feature graph:\", CC_feat)"
      ]
    },
    {
      "cell_type": "markdown",
      "metadata": {
        "id": "dH8aUu231OJ-"
      },
      "source": [
        "Let's compare it with the ER random netwrok model:"
      ]
    },
    {
      "cell_type": "code",
      "execution_count": 17,
      "metadata": {
        "colab": {
          "base_uri": "https://localhost:8080/"
        },
        "id": "76qYRROf1UjP",
        "outputId": "3e1c6ac0-f748-49b4-e93e-dfd19fd6e22f"
      },
      "outputs": [
        {
          "output_type": "stream",
          "name": "stdout",
          "text": [
            "Clustering coefficient of ER graph 0.015507469982561436\n"
          ]
        }
      ],
      "source": [
        "print(\"Clustering coefficient of ER graph\", nx.average_clustering(G_er))"
      ]
    },
    {
      "cell_type": "markdown",
      "metadata": {
        "id": "qSbqq7zkpA2o"
      },
      "source": [
        "**7.1 [2pt]** Explain what the clustering coefficient tell us about a network. Comment on how it compares to the random model."
      ]
    },
    {
      "cell_type": "markdown",
      "metadata": {
        "id": "RaaT0m6npA2o"
      },
      "source": [
        "**Your answer here:** \n",
        "\n",
        "The clustering coefficient tells us how nodes in a network tend to cluster together. A high clustering coefficient indicates that nodes form highly interconnected clusters in the graph. Random models have low clustering coefficients compared to real-world networks. "
      ]
    },
    {
      "cell_type": "markdown",
      "metadata": {
        "id": "gpbTKCnvdi0y"
      },
      "source": [
        "**7.2 [2pt]** In order to model the relatively high cluster coefficient of the **citation** graph while still maintaining the \"small world\" feature you will now create a Watts-Strogatz (WS) graph to fit the citation graph. First, set the regularity parameter $k$ Explain your choice."
      ]
    },
    {
      "cell_type": "markdown",
      "metadata": {
        "id": "uGlBkQtEiF4P"
      },
      "source": [
        "**Your answer here:**\n",
        "\n",
        "The regularity parameter defines how many neighbors each node is linked to at the initialization of the model. We select this parameter such that the total number of links in the Watts-Strogatz (WS) graph equals the total number of links in the citation graph. The total number of links in the WS graph is:\n",
        " $ L_{WS} = \\frac{k_{cit} \\times n}{2}$. Which gives $k_{cit} = \\frac{2 \\times L_{WS}}{n} $. We replace $L_{WS}$ by the number of links in the citation graph since we want these two to be equal."
      ]
    },
    {
      "cell_type": "code",
      "execution_count": 18,
      "metadata": {
        "id": "mssVCPfdl1V3"
      },
      "outputs": [],
      "source": [
        "# Your solution here ###########################################################\n",
        "\n",
        "k_cit = np.round(2*G_citation.number_of_edges()/n).astype(int)\n",
        "\n",
        "#^^^^^^^^^^^^^^^^^^^^^^^^^^^^^^^^^^^^^^^^^^^^^^^^^^^^^^^^^^^^^^^^^^^^^^^^^^^^^^^"
      ]
    },
    {
      "cell_type": "markdown",
      "metadata": {
        "id": "wdbFSpSL9ILZ"
      },
      "source": [
        "**7.3 [3pt]** In order to select the optimal randomness parameter $p$ of the WS model we should monitor the clustering coefficient (CC) of the model with respect to $p$. Explain what other property should be monitored. Write a code that create WS networks with values of $p$ from $0$ to $1$ and plot the values of the CC and the other parameter with respect to p.\n",
        "\n",
        "*Note*: plot the x axis in decimal and logarithmic scale and scale the values of the properties by the value at $p=0$. Make sure to select enough points for $p$ in thr range $[0,1]$"
      ]
    },
    {
      "cell_type": "markdown",
      "metadata": {
        "id": "mYjh7Z0CDr46"
      },
      "source": [
        "**Your answer here:**\n",
        "\n",
        "The second fundamental property of a small-world network is the average shortest path length. It indicates distances in the network and should be small to be considered small-world."
      ]
    },
    {
      "cell_type": "code",
      "execution_count": 19,
      "metadata": {
        "colab": {
          "base_uri": "https://localhost:8080/",
          "height": 338
        },
        "id": "T3Ra74uKiTof",
        "outputId": "73f07202-4c60-4b12-b40e-248b366d718a"
      },
      "outputs": [
        {
          "output_type": "display_data",
          "data": {
            "text/plain": [
              "<Figure size 1080x360 with 2 Axes>"
            ],
            "image/png": "[encoded data removed]"
          },
          "metadata": {
            "needs_background": "light"
          }
        }
      ],
      "source": [
        "# Your solution here ###########################################################\n",
        "probs = np.geomspace(0.0001,1, 30)\n",
        "CCs   = []\n",
        "Ls    = []\n",
        "\n",
        "\n",
        "# Initial clustering and average short path\n",
        "G  = nx.watts_strogatz_graph(n=n, k=k_cit, p=0)\n",
        "C0 = nx.average_clustering(G)\n",
        "L0 = nx.average_shortest_path_length(G)\n",
        "\n",
        "for p in probs:\n",
        " G = nx.watts_strogatz_graph(n=n, k=k_cit, p=p)\n",
        " CCs.append(nx.average_clustering(G)/C0)\n",
        " Ls.append(nx.average_shortest_path_length(G)/L0)\n",
        "\n",
        "fig, axs = plt.subplots(1,2, figsize=(15,5))\n",
        "axs[0].plot(probs,CCs)\n",
        "axs[0].plot(probs,Ls)\n",
        "axs[0].legend(['C(p)/C(0)', 'D(p)/D(0)'])\n",
        "axs[0].set_xlabel('p')\n",
        "axs[0].grid()\n",
        "\n",
        "axs[1].plot(probs,CCs)\n",
        "axs[1].plot(probs,Ls)\n",
        "axs[1].legend(['C(p)/C(0)', 'D(p)/D(0)'])\n",
        "axs[1].set_xlabel('p')\n",
        "axs[1].set_xscale('log')\n",
        "axs[1].grid()\n",
        "#^^^^^^^^^^^^^^^^^^^^^^^^^^^^^^^^^^^^^^^^^^^^^^^^^^^^^^^^^^^^^^^^^^^^^^^^^^^^^^^"
      ]
    },
    {
      "cell_type": "markdown",
      "metadata": {
        "id": "SbUVQfxSK1PX"
      },
      "source": [
        "**7.4 [3pt]** Compute the values of the monitored properties of the real citation graph and scale them by the corresponding values of the WS models at $p=0$. Which $p$ whould you select? Explain and generate the model with the chosen parameters. \n",
        "\n",
        "*Hint*: Notice the connected components of citation graph for the computaion of the other property. "
      ]
    },
    {
      "cell_type": "code",
      "execution_count": 20,
      "metadata": {
        "colab": {
          "base_uri": "https://localhost:8080/"
        },
        "id": "Ev9pfN65MEFK",
        "outputId": "696bd4c1-821c-4e14-a7d2-18f2f56f2b9d"
      },
      "outputs": [
        {
          "output_type": "stream",
          "name": "stdout",
          "text": [
            "Normalized clustering coefficient of the citation graph: 0.6263679350014839\n",
            "Normalized average shortest path length of citation graph giant component: 0.06757467641169539\n",
            "Normalized clustering coefficient of G_ws: 0.5396901344269768\n",
            "Normalized average shortest path length of G_ws: 0.11294460596903307\n"
          ]
        }
      ],
      "source": [
        "# Your solution here ###########################################################\n",
        "L_cit  = nx.average_shortest_path_length(giant_citation)\n",
        "\n",
        "\n",
        "print(f'Normalized clustering coefficient of the citation graph: {CC_cit/C0}')\n",
        "print(f'Normalized average shortest path length of citation graph giant component: {L_cit/L0}')\n",
        "\n",
        "\n",
        "G_ws = nx.watts_strogatz_graph(n=n, k=k_cit, p=0.2)\n",
        "CC   = nx.average_clustering(G_ws)\n",
        "L    = nx.average_shortest_path_length(G_ws)\n",
        "\n",
        "\n",
        "print(f'Normalized clustering coefficient of G_ws: {CC/C0}')\n",
        "print(f'Normalized average shortest path length of G_ws: {L/L0}')\n",
        "#^^^^^^^^^^^^^^^^^^^^^^^^^^^^^^^^^^^^^^^^^^^^^^^^^^^^^^^^^^^^^^^^^^^^^^^^^^^^^^^"
      ]
    },
    {
      "cell_type": "markdown",
      "metadata": {
        "id": "kF9mQdQkkOYp"
      },
      "source": [
        "**Your answer here:**\n",
        "\n",
        "We select $p$ according to our plot, such that the clustering coefficient is high while the average shortest path length is low. More precisely, we want these two values to be as close as possible to those for the citation graph. The ideal $p$ given these constraints is around $0.2$."
      ]
    },
    {
      "cell_type": "markdown",
      "metadata": {
        "id": "1SDApXpgmTld"
      },
      "source": [
        "**7.5 [1pt]** Explain whether the Watts-Strogatz model provides a good fit for the feature graph.\n",
        "\n",
        "*Hint*: Remember that the feature graph in this section is a pruned version. "
      ]
    },
    {
      "cell_type": "markdown",
      "metadata": {
        "id": "11oaXUt7pxUU"
      },
      "source": [
        "**Your answer here:**\n",
        "\n",
        "Only looking at the clustering coefficient, the WS graph is quite similar to the feature graph. However, if we look in more details at the feature graph, we see that it contains over 300 disconnected nodes. This is highly incompatible with the small-world properties of the WS graph."
      ]
    },
    {
      "cell_type": "markdown",
      "metadata": {
        "id": "IldloL9GC_dp"
      },
      "source": [
        "### Question 8 [8pt]: Comparison to Barabási-Albert (BA) model"
      ]
    },
    {
      "cell_type": "markdown",
      "metadata": {
        "id": "K1AZ_mzApA2l"
      },
      "source": [
        "**8.1 [2pt]** Explain how to determine the preferential attachment parameter for Barabási–Albert graphs. Define $q$ and build the BA graph. "
      ]
    },
    {
      "cell_type": "markdown",
      "metadata": {
        "id": "0WHkOrSnpA2l"
      },
      "source": [
        "**Your answer here:** \n",
        "\n",
        "Neglecting $m_0$, the number of links in a BA graph equals $q \\times n$, since there are $q$ edges added at each step. In order to have a similar number of edges in the BA graph as there are in the citation graph, we compute $q$ as follows :\n",
        "\n",
        "$$\n",
        "q = \\frac{L_{citation}}{n}\n",
        "$$"
      ]
    },
    {
      "cell_type": "code",
      "execution_count": 21,
      "metadata": {
        "colab": {
          "base_uri": "https://localhost:8080/"
        },
        "id": "bI-ZNkaTpA2l",
        "outputId": "73031359-1350-4617-bdf0-802bdfc68342"
      },
      "outputs": [
        {
          "output_type": "stream",
          "name": "stdout",
          "text": [
            "2\n"
          ]
        }
      ],
      "source": [
        "# Your solution here ###########################################################\n",
        "\n",
        "q = round(G_citation.number_of_edges()/n)\n",
        "print(q)\n",
        "\n",
        "#^^^^^^^^^^^^^^^^^^^^^^^^^^^^^^^^^^^^^^^^^^^^^^^^^^^^^^^^^^^^^^^^^^^^^^^^^^^^^^^\n",
        "G_ba = nx.barabasi_albert_graph(n, q)"
      ]
    },
    {
      "cell_type": "markdown",
      "metadata": {
        "id": "07jvDxU4pA2l"
      },
      "source": [
        "Check the number of edges in the Barabási–Albert graph."
      ]
    },
    {
      "cell_type": "code",
      "execution_count": 22,
      "metadata": {
        "colab": {
          "base_uri": "https://localhost:8080/"
        },
        "id": "t5y-GHNRpA2l",
        "outputId": "22ff773a-7ed6-4592-ed95-d641fdaf456a"
      },
      "outputs": [
        {
          "output_type": "stream",
          "name": "stdout",
          "text": [
            "My Barabási-Albert network that simulates the citation graph has 832 edges.\n"
          ]
        }
      ],
      "source": [
        "print('My Barabási-Albert network that simulates the citation graph has {} edges.'.format(G_ba.size()))"
      ]
    },
    {
      "cell_type": "markdown",
      "metadata": {
        "id": "_i5LymqiUc8x"
      },
      "source": [
        "**8.2 [2pt]** Plot the degree distribution histograms for the simulated networks (ER, BA, Configuration, WS)."
      ]
    },
    {
      "cell_type": "code",
      "execution_count": 23,
      "metadata": {
        "colab": {
          "base_uri": "https://localhost:8080/",
          "height": 390
        },
        "id": "-mrO0_zFUc8x",
        "outputId": "0047af6b-f3ef-4958-d67d-dd3748163fdd"
      },
      "outputs": [
        {
          "output_type": "display_data",
          "data": {
            "text/plain": [
              "<Figure size 1080x432 with 4 Axes>"
            ],
            "image/png": "[encoded data removed]"
          },
          "metadata": {
            "needs_background": "light"
          }
        }
      ],
      "source": [
        "# Your solution here ###########################################################\n",
        "er_degrees = [G_er.degree(i) for i in G_er.nodes]\n",
        "ba_degrees = [G_ba.degree(i) for i in G_ba.nodes]\n",
        "config_degrees = [G_config.degree(i) for i in G_config.nodes]\n",
        "ws_degrees = [G_ws.degree(i) for i in G_ws.nodes]\n",
        "#^^^^^^^^^^^^^^^^^^^^^^^^^^^^^^^^^^^^^^^^^^^^^^^^^^^^^^^^^^^^^^^^^^^^^^^^^^^^^^^\n",
        "\n",
        "fig, axes = plt.subplots(2, 2, figsize=(15, 6))\n",
        "\n",
        "bins = np.arange(20)\n",
        "axes[0,0].set_title('Erdos-Rényi network')\n",
        "axes[0,0].hist(er_degrees, bins=bins)\n",
        "axes[0,1].set_title('Barabási-Albert network')\n",
        "axes[0,1].hist(ba_degrees, bins=bins)\n",
        "axes[1,0].set_title('Configuration model')\n",
        "axes[1,0].hist(config_degrees, bins=bins)\n",
        "axes[1,1].set_title('Watts-Strogatz model')\n",
        "axes[1,1].hist(ws_degrees, bins=bins)\n",
        "plt.show()"
      ]
    },
    {
      "cell_type": "markdown",
      "metadata": {
        "id": "GaSpQ7znUzOR"
      },
      "source": [
        "**8.3 [2pt]** Explain, in terms of the degree distribution, whether there is a good match between the citation and feature graphs and the simulated networks.\n",
        "For the citation graph, choose one of the simulated networks above that match its degree distribution best and indicate your preference below."
      ]
    },
    {
      "cell_type": "markdown",
      "metadata": {
        "id": "56jSKLhYUzOR"
      },
      "source": [
        "**Your answer here:**\n",
        "\n",
        "The ER and WS networks both result in Poisson degree distributions that do not match our real networks. \n",
        "In the case of the feature graph, the configuration model is the best fit in terms of degree distribution as it is an exact match by design.\n",
        "\n",
        "The BA network results in a power law distribution that can account for the high degree node(s) present in the citation graph and feature graph. However, due to the fact that new nodes in the BA model are added with 2 edges, all nodes have a degree of 2 or higher. On the other hand, the majority of nodes in the citation graph have a single edge. \n",
        "\n",
        "Despite its differences, the BA model remains the best fit for the citation graph in terms of degree distribution.\n"
      ]
    },
    {
      "cell_type": "markdown",
      "metadata": {
        "id": "-kLiLm9kpA2o"
      },
      "source": [
        "Now, let us check the average clustering coefficient for the simulated networks."
      ]
    },
    {
      "cell_type": "code",
      "execution_count": 24,
      "metadata": {
        "colab": {
          "base_uri": "https://localhost:8080/"
        },
        "id": "a3eyBdOzpA2o",
        "outputId": "2f26069d-8ed8-4c3b-960f-db36fcc29cd5"
      },
      "outputs": [
        {
          "output_type": "stream",
          "name": "stdout",
          "text": [
            "Erdos-Renyi clustering coefficient: 0.015507469982561436\n",
            "Barabasi-Albert clustering coefficient: 0.04804777141527101\n",
            "Configuration model clustering coefficient: 0.10631203426093011\n",
            "Watts-Strogatz model clustering coefficient: 0.2698450672134884\n"
          ]
        }
      ],
      "source": [
        "print(\"Erdos-Renyi clustering coefficient:\", nx.average_clustering(G_er))\n",
        "print(\"Barabasi-Albert clustering coefficient:\", nx.average_clustering(G_ba))\n",
        "print(\"Configuration model clustering coefficient:\", nx.average_clustering(nx.Graph(G_config)))\n",
        "print(\"Watts-Strogatz model clustering coefficient:\", nx.average_clustering(G_ws))"
      ]
    },
    {
      "cell_type": "markdown",
      "metadata": {
        "id": "m3tQ2KllpA2o"
      },
      "source": [
        "**8.4 [2pt]** Comment on the values you obtain for the simulated networks. Motivate if there is any good match to the citation or feature graph in terms of clustering coefficient."
      ]
    },
    {
      "cell_type": "markdown",
      "metadata": {
        "id": "usIF1fXopA2o"
      },
      "source": [
        "**Your answer here:**\n",
        "\n",
        "The WS graph has the highest clustering coefficient as it is designed to model small-world networks, while the clustering coefficients of the other models are very low in comparison. The clustering coefficient value is close to that of the citation graph; in this regard, WS is a good match."
      ]
    },
    {
      "cell_type": "markdown",
      "metadata": {
        "id": "cak9n_eD4pSn"
      },
      "source": [
        "### Question 9 [13pt]: Network generating process\n",
        "\n",
        "In this question we will design a network formation model for the directed citation graph, considering it as a growth process."
      ]
    },
    {
      "cell_type": "markdown",
      "metadata": {
        "id": "DMFFZBDMjXjx"
      },
      "source": [
        "**9.1 [3pt]** Supposing that authors know all papers in their field at any time, how can we model their choice to cite each of them?"
      ]
    },
    {
      "cell_type": "markdown",
      "metadata": {
        "id": "hVIir53Abcif"
      },
      "source": [
        "**Your answer here:**\n",
        "\n",
        "If the authors know all papers at all times, then they can choose the optimal citation each time a new paper is written. We can imitate this behaviour using an optimization model. The principle is to define a cost function and link a new node so that the cost function is minimal. Reference [1] uses the following cost: \n",
        "\n",
        "$$\n",
        "cost = \\alpha \\times d_{ij} + h_j\n",
        "$$\n",
        "\n",
        "Where $d_{ij}$ is the euclidean distance between the new node and node j, and $h_j$ is a measure of the centrality of node j. $\\alpha$ is a parameter to weigh the importance of the euclidean distance relative to the centrality measure.\n",
        "\n",
        "The papers must be quantifiable to measure distances between them, as they were in part A of the assignment when we had a feature matrix. Before the growth process, we initialize a random feature matrix representing a similar feature matrix as part A but for a fictitious scientific field.\n",
        "\n",
        "For this exercise, we chose as a measure of the centrality the shortest path length to the first node (similar to [1]). The main reason for this choice is that it reduces computational costs. Nevertheless, one can also justify that choice by saying that the first paper of a field is usually a critical breakthrough of that field, and new papers will most likely revolve around that breakthrough.\n",
        "\n",
        "[1] Fabrikant, A., Koutsoupias, E., & Papadimitriou, C. H. (2002). Heuristically optimized trade-offs: A new paradigm for power laws in the internet. In Automata, Languages and Programming: 29th International Colloquium, ICALP 2002 Málaga, Spain, July 8–13, 2002 Proceedings 29 (pp. 110-122). Springer Berlin Heidelberg."
      ]
    },
    {
      "cell_type": "markdown",
      "metadata": {
        "id": "3fGZNX85jKtq"
      },
      "source": [
        "**9.2 [5pt]** Define a function that takes as input the number of nodes $n$ and any other parameter you identified. This function iteratively grows a graph on $n$ nodes based on the formation model that you described in 9.1. You can add all additional arguments that you need."
      ]
    },
    {
      "cell_type": "code",
      "execution_count": 25,
      "metadata": {
        "id": "yNC2_MEnobSA"
      },
      "outputs": [],
      "source": [
        "# Your solution here ###########################################################\n",
        "def my_formation_model(n_nodes: int, alpha):\n",
        "  ''' Generate graph using the optimisation model\n",
        "  Description: Nodes are added such that the cost function is minimized. \n",
        "  Cost function: alpha * dij + hj\n",
        "  alpha : float - parameter giving the importance of dij\n",
        "  dij   : float - euclidean distance between new node i and node j\n",
        "  hj    : float - measure of centrality -> shortest path to central (=first) node\n",
        "\n",
        "  INPUT\n",
        "  -----\n",
        "    n_nodes: int - number of nodes in the model\n",
        "    alpha  : float - parameter for cost function\n",
        "\n",
        "  OUTPUT\n",
        "  ------\n",
        "    numpy array - adjacency matrix\n",
        "  '''\n",
        "\n",
        "  # Initialize graph and features (for euclidean distances)\n",
        "  G    = nx.DiGraph()\n",
        "  feat = np.random.rand(n_nodes, 5)\n",
        "  H    = np.zeros(n_nodes)                    # stores all shortest path length to central node\n",
        "\n",
        "  # Each new node makes two links so we start with two nodes\n",
        "  G.add_node(0)\n",
        "  G.add_edge(1,0)\n",
        "  H[1] = nx.shortest_path_length(G,1,0)\n",
        "\n",
        "  # Add nodes\n",
        "  for i in range(2, n_nodes):\n",
        "\n",
        "    # Find the two target nodes having minimum cost\n",
        "    centralities = H[:i]                                              # only select nodes that are not yet in graph (so before i with respect to H and feat)\n",
        "    distances    = np.linalg.norm(feat[:i, :]-feat[i], axis=1)\n",
        "    costs        = alpha * distances + centralities\n",
        "    targets      = np.argsort(costs)[:2]\n",
        "\n",
        "    # Add new node with link to target\n",
        "    for t in targets:\n",
        "      G.add_edge(i, t)\n",
        "\n",
        "    # Add centrality of latest node to H\n",
        "    H[i] = nx.shortest_path_length(G, i, 0)\n",
        "\n",
        "  return nx.adjacency_matrix(G)\n",
        "\n",
        "A_mymodel = my_formation_model(A_citation.shape[0], 100)              # alpha was selected after various trials\n",
        "\n",
        "#^^^^^^^^^^^^^^^^^^^^^^^^^^^^^^^^^^^^^^^^^^^^^^^^^^^^^^^^^^^^^^^^^^^^^^^^^^^^^^^\n"
      ]
    },
    {
      "cell_type": "markdown",
      "metadata": {
        "id": "elGVygOZug-0"
      },
      "source": [
        "**9.3 [1pt]** Check wether your graph is directed. If it is, make it undirected."
      ]
    },
    {
      "cell_type": "code",
      "execution_count": 26,
      "metadata": {
        "id": "gLVcf9PfuwkU"
      },
      "outputs": [],
      "source": [
        "# Your solution here ###########################################################\n",
        "\n",
        "A_mymodel = ((A_mymodel + A_mymodel.T) > 0).astype(int)\n",
        "\n",
        "#^^^^^^^^^^^^^^^^^^^^^^^^^^^^^^^^^^^^^^^^^^^^^^^^^^^^^^^^^^^^^^^^^^^^^^^^^^^^^^^"
      ]
    },
    {
      "cell_type": "markdown",
      "metadata": {
        "id": "xoiPypnWeTjb"
      },
      "source": [
        "**9.4 [2pt]** Compare the degree distributions of the citation graph and yours, then tune the paramters of your model to have a similar distribution."
      ]
    },
    {
      "cell_type": "code",
      "execution_count": 27,
      "metadata": {
        "colab": {
          "base_uri": "https://localhost:8080/",
          "height": 281
        },
        "id": "7O_FsodYe5eP",
        "outputId": "ca19699d-32ef-431b-9532-c659c3a5aafc"
      },
      "outputs": [
        {
          "output_type": "display_data",
          "data": {
            "text/plain": [
              "<Figure size 1080x288 with 2 Axes>"
            ],
            "image/png": "[encoded data removed]"
          },
          "metadata": {
            "needs_background": "light"
          }
        }
      ],
      "source": [
        "# Your solution here ###########################################################\n",
        "\n",
        "degrees_citation = np.sum(A_citation, axis=0)\n",
        "degrees_mymodel  = np.sum(A_mymodel, axis=0)\n",
        "\n",
        "#^^^^^^^^^^^^^^^^^^^^^^^^^^^^^^^^^^^^^^^^^^^^^^^^^^^^^^^^^^^^^^^^^^^^^^^^^^^^^^^\n",
        "\n",
        "fig, ax = plt.subplots(1, 2, figsize=(15, 4))\n",
        "\n",
        "ax[0].set(title=\"Out-degree citation\")\n",
        "ax[0].hist(degrees_citation, bins=np.arange(15))\n",
        "\n",
        "ax[1].set(title=\"Out-degree my_model\")\n",
        "ax[1].hist(degrees_mymodel, bins=np.arange(15))\n",
        "\n",
        "plt.show()"
      ]
    },
    {
      "cell_type": "markdown",
      "metadata": {
        "id": "DGWM1sEGx3Sg"
      },
      "source": [
        "**9.5 [2pt]** Compute and print the following metrics:\n",
        "- Number of edges\n",
        "- Giant component size and number of edges\n",
        "- Clustering coefficient"
      ]
    },
    {
      "cell_type": "code",
      "execution_count": 28,
      "metadata": {
        "colab": {
          "base_uri": "https://localhost:8080/"
        },
        "id": "1fBAnAybx2q2",
        "outputId": "7cb82a40-3961-4dbd-a7bb-7b48138456b7"
      },
      "outputs": [
        {
          "output_type": "stream",
          "name": "stdout",
          "text": [
            "My model network that simulates the citation graph has 833 edges.\n",
            "The giant component of my model network has 418 nodes and 833 edges.\n",
            "The average clustering coefficient of my model network is 0.35050606233057663.\n"
          ]
        }
      ],
      "source": [
        "# Your solution here ###########################################################\n",
        "\n",
        "G_mymodel = nx.from_numpy_array(A_mymodel)\n",
        "print('My model network that simulates the citation graph has {} edges.'.format(G_mymodel.size()))\n",
        "giant_mymodel = G_mymodel.subgraph(max(nx.connected_components(G_mymodel), key=len)) # Your code here.\n",
        "print('The giant component of my model network has {} nodes and {} edges.'.format(giant_mymodel.number_of_nodes(), giant_mymodel.size()))\n",
        "print('The average clustering coefficient of my model network is {}.'.format(nx.average_clustering(G_mymodel)))\n",
        "\n",
        "#^^^^^^^^^^^^^^^^^^^^^^^^^^^^^^^^^^^^^^^^^^^^^^^^^^^^^^^^^^^^^^^^^^^^^^^^^^^^^^^\n"
      ]
    },
    {
      "cell_type": "markdown",
      "metadata": {
        "id": "TE6ARs-tauPh"
      },
      "source": [
        "### Question 10 [4pt]: Putting it all together\n",
        "\n",
        "It is time to identify the best models for our graphs."
      ]
    },
    {
      "cell_type": "markdown",
      "metadata": {
        "id": "w2LcelhLyFwg"
      },
      "source": [
        "**10.1 [4pt]** Compare the metrics computed across all models and discuss which models provide the best fit to our two graphs and which are their shortcomings. Note that the best model could be different for the citation and feture graphs."
      ]
    },
    {
      "cell_type": "markdown",
      "metadata": {
        "id": "f6cNHNr7zRNA"
      },
      "source": [
        "**Your answer here:**\n",
        "\n",
        "\n",
        "The Erdos-Renyi model generates a graph with a degree distribution fitting a Poissonian distribution (omits hubs) and a low clustering coefficient compared to the citation and feature graph. The Erdos-Renyi model is usually unfit for real networks, such as the citation and feature, but it can serve as a baseline. \n",
        "\n",
        "The Watts-Strogatz model is the first tentative to imitate real networks, which includes higher clustering while keeping a \"small world\" property. The results show a closer clustering coefficient regarding the citation graph, but the degree distribution is still Poissonian, still not explaining the hubs in our real graphs. The next three models aim to generate a degree distribution similar to our real networks.\n",
        "\n",
        "The configuration model mimics every node degree of the target graph but rewires the edges. Since the target was the feature graph, the configuration model's degree distribution is identical to the feature graph's degree distribution. The clustering coefficient remains similar. Consequently, the configuration model is an excellent fit for the feature graph, but that is not surprising since we started from the feature graph to generate it.\n",
        "\n",
        "The second model concentrating on the degree distribution is the Barabási-Albert model. Its parameter was selected to generate a graph of similar size to the citation graph. The resulting network shows a similar degree distribution to the citation graph (power law distribution) but with a smaller clustering coefficient.\n",
        "\n",
        "The optimization model generates a scale-free network; we tuned its parameter to fit our citation graph and ended with the best match regarding degree distribution and clustering coefficient. Amongst the considered models, the optimization model best fits the citation graph.\n",
        "\n",
        "In this last model, we assumed that an author knows all papers in his/her field. This assumption is unrealistic, and authors only know a subset of the literature. We probably could have done better with the copy model since it assumes that \"No scientist can be familiar with all papers published on a certain topic. Authors decide what to read and cite by \"copying\" references from the papers they have read.\" (as described in [2]).\n",
        "\n",
        "[2] Network Science, by Albert-László Barabási"
      ]
    }
  ],
  "metadata": {
    "colab": {
      "provenance": []
    },
    "kernelspec": {
      "display_name": "playground",
      "language": "python",
      "name": "python3"
    },
    "language_info": {
      "codemirror_mode": {
        "name": "ipython",
        "version": 3
      },
      "file_extension": ".py",
      "mimetype": "text/x-python",
      "name": "python",
      "nbconvert_exporter": "python",
      "pygments_lexer": "ipython3",
      "version": "3.10.4"
    },
    "vscode": {
      "interpreter": {
        "hash": "1b6258ac5f9ce9aee8bc7e8f09e746bac739d42425ff8343fe5df569d2e6cb19"
      }
    }
  },
  "nbformat": 4,
  "nbformat_minor": 0
}