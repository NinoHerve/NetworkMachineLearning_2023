{
  "nbformat": 4,
  "nbformat_minor": 0,
  "metadata": {
    "kernelspec": {
      "display_name": "dldiy",
      "language": "python",
      "name": "dldiy"
    },
    "language_info": {
      "codemirror_mode": {
        "name": "ipython",
        "version": 3
      },
      "file_extension": ".py",
      "mimetype": "text/x-python",
      "name": "python",
      "nbconvert_exporter": "python",
      "pygments_lexer": "ipython3",
      "version": "3.8.5"
    },
    "colab": {
      "provenance": []
    },
    "accelerator": "GPU"
  },
  "cells": [
    {
      "cell_type": "markdown",
      "source": [
        "# Assignment 4: Graph Neural Networks\n",
        "\n",
        "Contact: [Abdellah RAHMANI](mailto:abdellah.rahmani@epfl.ch) [Jinhan LIU](mailto:jinhan.liu@epfl.ch)\n",
        "\n",
        "## Students\n",
        "\n",
        "* Team: `20`\n",
        "* Students: `Hugo Fluhr`, `Nino Herve`\n",
        "\n",
        "## Rules\n",
        "\n",
        "> ⚠️ **Read carefully before starting**\n",
        "\n",
        "**Deadline:** May 16th\n",
        "\n",
        "**Grading:**\n",
        "* The integrality of Assignment 4 will be scaled to 100% and will amount to 25% of the overall assignments score.\n",
        "* The total number of points is **40**, the points for each exercise are stated in the instructions.\n",
        "* All team members will receive the same grade based on the team solution.\n",
        "* Collaboration between team members is encouraged. No collaboration between teams is allowed.\n",
        "\n",
        "**Expected output:**\n",
        "\n",
        "You will have coding and theoretical questions. Coding exercises shall be solved within the specified space:\n",
        "```python\n",
        "# Your solution here ###########################################################\n",
        "...\n",
        "#^^^^^^^^^^^^^^^^^^^^^^^^^^^^^^^^^^^^^^^^^^^^^^^^^^^^^^^^^^^^^^^^^^^^^^^^^^^^^^^\n",
        "```\n",
        "Anything outside shall not be touched, except if otherwise stated.\n",
        "\n",
        "Theoretical questions shall be answered in the following markdown cell. The first line will be \n",
        "> **Your answer here:**\n",
        "\n",
        "**Submission:**\n",
        "* Your submission is self-contained in the `.ipynb` file.\n",
        "\n",
        "* Code has to be clean and readable. Provide meaningful variable names and comment where needed.\n",
        "\n",
        "* Textual answers in [markdown cells][md_cells] shall be short: one to two\n",
        "  sentences. Math shall be written in [LaTeX][md_latex].\n",
        "    **NOTE**: handwritten notes pasted in the notebook are ignored\n",
        "\n",
        "* You cannot import any other library than we imported.\n",
        "\n",
        "* Make sure all cells are executed before submitting. I.e., if you open the notebook again it should show numerical results and plots. Cells not run are ignored.\n",
        "\n",
        "* Execute your notebook from a blank state before submission, to make sure it is reproducible. You can click \"Kernel\" then \"Restart Kernel and Run All Cells\" in Jupyter. We might re-run cells to ensure that the code is working and corresponds to the results.\n",
        "\n",
        "[md_cells]: https://jupyter-notebook.readthedocs.io/en/stable/examples/Notebook/Working%20With%20Markdown%20Cells.html\n",
        "[md_latex]: https://jupyter-notebook.readthedocs.io/en/stable/examples/Notebook/Working%20With%20Markdown%20Cells.html#LaTeX-equations"
      ],
      "metadata": {
        "id": "AMlo30vQDnic"
      }
    },
    {
      "cell_type": "markdown",
      "source": [
        "# Objective\n",
        "\n",
        "The purpose of this assignment is to first understand and explore the building blocks of Graph Neural Networks (GNN), and then try to implement more up-to-date GNN architectures or build up new ones using your own ideas. \n",
        "\n",
        "Through these two sections, we hope that you could obtain solid understanding of GNN components and architectures, and gain more experience in solving practical tasks using basic models and then try to improve upon it."
      ],
      "metadata": {
        "id": "ITjEp1iN8wds"
      }
    },
    {
      "cell_type": "markdown",
      "source": [
        "# First part: Understanding Pooling and Graph Convolutional Layers (20 pts)\n",
        "In the first part, you will try to go through our implementation of a Graph Convolution Network, and discover both the key components and the entire structure of a typical GNN. \n",
        "\n",
        "In this section, implementation is not required. Rather, you are requested to execute the various code sections, analyze their outcomes, and provide an explanation of the results. The objective is to understand pooling in graphs and also graph convolutional with spectral filtering. "
      ],
      "metadata": {
        "id": "ACMrQA2rraO2"
      }
    },
    {
      "cell_type": "markdown",
      "metadata": {
        "id": "cAN8ZbiRIM9C"
      },
      "source": [
        "# Graph ConvNets in PyTorch\n",
        "\n",
        "PyTorch implementation of the NeurIPS'16 paper:\n",
        "Convolutional Neural Networks on Graphs with Fast Localized Spectral Filtering\n",
        "M Defferrard, X Bresson, P Vandergheynst\n",
        "Advances in Neural Information Processing Systems, 3844-3852, 2016\n",
        "[ArXiv preprint](https://arxiv.org/abs/1606.09375)\n",
        "\n",
        "## Code:\n",
        "\n",
        "The code provides a simple example of graph ConvNets for the MNIST classification task.\n",
        "The graph is a 8-nearest neighbor graph of a 2D grid.\n",
        "The signals on graph are the MNIST images vectorized as $28^2 \\times 1$ vectors."
      ]
    },
    {
      "cell_type": "code",
      "metadata": {
        "id": "R84-PMawIM9H",
        "colab": {
          "base_uri": "https://localhost:8080/"
        },
        "outputId": "41cd3469-2710-46fa-f731-840f423c774d"
      },
      "source": [
        "import torch\n",
        "import torch.nn.functional as F\n",
        "import torch.nn as nn\n",
        "import collections\n",
        "import time\n",
        "import numpy as np\n",
        "import scipy\n",
        "from functools import partial\n",
        "import os\n",
        "\n",
        "if torch.cuda.is_available():\n",
        "    print('cuda available')\n",
        "    dtypeFloat = torch.cuda.FloatTensor\n",
        "    dtypeLong = torch.cuda.LongTensor\n",
        "    torch.cuda.manual_seed(1)\n",
        "else:\n",
        "    print('cuda not available')\n",
        "    dtypeFloat = torch.FloatTensor\n",
        "    dtypeLong = torch.LongTensor\n",
        "    torch.manual_seed(1)"
      ],
      "execution_count": 1,
      "outputs": [
        {
          "output_type": "stream",
          "name": "stdout",
          "text": [
            "cuda available\n"
          ]
        }
      ]
    },
    {
      "cell_type": "markdown",
      "metadata": {
        "id": "e3V0ifgWIM9M"
      },
      "source": [
        "# Connect to your drive"
      ]
    },
    {
      "cell_type": "code",
      "source": [
        "from google.colab import drive\n",
        "drive.mount(\"/content/drive\", force_remount=True)"
      ],
      "metadata": {
        "colab": {
          "base_uri": "https://localhost:8080/"
        },
        "id": "l-MTr6dtQ6Ih",
        "outputId": "90bb0eb6-2237-4769-d776-acae3b9e93a8"
      },
      "execution_count": 2,
      "outputs": [
        {
          "output_type": "stream",
          "name": "stdout",
          "text": [
            "Mounted at /content/drive\n"
          ]
        }
      ]
    },
    {
      "cell_type": "markdown",
      "metadata": {
        "id": "s-QfoaerIM9M"
      },
      "source": [
        "## Loading the data\n",
        "\n",
        "This code is only to load the Mnist data set, you just need to run it"
      ]
    },
    {
      "cell_type": "code",
      "metadata": {
        "id": "fU9R11odIM9M"
      },
      "source": [
        "def check_mnist_dataset_exists(path_data='./'):\n",
        "    flag_train_data = os.path.isfile(path_data + 'mnist/train_data.pt') \n",
        "    flag_train_label = os.path.isfile(path_data + 'mnist/train_label.pt') \n",
        "    flag_test_data = os.path.isfile(path_data + 'mnist/test_data.pt') \n",
        "    flag_test_label = os.path.isfile(path_data + 'mnist/test_label.pt') \n",
        "    if flag_train_data==False or flag_train_label==False or flag_test_data==False or flag_test_label==False:\n",
        "        print('MNIST dataset preprocessing...')\n",
        "        import torchvision\n",
        "        import torchvision.transforms as transforms\n",
        "        trainset = torchvision.datasets.MNIST(root=path_data + 'mnist/temp', train=True,\n",
        "                                                download=True, transform=transforms.ToTensor())\n",
        "        testset = torchvision.datasets.MNIST(root=path_data + 'mnist/temp', train=False,\n",
        "                                               download=True, transform=transforms.ToTensor())\n",
        "        train_data=torch.Tensor(60000,28,28)\n",
        "        train_label=torch.LongTensor(60000)\n",
        "        for idx , example in enumerate(trainset):\n",
        "            train_data[idx]=example[0].squeeze()\n",
        "            train_label[idx]=example[1]\n",
        "        torch.save(train_data,path_data + 'mnist/train_data.pt')\n",
        "        torch.save(train_label,path_data + 'mnist/train_label.pt')\n",
        "        test_data=torch.Tensor(10000,28,28)\n",
        "        test_label=torch.LongTensor(10000)\n",
        "        for idx , example in enumerate(testset):\n",
        "            test_data[idx]=example[0].squeeze()\n",
        "            test_label[idx]=example[1]\n",
        "        torch.save(test_data,path_data + 'mnist/test_data.pt')\n",
        "        torch.save(test_label,path_data + 'mnist/test_label.pt')\n",
        "    return path_data\n",
        "\n",
        "\n",
        "_ = check_mnist_dataset_exists()"
      ],
      "execution_count": 3,
      "outputs": []
    },
    {
      "cell_type": "code",
      "metadata": {
        "id": "9-FvItWZIM9N",
        "colab": {
          "base_uri": "https://localhost:8080/"
        },
        "outputId": "ff401875-5c04-48b0-8ac2-b67bd9faae44"
      },
      "source": [
        "#if you want to play with a small dataset (for cpu), uncomment.\n",
        "#nb_selected_train_data = 500\n",
        "#nb_selected_test_data = 100\n",
        "\n",
        "train_data=torch.load('mnist/train_data.pt').reshape(60000,784).numpy()\n",
        "#train_data = train_data[:nb_selected_train_data,:]\n",
        "print(train_data.shape)\n",
        "\n",
        "train_labels=torch.load('mnist/train_label.pt').numpy()\n",
        "#train_labels = train_labels[:nb_selected_train_data]\n",
        "print(train_labels.shape)\n",
        "\n",
        "test_data=torch.load('mnist/test_data.pt').reshape(10000,784).numpy()\n",
        "#test_data = test_data[:nb_selected_test_data,:]\n",
        "print(test_data.shape)\n",
        "\n",
        "test_labels=torch.load('mnist/test_label.pt').numpy()\n",
        "#test_labels = test_labels[:nb_selected_test_data]\n",
        "print(test_labels.shape)"
      ],
      "execution_count": 4,
      "outputs": [
        {
          "output_type": "stream",
          "name": "stdout",
          "text": [
            "(60000, 784)\n",
            "(60000,)\n",
            "(10000, 784)\n",
            "(10000,)\n"
          ]
        }
      ]
    },
    {
      "cell_type": "markdown",
      "source": [
        "Here we construct the graph using the 8-nearest neighbors of a 2D grid using Euclidean distance metrics."
      ],
      "metadata": {
        "id": "5u_wcW0U8AFF"
      }
    },
    {
      "cell_type": "code",
      "metadata": {
        "id": "Z4d8RsqlIM9O",
        "colab": {
          "base_uri": "https://localhost:8080/"
        },
        "outputId": "c3f9e0b9-9231-4f51-b54e-e049d528d069"
      },
      "source": [
        "from grid_graph import grid_graph\n",
        "from coarsening import coarsen, HEM, compute_perm, perm_adjacency\n",
        "from coarsening import perm_data\n",
        "\n",
        "# Construct graph\n",
        "t_start = time.time()\n",
        "grid_side = 28\n",
        "number_edges = 8\n",
        "metric = 'euclidean'\n",
        "\n",
        "\n",
        "######## YOUR GRAPH ADJACENCY MATRIX HERE ########\n",
        "A = grid_graph(grid_side,number_edges,metric) # create graph of Euclidean grid\n",
        "######## YOUR GRAPH ADJACENCY MATRIX HERE ########"
      ],
      "execution_count": 5,
      "outputs": [
        {
          "output_type": "stream",
          "name": "stdout",
          "text": [
            "nb edges:  6396\n"
          ]
        }
      ]
    },
    {
      "cell_type": "markdown",
      "source": [
        "In the following two cells we build up functions for calculating the graph Laplacian and retrieving the largest eigenvalue of it with scaling ."
      ],
      "metadata": {
        "id": "5C7k8PTnFAh2"
      }
    },
    {
      "cell_type": "code",
      "metadata": {
        "id": "x1bL7L1JIM9P"
      },
      "source": [
        "def laplacian(W, normalized=True):\n",
        "    \"\"\"Return graph Laplacian\"\"\"\n",
        "    I = scipy.sparse.identity(W.shape[0], dtype=W.dtype)\n",
        "\n",
        "    #W += I\n",
        "    # Degree matrix.\n",
        "    d = W.sum(axis=0)\n",
        "    # Laplacian matrix.\n",
        "    if not normalized:\n",
        "        D = scipy.sparse.diags(d.A.squeeze(), 0)\n",
        "        L = D - W\n",
        "    else:\n",
        "        d_inv = 1/d\n",
        "        Dinv = scipy.sparse.csr_matrix.sqrt(scipy.sparse.diags(d_inv.A.squeeze(), 0))\n",
        "        L =  - Dinv.dot(W.dot(Dinv))# i modified this normalization in order to use it in question 5 Lsym  = Lsym-I\n",
        "\n",
        "        pass\n",
        "\n",
        "    assert np.abs(L - L.T).mean() < 1e-8\n",
        "    assert type(L) is scipy.sparse.csr.csr_matrix\n",
        "    return L"
      ],
      "execution_count": 6,
      "outputs": []
    },
    {
      "cell_type": "code",
      "metadata": {
        "id": "6PsIUNxsIM9P"
      },
      "source": [
        "def rescale_L(L, lmax=2):\n",
        "    \"\"\"Rescale Laplacian eigenvalues to [-1,1]\"\"\"\n",
        "    M, M = L.shape\n",
        "    I = scipy.sparse.identity(M, format='csr', dtype=L.dtype)\n",
        "    L /= lmax * 2\n",
        "    L -= I\n",
        "    return L \n",
        "\n",
        "def lmax_L(L):\n",
        "    \"\"\"Compute largest Laplacian eigenvalue\"\"\"\n",
        "    return scipy.sparse.linalg.eigsh(L, k=1, which='LM', return_eigenvectors=False)[0]"
      ],
      "execution_count": 7,
      "outputs": []
    },
    {
      "cell_type": "markdown",
      "source": [
        "In the following cells, we can try to implement the graph coarsening with a specific coarsening level and retrieve the corresponding largest eigenvalues of Laplacians of the coarsened graphs. "
      ],
      "metadata": {
        "id": "rOYcC1FIFe6V"
      }
    },
    {
      "cell_type": "code",
      "metadata": {
        "colab": {
          "base_uri": "https://localhost:8080/"
        },
        "id": "oRkKisnu29dK",
        "outputId": "55984806-fb81-4e0c-a0c6-ef4f8341a82a"
      },
      "source": [
        "# Compute coarsened graphs\n",
        "coarsening_levels = 4\n",
        "\n",
        "L, perm = coarsen(A, coarsening_levels, partial(laplacian, normalized=True))"
      ],
      "execution_count": 8,
      "outputs": [
        {
          "output_type": "stream",
          "name": "stdout",
          "text": [
            "Heavy Edge Matching coarsening with Xavier version\n",
            "Layer 0: M_0 = |V| = 960 nodes (176 added), |E| = 3198 edges\n",
            "Layer 1: M_1 = |V| = 480 nodes (77 added), |E| = 1618 edges\n",
            "Layer 2: M_2 = |V| = 240 nodes (29 added), |E| = 781 edges\n",
            "Layer 3: M_3 = |V| = 120 nodes (7 added), |E| = 388 edges\n",
            "Layer 4: M_4 = |V| = 60 nodes (0 added), |E| = 194 edges\n"
          ]
        },
        {
          "output_type": "stream",
          "name": "stderr",
          "text": [
            "<ipython-input-6-d29d56694506>:13: RuntimeWarning: divide by zero encountered in true_divide\n",
            "  d_inv = 1/d\n",
            "<ipython-input-6-d29d56694506>:20: DeprecationWarning: Please use `csr_matrix` from the `scipy.sparse` namespace, the `scipy.sparse.csr` namespace is deprecated.\n",
            "  assert type(L) is scipy.sparse.csr.csr_matrix\n"
          ]
        }
      ]
    },
    {
      "cell_type": "code",
      "metadata": {
        "id": "QSy9EM2KIM9P",
        "colab": {
          "base_uri": "https://localhost:8080/"
        },
        "outputId": "efe05f47-c2d0-487e-f91e-5edb8982dbcb"
      },
      "source": [
        "# Compute coarsened graphs\n",
        "coarsening_levels = 4\n",
        "\n",
        "L, perm = coarsen(A, coarsening_levels, partial(laplacian, normalized=False))\n",
        "\n",
        "# Compute max eigenvalue of graph Laplacians\n",
        "lmax = []\n",
        "for i in range(coarsening_levels):\n",
        "    lmax.append(lmax_L(L[i]))\n",
        "print('lmax: ' + str([lmax[i] for i in range(coarsening_levels)]))\n",
        "\n",
        "# Reindex nodes to satisfy a binary tree structure\n",
        "train_data = perm_data(train_data, perm)\n",
        "test_data = perm_data(test_data, perm)\n",
        "\n",
        "print('Execution time: {:.2f}s'.format(time.time() - t_start))\n",
        "del perm"
      ],
      "execution_count": 9,
      "outputs": [
        {
          "output_type": "stream",
          "name": "stdout",
          "text": [
            "Heavy Edge Matching coarsening with Xavier version\n"
          ]
        },
        {
          "output_type": "stream",
          "name": "stderr",
          "text": [
            "<ipython-input-6-d29d56694506>:20: DeprecationWarning: Please use `csr_matrix` from the `scipy.sparse` namespace, the `scipy.sparse.csr` namespace is deprecated.\n",
            "  assert type(L) is scipy.sparse.csr.csr_matrix\n"
          ]
        },
        {
          "output_type": "stream",
          "name": "stdout",
          "text": [
            "Layer 0: M_0 = |V| = 960 nodes (176 added), |E| = 3198 edges\n",
            "Layer 1: M_1 = |V| = 480 nodes (77 added), |E| = 1618 edges\n",
            "Layer 2: M_2 = |V| = 240 nodes (29 added), |E| = 781 edges\n",
            "Layer 3: M_3 = |V| = 120 nodes (7 added), |E| = 388 edges\n",
            "Layer 4: M_4 = |V| = 60 nodes (0 added), |E| = 194 edges\n",
            "lmax: [5.87704, 11.296647, 19.596706, 30.225954]\n",
            "Execution time: 1.56s\n"
          ]
        }
      ]
    },
    {
      "cell_type": "markdown",
      "metadata": {
        "id": "uc0SwCcgIM9R"
      },
      "source": [
        "Here, we implemented the pooling layers and computed the list `L` containing the Laplacians of the graphs for each layer.\n",
        "\n",
        "## <font color='red'>Question 1: what is the size of the various poolings? (2pts) </font> "
      ]
    },
    {
      "cell_type": "markdown",
      "metadata": {
        "id": "vPsKBfCJIiOX"
      },
      "source": [
        "> **Your answer here:**  \n",
        "The pooling at each coarsening level aggregates two nodes into one. In other words, it is a pooling of size two."
      ]
    },
    {
      "cell_type": "markdown",
      "metadata": {
        "id": "GY4IypYiIM9R"
      },
      "source": [
        "# Graph ConvNet LeNet5\n",
        "\n",
        "With the components including graph coarsening and graph Laplacian computation, now we can build a entire GNN architecture for the image classification task, such as the classic Graph ConvNet LeNet5, which contains 2 graph convolutional layers, 2 pooling layers with size 4 and two fully-connected layers as shown below:\n",
        "\n",
        "1. Convolutional layer (Dim=32)\n",
        "2. Max pooling layer (Dim=4)\n",
        "3. Convolutional layer (Dim=64)\n",
        "4. Max pooling layer (Dim=4)\n",
        "5. Fully-connected layer (Dim=512)\n",
        "6. Fully-connected layer (Dim=10)\n",
        "\n",
        "## <font color='red'>Question 2: which graphs will you take in the list `L` for the graph convolutional layers? (2pts)</font> \n",
        "\n"
      ]
    },
    {
      "cell_type": "markdown",
      "metadata": {
        "id": "rTMYxUq7JDhx"
      },
      "source": [
        "> **Your answer here:**  \n",
        "The first convolution uses the original graph's Laplacian, corresponding to the first Laplacian in the list L (L[0]). Then we have a pooling of size 4, which is equivalent to pooling twice with size 2. So the second convolution uses the Laplacian of the graph that has been aggregated twice, which is the third element in list L (L[2]). We will use L[0] and L[2].\n"
      ]
    },
    {
      "cell_type": "markdown",
      "source": [
        "Let's define a torch class of GNN module and initialize our Graph ConvNet LeNet5 using its network parameter settings."
      ],
      "metadata": {
        "id": "pndzzP33LBua"
      }
    },
    {
      "cell_type": "code",
      "metadata": {
        "id": "UKiPIVdKIM9R"
      },
      "source": [
        "class Graph_ConvNet_LeNet5(nn.Module):\n",
        "    \n",
        "    def __init__(self, net_parameters, rescale = True):\n",
        "        \n",
        "        print('Graph ConvNet: LeNet5')\n",
        "        \n",
        "        super(Graph_ConvNet_LeNet5, self).__init__()\n",
        "        \n",
        "        # parameters\n",
        "        self.rescale = rescale\n",
        "        D, CL1_F, CL1_K, CL2_F, CL2_K, FC1_F, FC2_F = net_parameters\n",
        "        FC1Fin = CL2_F*(D//16)\n",
        "        \n",
        "        # graph CL1\n",
        "        self.cl1 = nn.Linear(CL1_K, CL1_F) \n",
        "        self.init_layers(self.cl1, CL1_K, CL1_F)\n",
        "        self.CL1_K = CL1_K; self.CL1_F = CL1_F; \n",
        "        \n",
        "        # graph CL2\n",
        "        self.cl2 = nn.Linear(CL2_K*CL1_F, CL2_F) \n",
        "        self.init_layers(self.cl2, CL2_K*CL1_F, CL2_F)\n",
        "        self.CL2_K = CL2_K; self.CL2_F = CL2_F; \n",
        "\n",
        "        # FC1\n",
        "        self.fc1 = nn.Linear(FC1Fin, FC1_F) \n",
        "        self.init_layers(self.fc1, FC1Fin, FC1_F)\n",
        "        self.FC1Fin = FC1Fin\n",
        "        \n",
        "        # FC2\n",
        "        self.fc2 = nn.Linear(FC1_F, FC2_F)\n",
        "        self.init_layers(self.fc2, FC1_F, FC2_F)\n",
        "\n",
        "        # nb of parameters\n",
        "        nb_param = CL1_K* CL1_F + CL1_F          # CL1\n",
        "        nb_param += CL2_K* CL1_F* CL2_F + CL2_F  # CL2\n",
        "        nb_param += FC1Fin* FC1_F + FC1_F        # FC1\n",
        "        nb_param += FC1_F* FC2_F + FC2_F         # FC2\n",
        "        print('nb of parameters=',nb_param,'\\n')\n",
        "        \n",
        "        \n",
        "    def init_layers(self, W, Fin, Fout):\n",
        "\n",
        "        scale = np.sqrt( 2.0/ (Fin+Fout) )\n",
        "        W.weight.data.uniform_(-scale, scale)\n",
        "        W.bias.data.fill_(0.0)\n",
        "\n",
        "        return W\n",
        "        \n",
        "        \n",
        "    def graph_conv_cheby(self, x, cl, L, lmax, Fout, K):\n",
        "        # parameters\n",
        "        # B = batch size\n",
        "        # V = nb vertices\n",
        "        # Fin = nb input features\n",
        "        # Fout = nb output features\n",
        "        # K = Chebyshev order & support size\n",
        "        B, V, Fin = x.size(); B, V, Fin = int(B), int(V), int(Fin) \n",
        "\n",
        "        # rescale Laplacian\n",
        "        lmax = lmax_L(L)\n",
        "        if self.rescale:\n",
        "          \n",
        "          L = rescale_L(L, lmax) \n",
        "        \n",
        "        # convert scipy sparse matric L to pytorch\n",
        "        L = L.tocoo()\n",
        "        indices = np.column_stack((L.row, L.col)).T \n",
        "        indices = indices.astype(np.int64)\n",
        "        indices = torch.from_numpy(indices)\n",
        "        indices = indices.type(torch.LongTensor)\n",
        "        L_data = L.data.astype(np.float32)\n",
        "        L_data = torch.from_numpy(L_data) \n",
        "        L_data = L_data.type(torch.FloatTensor)\n",
        "        L = torch.sparse.FloatTensor(indices, L_data, torch.Size(L.shape))\n",
        "        L.requires_grad_(False)\n",
        "        if torch.cuda.is_available():\n",
        "            L = L.cuda()\n",
        "        # transform to Chebyshev basis\n",
        "        x0 = x.permute(1,2,0).contiguous()  # V x Fin x B\n",
        "        x0 = x0.view([V, Fin*B])            # V x Fin*B\n",
        "        x = x0.unsqueeze(0)                 # 1 x V x Fin*B\n",
        "        \n",
        "        def concat(x, x_):\n",
        "            x_ = x_.unsqueeze(0)            # 1 x V x Fin*B\n",
        "            return torch.cat((x, x_), 0)    # K x V x Fin*B  \n",
        "             \n",
        "        if K > 1: \n",
        "            x1 = torch.mm(L,x0)              # V x Fin*B\n",
        "            x = torch.cat((x, x1.unsqueeze(0)),0)  # 2 x V x Fin*B\n",
        "        for k in range(2, K):\n",
        "            x2 = 2 * torch.mm(L,x1) - x0  \n",
        "            x = torch.cat((x, x2.unsqueeze(0)),0)  # M x Fin*B\n",
        "            x0, x1 = x1, x2  \n",
        "        \n",
        "        x = x.view([K, V, Fin, B])           # K x V x Fin x B     \n",
        "        x = x.permute(3,1,2,0).contiguous()  # B x V x Fin x K       \n",
        "        x = x.view([B*V, Fin*K])             # B*V x Fin*K\n",
        "        \n",
        "        # Compose linearly Fin features to get Fout features\n",
        "        x = cl(x)                            # B*V x Fout  \n",
        "        x = x.view([B, V, Fout])             # B x V x Fout\n",
        "        return x\n",
        "        \n",
        "        \n",
        "    # Max pooling of size p. Must be a power of 2.\n",
        "    def graph_max_pool(self, x, p): \n",
        "        if p > 1: \n",
        "            x = x.permute(0,2,1).contiguous()  # x = B x F x V\n",
        "            x = nn.MaxPool1d(p)(x)             # B x F x V/p          \n",
        "            x = x.permute(0,2,1).contiguous()  # x = B x V/p x F\n",
        "            return x  \n",
        "        else:\n",
        "            return x   \n",
        "        \n",
        "        \n",
        "    def forward(self, x, d, L, lmax):\n",
        "        # graph CL1\n",
        "        x = x.unsqueeze(2) # B x V x Fin=1  \n",
        "        x = self.graph_conv_cheby(x, self.cl1, L[0], lmax[0], self.CL1_F, self.CL1_K)\n",
        "        x = F.relu(x)\n",
        "        x = self.graph_max_pool(x, 4)\n",
        "        # graph CL2\n",
        "        x = self.graph_conv_cheby(x, self.cl2, L[2], lmax[2], self.CL2_F, self.CL2_K)\n",
        "        x = F.relu(x)\n",
        "        x = self.graph_max_pool(x, 4)\n",
        "        # FC1\n",
        "        x = x.view(-1, self.FC1Fin)\n",
        "        x = self.fc1(x)\n",
        "        x = F.relu(x)\n",
        "        x  = nn.Dropout(d)(x)\n",
        "        # FC2\n",
        "        x = self.fc2(x)\n",
        "        return x\n",
        "        \n",
        "        \n",
        "    def loss(self, y, y_target, l2_regularization):\n",
        "    \n",
        "        loss = nn.CrossEntropyLoss()(y,y_target)\n",
        "\n",
        "        l2_loss = 0.0\n",
        "        for param in self.parameters():\n",
        "            data = param* param\n",
        "            l2_loss += data.sum()\n",
        "           \n",
        "        loss += 0.5* l2_regularization* l2_loss\n",
        "            \n",
        "        return loss\n",
        "    \n",
        "    \n",
        "    def update(self, lr):\n",
        "                \n",
        "        update = torch.optim.SGD( self.parameters(), lr=lr, momentum=0.9 )\n",
        "        \n",
        "        return update\n",
        "        \n",
        "        \n",
        "    def update_learning_rate(self, optimizer, lr):\n",
        "   \n",
        "        for param_group in optimizer.param_groups:\n",
        "            param_group['lr'] = lr\n",
        "\n",
        "        return optimizer\n",
        "\n",
        "    \n",
        "    def evaluation(self, y_predicted, test_l):\n",
        "    \n",
        "        _, class_predicted = torch.max(y_predicted.data, 1)\n",
        "        return 100.0* (class_predicted == test_l).sum()/ y_predicted.size(0)"
      ],
      "execution_count": 10,
      "outputs": []
    },
    {
      "cell_type": "code",
      "metadata": {
        "id": "hzp6aP9YIM9T",
        "colab": {
          "base_uri": "https://localhost:8080/"
        },
        "outputId": "d978cf5b-3570-49dc-ba29-6012f0302713"
      },
      "source": [
        "# Delete existing network if exists\n",
        "try:\n",
        "    del net\n",
        "    print('Delete existing network\\n')\n",
        "except NameError:\n",
        "    print('No existing network to delete\\n')\n",
        "\n",
        "# network parameters\n",
        "D = train_data.shape[1]\n",
        "CL1_F = 32\n",
        "CL1_K = 25\n",
        "CL2_F = 64\n",
        "CL2_K = 25\n",
        "FC1_F = 512\n",
        "FC2_F = 10\n",
        "net_parameters = [D, CL1_F, CL1_K, CL2_F, CL2_K, FC1_F, FC2_F]\n",
        "dropout_value = 0.5\n",
        "\n",
        "# instantiate the object net of the class \n",
        "net = Graph_ConvNet_LeNet5(net_parameters)\n",
        "if torch.cuda.is_available():\n",
        "    net.cuda()\n",
        "print(net)"
      ],
      "execution_count": 11,
      "outputs": [
        {
          "output_type": "stream",
          "name": "stdout",
          "text": [
            "No existing network to delete\n",
            "\n",
            "Graph ConvNet: LeNet5\n",
            "nb of parameters= 2023818 \n",
            "\n",
            "Graph_ConvNet_LeNet5(\n",
            "  (cl1): Linear(in_features=25, out_features=32, bias=True)\n",
            "  (cl2): Linear(in_features=800, out_features=64, bias=True)\n",
            "  (fc1): Linear(in_features=3840, out_features=512, bias=True)\n",
            "  (fc2): Linear(in_features=512, out_features=10, bias=True)\n",
            ")\n"
          ]
        }
      ]
    },
    {
      "cell_type": "markdown",
      "metadata": {
        "id": "VAHvOqwFIM9T"
      },
      "source": [
        "Good time, to check the network is working. Now we can partition the dataset and evaluate our GNN upon it."
      ]
    },
    {
      "cell_type": "code",
      "metadata": {
        "id": "iUBExiK7IM9U",
        "colab": {
          "base_uri": "https://localhost:8080/"
        },
        "outputId": "847dff06-5780-4888-ec9c-9660e0479531"
      },
      "source": [
        "train_x, train_y = train_data[:5,:], train_labels[:5]\n",
        "train_x =  torch.FloatTensor(train_x).type(dtypeFloat)\n",
        "train_y = train_y.astype(np.int64)\n",
        "train_y = torch.LongTensor(train_y).type(dtypeLong) \n",
        "            \n",
        "# Forward \n",
        "y = net(train_x, dropout_value, L, lmax)\n",
        "print(y.shape)"
      ],
      "execution_count": 12,
      "outputs": [
        {
          "output_type": "stream",
          "name": "stdout",
          "text": [
            "torch.Size([5, 10])\n"
          ]
        }
      ]
    },
    {
      "cell_type": "code",
      "metadata": {
        "scrolled": true,
        "id": "6pqSKZucIM9U",
        "colab": {
          "base_uri": "https://localhost:8080/"
        },
        "outputId": "7ca4931d-f75d-4732-bb07-771d7b366887"
      },
      "source": [
        "# Weights\n",
        "L_net = list(net.parameters())\n",
        "\n",
        "# learning parameters\n",
        "learning_rate = 0.05\n",
        "l2_regularization = 5e-4 \n",
        "batch_size = 100\n",
        "num_epochs = 3\n",
        "train_size = train_data.shape[0]\n",
        "nb_iter = int(num_epochs * train_size) // batch_size\n",
        "print('num_epochs=',num_epochs,', train_size=',train_size,', nb_iter=',nb_iter)\n",
        "\n",
        "# Optimizer\n",
        "global_lr = learning_rate\n",
        "global_step = 0\n",
        "decay = 0.95\n",
        "decay_steps = train_size\n",
        "lr = learning_rate\n",
        "optimizer = net.update(lr) \n",
        "\n",
        "# loop over epochs\n",
        "indices = collections.deque()\n",
        "for epoch in range(num_epochs):  # loop over the dataset multiple times\n",
        "\n",
        "    # reshuffle \n",
        "    indices.extend(np.random.permutation(train_size)) # rand permutation\n",
        "    \n",
        "    # reset time\n",
        "    t_start = time.time()\n",
        "    \n",
        "    # extract batches\n",
        "    running_loss = 0.0\n",
        "    running_accuray = 0\n",
        "    running_total = 0\n",
        "    while len(indices) >= batch_size:\n",
        "        \n",
        "        # extract batches\n",
        "        batch_idx = [indices.popleft() for i in range(batch_size)]\n",
        "        train_x, train_y = train_data[batch_idx,:], train_labels[batch_idx]\n",
        "        train_x =  torch.FloatTensor(train_x).type(dtypeFloat)\n",
        "        train_y = train_y.astype(np.int64)\n",
        "        train_y = torch.LongTensor(train_y).type(dtypeLong) \n",
        "            \n",
        "        # Forward \n",
        "        y = net(train_x, dropout_value, L, lmax)\n",
        "        loss = net.loss(y,train_y,l2_regularization) \n",
        "        loss_train = loss.detach().item()\n",
        "        # Accuracy\n",
        "        acc_train = net.evaluation(y,train_y.data)\n",
        "        # backward\n",
        "        loss.backward()\n",
        "        # Update \n",
        "        global_step += batch_size # to update learning rate\n",
        "        optimizer.step()\n",
        "        optimizer.zero_grad()\n",
        "        # loss, accuracy\n",
        "        running_loss += loss_train\n",
        "        running_accuray += acc_train\n",
        "        running_total += 1\n",
        "        # print        \n",
        "        if not running_total%100: # print every x mini-batches\n",
        "            print('epoch= %d, i= %4d, loss(batch)= %.4f, accuray(batch)= %.2f' % (epoch+1, running_total, loss_train, acc_train))\n",
        "          \n",
        "    # print \n",
        "    t_stop = time.time() - t_start\n",
        "    print('epoch= %d, loss(train)= %.3f, accuracy(train)= %.3f, time= %.3f, lr= %.5f' % \n",
        "          (epoch+1, running_loss/running_total, running_accuray/running_total, t_stop, lr))\n",
        " \n",
        "    # update learning rate \n",
        "    lr = global_lr * pow( decay , float(global_step// decay_steps) )\n",
        "    optimizer = net.update_learning_rate(optimizer, lr)\n",
        "    \n",
        "    \n",
        "    # Test set\n",
        "    with torch.no_grad():\n",
        "        running_accuray_test = 0\n",
        "        running_total_test = 0\n",
        "        indices_test = collections.deque()\n",
        "        indices_test.extend(range(test_data.shape[0]))\n",
        "        t_start_test = time.time()\n",
        "        while len(indices_test) >= batch_size:\n",
        "            batch_idx_test = [indices_test.popleft() for i in range(batch_size)]\n",
        "            test_x, test_y = test_data[batch_idx_test,:], test_labels[batch_idx_test]\n",
        "            test_x = torch.FloatTensor(test_x).type(dtypeFloat)\n",
        "            y = net(test_x, 0.0, L, lmax) \n",
        "            test_y = test_y.astype(np.int64)\n",
        "            test_y = torch.LongTensor(test_y).type(dtypeLong)\n",
        "            acc_test = net.evaluation(y,test_y.data)\n",
        "            running_accuray_test += acc_test\n",
        "            running_total_test += 1\n",
        "        t_stop_test = time.time() - t_start_test\n",
        "        print('  accuracy(test) = %.3f %%, time= %.3f' % (running_accuray_test / running_total_test, t_stop_test))"
      ],
      "execution_count": 13,
      "outputs": [
        {
          "output_type": "stream",
          "name": "stdout",
          "text": [
            "num_epochs= 3 , train_size= 60000 , nb_iter= 1800\n",
            "epoch= 1, i=  100, loss(batch)= 0.4104, accuray(batch)= 89.00\n",
            "epoch= 1, i=  200, loss(batch)= 0.2916, accuray(batch)= 94.00\n",
            "epoch= 1, i=  300, loss(batch)= 0.2633, accuray(batch)= 97.00\n",
            "epoch= 1, i=  400, loss(batch)= 0.1679, accuray(batch)= 98.00\n",
            "epoch= 1, i=  500, loss(batch)= 0.2145, accuray(batch)= 94.00\n",
            "epoch= 1, i=  600, loss(batch)= 0.2025, accuray(batch)= 97.00\n",
            "epoch= 1, loss(train)= 0.373, accuracy(train)= 91.520, time= 76.931, lr= 0.05000\n",
            "  accuracy(test) = 97.950 %, time= 8.806\n",
            "epoch= 2, i=  100, loss(batch)= 0.1388, accuray(batch)= 100.00\n",
            "epoch= 2, i=  200, loss(batch)= 0.1418, accuray(batch)= 99.00\n",
            "epoch= 2, i=  300, loss(batch)= 0.1647, accuray(batch)= 98.00\n",
            "epoch= 2, i=  400, loss(batch)= 0.1775, accuray(batch)= 98.00\n",
            "epoch= 2, i=  500, loss(batch)= 0.1755, accuray(batch)= 99.00\n",
            "epoch= 2, i=  600, loss(batch)= 0.1474, accuray(batch)= 98.00\n",
            "epoch= 2, loss(train)= 0.179, accuracy(train)= 97.653, time= 66.244, lr= 0.04750\n",
            "  accuracy(test) = 98.600 %, time= 8.832\n",
            "epoch= 3, i=  100, loss(batch)= 0.1204, accuray(batch)= 99.00\n",
            "epoch= 3, i=  200, loss(batch)= 0.1491, accuray(batch)= 96.00\n",
            "epoch= 3, i=  300, loss(batch)= 0.1280, accuray(batch)= 100.00\n",
            "epoch= 3, i=  400, loss(batch)= 0.1047, accuray(batch)= 100.00\n",
            "epoch= 3, i=  500, loss(batch)= 0.1285, accuray(batch)= 99.00\n",
            "epoch= 3, i=  600, loss(batch)= 0.1360, accuray(batch)= 97.00\n",
            "epoch= 3, loss(train)= 0.151, accuracy(train)= 98.278, time= 65.545, lr= 0.04512\n",
            "  accuracy(test) = 98.520 %, time= 8.909\n"
          ]
        }
      ]
    },
    {
      "cell_type": "markdown",
      "metadata": {
        "id": "WcMxnNIiXLyc"
      },
      "source": [
        "### <font color='red'>Question 3: In this code, each convolutional layer has a parameter K. What does it represent? What are the consequences of choosing a higher or lower value of K? (4pts)</font> "
      ]
    },
    {
      "cell_type": "markdown",
      "metadata": {
        "id": "g1sYCHHfXxEX"
      },
      "source": [
        "> **Your answer here:**  \n",
        "K represents the highest index of the Chebyshev polynomials. In our context, Chebyshev polynomials are filter elements, each being a polynomial of the Laplacian with degree K. Due to the Laplacian's properties, each filter represented by Kth order polynomials contains information from a k-hops field of view. Consequently, the K parameter makes the filter K-localized. \n",
        "Lower values of K decrease the field of view of the filter, leveraging closely localized information. In contrast, higher values of k increase the field of view, generating global information on the graph. Computing more polynomials (higher K) will also result in more computations.\n",
        "\n"
      ]
    },
    {
      "cell_type": "markdown",
      "metadata": {
        "id": "QqHiWQ8iIM9U"
      },
      "source": [
        "### <font color='red'>Question 4: Is it necessary to rescale the Laplacian (in the function `rescale_L`)? (4pts) Try to remove it and explain what happens. </font> \n",
        "\n",
        "Hint: See Section 2.1 of [the paper](https://arxiv.org/pdf/1606.09375.pdf).\n"
      ]
    },
    {
      "cell_type": "code",
      "metadata": {
        "colab": {
          "base_uri": "https://localhost:8080/"
        },
        "id": "s0l0xPYW0o5o",
        "outputId": "b925c297-009b-4598-8724-e79460fc7da1"
      },
      "source": [
        "# Delete existing network if exists\n",
        "try:\n",
        "    del net\n",
        "    print('Delete existing network\\n')\n",
        "except NameError:\n",
        "    print('No existing network to delete\\n')\n",
        "\n",
        "# network parameters\n",
        "D = train_data.shape[1]\n",
        "CL1_F = 32\n",
        "CL1_K = 25\n",
        "CL2_F = 64\n",
        "CL2_K = 25\n",
        "FC1_F = 512\n",
        "FC2_F = 10\n",
        "net_parameters = [D, CL1_F, CL1_K, CL2_F, CL2_K, FC1_F, FC2_F]\n",
        "dropout_value = 0.5\n",
        "\n",
        "# instantiate the object net of the class, !!! we removed the rescale\n",
        "net = Graph_ConvNet_LeNet5(net_parameters, rescale = False)\n",
        "if torch.cuda.is_available():\n",
        "    net.cuda()\n",
        "print(net)"
      ],
      "execution_count": 14,
      "outputs": [
        {
          "output_type": "stream",
          "name": "stdout",
          "text": [
            "Delete existing network\n",
            "\n",
            "Graph ConvNet: LeNet5\n",
            "nb of parameters= 2023818 \n",
            "\n",
            "Graph_ConvNet_LeNet5(\n",
            "  (cl1): Linear(in_features=25, out_features=32, bias=True)\n",
            "  (cl2): Linear(in_features=800, out_features=64, bias=True)\n",
            "  (fc1): Linear(in_features=3840, out_features=512, bias=True)\n",
            "  (fc2): Linear(in_features=512, out_features=10, bias=True)\n",
            ")\n"
          ]
        }
      ]
    },
    {
      "cell_type": "code",
      "source": [
        "# Compute coarsened graphs\n",
        "coarsening_levels = 4\n",
        "\n",
        "L, perm = coarsen(A, coarsening_levels, partial(laplacian, normalized=False))\n",
        "\n",
        "# Compute max eigenvalue of graph Laplacians\n",
        "lmax = []\n",
        "for i in range(coarsening_levels):\n",
        "    lmax.append(lmax_L(L[i]))\n",
        "print('lmax: ' + str([lmax[i] for i in range(coarsening_levels)]))\n",
        "\n",
        "# Reindex nodes to satisfy a binary tree structure\n",
        "train_data = perm_data(train_data, perm)\n",
        "test_data = perm_data(test_data, perm)\n",
        "\n",
        "print('Execution time: {:.2f}s'.format(time.time() - t_start))\n",
        "del perm"
      ],
      "metadata": {
        "id": "n4KXZMF0CHdz",
        "colab": {
          "base_uri": "https://localhost:8080/"
        },
        "outputId": "b63c42a1-d12d-4f7a-9b43-bf53636257dc"
      },
      "execution_count": 15,
      "outputs": [
        {
          "output_type": "stream",
          "name": "stdout",
          "text": [
            "Heavy Edge Matching coarsening with Xavier version\n",
            "Layer 0: M_0 = |V| = 960 nodes (176 added), |E| = 3198 edges\n",
            "Layer 1: M_1 = |V| = 480 nodes (77 added), |E| = 1618 edges\n",
            "Layer 2: M_2 = |V| = 240 nodes (29 added), |E| = 781 edges\n",
            "Layer 3: M_3 = |V| = 120 nodes (7 added), |E| = 388 edges\n",
            "Layer 4: M_4 = |V| = 60 nodes (0 added), |E| = 194 edges\n",
            "lmax: [5.8770437, 11.296648, 19.596704, 30.225956]\n"
          ]
        },
        {
          "output_type": "stream",
          "name": "stderr",
          "text": [
            "<ipython-input-6-d29d56694506>:20: DeprecationWarning: Please use `csr_matrix` from the `scipy.sparse` namespace, the `scipy.sparse.csr` namespace is deprecated.\n",
            "  assert type(L) is scipy.sparse.csr.csr_matrix\n"
          ]
        },
        {
          "output_type": "stream",
          "name": "stdout",
          "text": [
            "Execution time: 75.78s\n"
          ]
        }
      ]
    },
    {
      "cell_type": "code",
      "metadata": {
        "id": "2L6jw1Nh0o_6",
        "colab": {
          "base_uri": "https://localhost:8080/"
        },
        "outputId": "69477895-20ec-44de-adb2-ae499d79a6ec"
      },
      "source": [
        "# Weights\n",
        "L_net = list(net.parameters())\n",
        "\n",
        "# learning parameters\n",
        "learning_rate = 0.05\n",
        "l2_regularization = 5e-4 \n",
        "batch_size = 100\n",
        "num_epochs = 3\n",
        "train_size = train_data.shape[0]\n",
        "nb_iter = int(num_epochs * train_size) // batch_size\n",
        "print('num_epochs=',num_epochs,', train_size=',train_size,', nb_iter=',nb_iter)\n",
        "\n",
        "# Optimizer\n",
        "global_lr = learning_rate\n",
        "global_step = 0\n",
        "decay = 0.95\n",
        "decay_steps = train_size\n",
        "lr = learning_rate\n",
        "optimizer = net.update(lr) \n",
        "\n",
        "# loop over epochs\n",
        "indices = collections.deque()\n",
        "for epoch in range(num_epochs):  # loop over the dataset multiple times\n",
        "\n",
        "    # reshuffle \n",
        "    indices.extend(np.random.permutation(train_size)) # rand permutation\n",
        "    \n",
        "    # reset time\n",
        "    t_start = time.time()\n",
        "    \n",
        "    # extract batches\n",
        "    running_loss = 0.0\n",
        "    running_accuray = 0\n",
        "    running_total = 0\n",
        "    while len(indices) >= batch_size:\n",
        "        \n",
        "        # extract batches\n",
        "        batch_idx = [indices.popleft() for i in range(batch_size)]\n",
        "        train_x, train_y = train_data[batch_idx,:], train_labels[batch_idx]\n",
        "        train_x =  torch.FloatTensor(train_x).type(dtypeFloat)\n",
        "        train_y = train_y.astype(np.int64)\n",
        "        train_y = torch.LongTensor(train_y).type(dtypeLong) \n",
        "            \n",
        "        # Forward \n",
        "        y = net(train_x, dropout_value, L, lmax)\n",
        "        loss = net.loss(y,train_y,l2_regularization) \n",
        "        loss_train = loss.detach().item()\n",
        "        # Accuracy\n",
        "        acc_train = net.evaluation(y,train_y.data)\n",
        "        # backward\n",
        "        loss.backward()\n",
        "        # Update \n",
        "        global_step += batch_size # to update learning rate\n",
        "        optimizer.step()\n",
        "        optimizer.zero_grad()\n",
        "        # loss, accuracy\n",
        "        running_loss += loss_train\n",
        "        running_accuray += acc_train\n",
        "        running_total += 1\n",
        "        # print        \n",
        "        if not running_total%100: # print every x mini-batches\n",
        "            print('epoch= %d, i= %4d, loss(batch)= %.4f, accuray(batch)= %.2f' % (epoch+1, running_total, loss_train, acc_train))\n",
        "          \n",
        "    # print \n",
        "    t_stop = time.time() - t_start\n",
        "    print('epoch= %d, loss(train)= %.3f, accuracy(train)= %.3f, time= %.3f, lr= %.5f' % \n",
        "          (epoch+1, running_loss/running_total, running_accuray/running_total, t_stop, lr))\n",
        " \n",
        "    # update learning rate \n",
        "    lr = global_lr * pow( decay , float(global_step// decay_steps) )\n",
        "    optimizer = net.update_learning_rate(optimizer, lr)\n",
        "    \n",
        "    \n",
        "    # Test set\n",
        "    with torch.no_grad():\n",
        "        running_accuray_test = 0\n",
        "        running_total_test = 0\n",
        "        indices_test = collections.deque()\n",
        "        indices_test.extend(range(test_data.shape[0]))\n",
        "        t_start_test = time.time()\n",
        "        while len(indices_test) >= batch_size:\n",
        "            batch_idx_test = [indices_test.popleft() for i in range(batch_size)]\n",
        "            test_x, test_y = test_data[batch_idx_test,:], test_labels[batch_idx_test]\n",
        "            test_x = torch.FloatTensor(test_x).type(dtypeFloat)\n",
        "            y = net(test_x, 0.0, L, lmax) \n",
        "            test_y = test_y.astype(np.int64)\n",
        "            test_y = torch.LongTensor(test_y).type(dtypeLong)\n",
        "            acc_test = net.evaluation(y,test_y.data)\n",
        "            running_accuray_test += acc_test\n",
        "            running_total_test += 1\n",
        "        t_stop_test = time.time() - t_start_test\n",
        "        print('  accuracy(test) = %.3f %%, time= %.3f' % (running_accuray_test / running_total_test, t_stop_test))"
      ],
      "execution_count": 16,
      "outputs": [
        {
          "output_type": "stream",
          "name": "stdout",
          "text": [
            "num_epochs= 3 , train_size= 60000 , nb_iter= 1800\n",
            "epoch= 1, i=  100, loss(batch)= nan, accuray(batch)= 12.00\n",
            "epoch= 1, i=  200, loss(batch)= nan, accuray(batch)= 9.00\n",
            "epoch= 1, i=  300, loss(batch)= nan, accuray(batch)= 9.00\n",
            "epoch= 1, i=  400, loss(batch)= nan, accuray(batch)= 11.00\n",
            "epoch= 1, i=  500, loss(batch)= nan, accuray(batch)= 10.00\n",
            "epoch= 1, i=  600, loss(batch)= nan, accuray(batch)= 10.00\n",
            "epoch= 1, loss(train)= nan, accuracy(train)= 9.872, time= 66.948, lr= 0.05000\n",
            "  accuracy(test) = 9.800 %, time= 6.601\n",
            "epoch= 2, i=  100, loss(batch)= nan, accuray(batch)= 13.00\n",
            "epoch= 2, i=  200, loss(batch)= nan, accuray(batch)= 8.00\n",
            "epoch= 2, i=  300, loss(batch)= nan, accuray(batch)= 7.00\n",
            "epoch= 2, i=  400, loss(batch)= nan, accuray(batch)= 12.00\n",
            "epoch= 2, i=  500, loss(batch)= nan, accuray(batch)= 11.00\n",
            "epoch= 2, i=  600, loss(batch)= nan, accuray(batch)= 8.00\n",
            "epoch= 2, loss(train)= nan, accuracy(train)= 9.872, time= 66.527, lr= 0.04750\n",
            "  accuracy(test) = 9.800 %, time= 6.768\n",
            "epoch= 3, i=  100, loss(batch)= nan, accuray(batch)= 6.00\n",
            "epoch= 3, i=  200, loss(batch)= nan, accuray(batch)= 14.00\n",
            "epoch= 3, i=  300, loss(batch)= nan, accuray(batch)= 3.00\n",
            "epoch= 3, i=  400, loss(batch)= nan, accuray(batch)= 11.00\n",
            "epoch= 3, i=  500, loss(batch)= nan, accuray(batch)= 9.00\n",
            "epoch= 3, i=  600, loss(batch)= nan, accuray(batch)= 16.00\n",
            "epoch= 3, loss(train)= nan, accuracy(train)= 9.872, time= 66.498, lr= 0.04512\n",
            "  accuracy(test) = 9.800 %, time= 6.581\n"
          ]
        }
      ]
    },
    {
      "cell_type": "markdown",
      "metadata": {
        "id": "PsyW8kfGJhQb"
      },
      "source": [
        "> **Your answer here:**  \n",
        "The loss is not a number and thus the model does not train. This is due to the Laplacian eigenvalues being unbounded ($\\lambda_i>1$), as powers of the eigenvalues are used in the computation of the Chebyshev polynomials, they need to be smaller or equal to 1 for it to be stable.\n"
      ]
    },
    {
      "cell_type": "markdown",
      "metadata": {
        "id": "Li12nmcbmhth"
      },
      "source": [
        "### <font color='red'>Question 5: Is it possible to modify the Laplacian to avoid the rescaling step? (3pts)</font> \n",
        "\n",
        "Hint: Think about the eigenvalues of the Laplacian and how to normalize them."
      ]
    },
    {
      "cell_type": "markdown",
      "metadata": {
        "id": "fUEqQgHJmjUk"
      },
      "source": [
        "> **Your answer here:**  \n",
        "Another way to achieve bounded eigenvalues without rescaling is to use a modified version of the normalized graph Laplacian. Indeed the normalized Laplacian $ L_n = I - D^{-1/2}WD^{-1/2} $ has eigenvalues smaller or equal to 2. If we subtract the $I$ from this normalized Laplacian, which becomes $ \\tilde{L_n} = - D^{-1/2}WD^{-1/2} $, we thus obtain eigenvalues smaller or equal to 1 without needing to rescale. When we try to run the above code with this modified normalized Laplacian, the loss is a number and the model does train."
      ]
    },
    {
      "cell_type": "markdown",
      "metadata": {
        "id": "cL4bpvypcGBx"
      },
      "source": [
        "### <font color='red'>Question 6: Which of the following choice is true? (3pts)</font> \n",
        "* (A) The presented GCN will be a message passing GNN for K=1\n",
        "* (B) The presented GCN will be a message passing GNN for any value of K\n",
        "* (C) No, it could never be a layer of message passing GNN\n",
        "\n",
        "Explain your answer.\n",
        "\n"
      ]
    },
    {
      "cell_type": "markdown",
      "metadata": {
        "id": "1ktXFqpdgndJ"
      },
      "source": [
        "> **Your answer here:**  \n",
        "Message passing is always exchanging information between neighboring nodes, it thus corresponds to K=1 (1-hop neighbors) GCNs with no pooling and coarsening of the graph.  Multiple layers can be added to exchange information with neighbors of neighbors etc.\n"
      ]
    },
    {
      "cell_type": "markdown",
      "metadata": {
        "id": "BjwfS7bHSTpd"
      },
      "source": [
        "### <font color='red'> Question 7: In which cases do you expect: (2pts)</font> \n",
        "* a Graph CNN to work better than a CNN?\n",
        "* a CNN to work better than a Graph CNN?\n",
        "\n",
        "For the MNIST classification problem, is there an advantage in using a Graph CNN instead of CNN ? Explain. "
      ]
    },
    {
      "cell_type": "markdown",
      "metadata": {
        "id": "62sZdTlhTb9s"
      },
      "source": [
        "> **Your answer here:**  \n",
        "Graph CNN is valuable when the data lives on a graph that captures meaningful relationships between the nodes. For an image, the grid graph is regular and thus it is not necessary to use a Graph CNN as convolution on the image already exploits the pixel neighborhood structure. This means that CNN is probably a better choice for the MNIST classification problem as it is a simpler architecture better suited for the image setting. \n",
        "We would expect a GNN to work better in cases where the relationships between the nodes are irregular, thus taking advantage of the graph structure of the data."
      ]
    },
    {
      "cell_type": "markdown",
      "source": [
        "# Second section: Practical Session on Graph Neural Networks:\n",
        "\n",
        "## Objective:\n",
        "In the second part, you will work on a different Protein-Protein Network graph dataset, and try to defeat the baseline model by either implementing state-of-the-art GNN architectures, or possibly using your own ideas based on the task and the graph structures of this dataset. This section may guide you how you can take advantage of GNN on any unknown task or dataset in the future.\n",
        "\n",
        "\n",
        "##<font color='red'> **PART 1 : CODING** (8pts)"
      ],
      "metadata": {
        "id": "mYaR-c2Nu2kF"
      }
    },
    {
      "cell_type": "markdown",
      "source": [
        "### Install Pytorch Geometric\n",
        "\n",
        "To handle graph data, we use the library Pytorch Geometric : https://pytorch-geometric.readthedocs.io/en/latest/\n",
        "\n",
        "*   If you use _Google Colab_, simply run the following cell to install Pytorch Geometric (**advised**).\n",
        "*   If you plan using your _own environment_, follow the documentation to install Pytorch Geometric : https://pytorch-geometric.readthedocs.io/en/latest/install/installation.html and skip the following cell."
      ],
      "metadata": {
        "id": "ondoH9gU0ADn"
      }
    },
    {
      "cell_type": "code",
      "source": [
        "########## INSTALL TORCH GEOMETRIC ##################\n",
        "# https://pytorch-geometric.readthedocs.io/en/latest/ \n",
        "#####################################################\n",
        "import torch \n",
        "\n",
        "def format_pytorch_version(version):\n",
        "  return version.split('+')[0]\n",
        "\n",
        "TORCH_version = torch.__version__\n",
        "TORCH = format_pytorch_version(TORCH_version)\n",
        "\n",
        "def format_cuda_version(version):\n",
        "  return 'cu' + version.replace('.', '')\n",
        "\n",
        "CUDA_version = torch.version.cuda\n",
        "CUDA = format_cuda_version(CUDA_version)\n",
        "\n",
        "!pip install torch-scatter     -f https://pytorch-geometric.com/whl/torch-{TORCH}+{CUDA}.html\n",
        "!pip install torch-sparse      -f https://pytorch-geometric.com/whl/torch-{TORCH}+{CUDA}.html\n",
        "!pip install torch-cluster     -f https://pytorch-geometric.com/whl/torch-{TORCH}+{CUDA}.html\n",
        "!pip install torch-spline-conv -f https://pytorch-geometric.com/whl/torch-{TORCH}+{CUDA}.html\n",
        "!pip install torch-geometric"
      ],
      "metadata": {
        "id": "CXwb2HbW0Ady",
        "colab": {
          "base_uri": "https://localhost:8080/"
        },
        "outputId": "ab4e2ffa-3b29-4b0a-f5e2-a67d818d4412"
      },
      "execution_count": 17,
      "outputs": [
        {
          "output_type": "stream",
          "name": "stdout",
          "text": [
            "Looking in indexes: https://pypi.org/simple, https://us-python.pkg.dev/colab-wheels/public/simple/\n",
            "Looking in links: https://pytorch-geometric.com/whl/torch-2.0.0+cu118.html\n",
            "Requirement already satisfied: torch-scatter in /usr/local/lib/python3.10/dist-packages (2.1.1+pt20cu118)\n",
            "Looking in indexes: https://pypi.org/simple, https://us-python.pkg.dev/colab-wheels/public/simple/\n",
            "Looking in links: https://pytorch-geometric.com/whl/torch-2.0.0+cu118.html\n",
            "Requirement already satisfied: torch-sparse in /usr/local/lib/python3.10/dist-packages (0.6.17+pt20cu118)\n",
            "Requirement already satisfied: scipy in /usr/local/lib/python3.10/dist-packages (from torch-sparse) (1.10.1)\n",
            "Requirement already satisfied: numpy<1.27.0,>=1.19.5 in /usr/local/lib/python3.10/dist-packages (from scipy->torch-sparse) (1.22.4)\n",
            "Looking in indexes: https://pypi.org/simple, https://us-python.pkg.dev/colab-wheels/public/simple/\n",
            "Looking in links: https://pytorch-geometric.com/whl/torch-2.0.0+cu118.html\n",
            "Requirement already satisfied: torch-cluster in /usr/local/lib/python3.10/dist-packages (1.6.1+pt20cu118)\n",
            "Requirement already satisfied: scipy in /usr/local/lib/python3.10/dist-packages (from torch-cluster) (1.10.1)\n",
            "Requirement already satisfied: numpy<1.27.0,>=1.19.5 in /usr/local/lib/python3.10/dist-packages (from scipy->torch-cluster) (1.22.4)\n",
            "Looking in indexes: https://pypi.org/simple, https://us-python.pkg.dev/colab-wheels/public/simple/\n",
            "Looking in links: https://pytorch-geometric.com/whl/torch-2.0.0+cu118.html\n",
            "Requirement already satisfied: torch-spline-conv in /usr/local/lib/python3.10/dist-packages (1.2.2+pt20cu118)\n",
            "Looking in indexes: https://pypi.org/simple, https://us-python.pkg.dev/colab-wheels/public/simple/\n",
            "Requirement already satisfied: torch-geometric in /usr/local/lib/python3.10/dist-packages (2.3.1)\n",
            "Requirement already satisfied: tqdm in /usr/local/lib/python3.10/dist-packages (from torch-geometric) (4.65.0)\n",
            "Requirement already satisfied: numpy in /usr/local/lib/python3.10/dist-packages (from torch-geometric) (1.22.4)\n",
            "Requirement already satisfied: scipy in /usr/local/lib/python3.10/dist-packages (from torch-geometric) (1.10.1)\n",
            "Requirement already satisfied: jinja2 in /usr/local/lib/python3.10/dist-packages (from torch-geometric) (3.1.2)\n",
            "Requirement already satisfied: requests in /usr/local/lib/python3.10/dist-packages (from torch-geometric) (2.27.1)\n",
            "Requirement already satisfied: pyparsing in /usr/local/lib/python3.10/dist-packages (from torch-geometric) (3.0.9)\n",
            "Requirement already satisfied: scikit-learn in /usr/local/lib/python3.10/dist-packages (from torch-geometric) (1.2.2)\n",
            "Requirement already satisfied: psutil>=5.8.0 in /usr/local/lib/python3.10/dist-packages (from torch-geometric) (5.9.5)\n",
            "Requirement already satisfied: MarkupSafe>=2.0 in /usr/local/lib/python3.10/dist-packages (from jinja2->torch-geometric) (2.1.2)\n",
            "Requirement already satisfied: urllib3<1.27,>=1.21.1 in /usr/local/lib/python3.10/dist-packages (from requests->torch-geometric) (1.26.15)\n",
            "Requirement already satisfied: certifi>=2017.4.17 in /usr/local/lib/python3.10/dist-packages (from requests->torch-geometric) (2022.12.7)\n",
            "Requirement already satisfied: charset-normalizer~=2.0.0 in /usr/local/lib/python3.10/dist-packages (from requests->torch-geometric) (2.0.12)\n",
            "Requirement already satisfied: idna<4,>=2.5 in /usr/local/lib/python3.10/dist-packages (from requests->torch-geometric) (3.4)\n",
            "Requirement already satisfied: joblib>=1.1.1 in /usr/local/lib/python3.10/dist-packages (from scikit-learn->torch-geometric) (1.2.0)\n",
            "Requirement already satisfied: threadpoolctl>=2.0.0 in /usr/local/lib/python3.10/dist-packages (from scikit-learn->torch-geometric) (3.1.0)\n"
          ]
        }
      ]
    },
    {
      "cell_type": "markdown",
      "source": [
        "### Import required packages\n",
        "\n",
        "Run the following cell to import all required packages. This cell **must not** be modified.\n",
        "\n",
        "To significantly accelerate your training, it is advised to use GPU. Using Google Colab, you need to activate it : \n",
        "\n",
        "*   Edit --> Notebook Setting --> Hardware accelerator --> GPU"
      ],
      "metadata": {
        "id": "pPfxpPKo0PbX"
      }
    },
    {
      "cell_type": "code",
      "source": [
        "#####################################################\n",
        "################## PACKAGES #########################\n",
        "#####################################################\n",
        "import numpy as np\n",
        "import matplotlib.pyplot as plt\n",
        "\n",
        "import torch.nn as nn\n",
        "import torch_geometric.nn as graphnn\n",
        "from sklearn.metrics import f1_score\n",
        "from torch_geometric.datasets import PPI\n",
        "from torch_geometric.loader import DataLoader"
      ],
      "metadata": {
        "id": "fHBsjdUK0JvU"
      },
      "execution_count": 18,
      "outputs": []
    },
    {
      "cell_type": "markdown",
      "source": [
        "### Dataset\n",
        "\n",
        "We use the Protein-Protein Interaction (PPI) network dataset which includes:\n",
        "- 20 graphs for training \n",
        "- 2 graphs for validation\n",
        "- 2 graphs for testing\n",
        "\n",
        "One graph of the PPI dataset has on average 2372 nodes. Each node contains:\n",
        "- 50 features : e.g., positional gene sets / motif gene / immunological signatures ...\n",
        "- 121 (binary) labels : gene ontology sets (way to classify gene products like proteins).\n",
        "\n",
        "**This problem aims to predict, for a given PPI graph, the correct node's labels**.\n",
        "\n",
        "**It is a node (multi-level) classification task** (trained using supervised learning). \n",
        "\n",
        "For your curiosity, more details information on the dataset and some applications:\n",
        "- https://cs.stanford.edu/~jure/pubs/pathways-psb18.pdf\n",
        "- https://arxiv.org/abs/1707.04638\n",
        "\n",
        "To understand how a graph data is implemented in Pytorch Geometric, refer to : https://pytorch-geometric.readthedocs.io/en/latest/get_started/introduction.html"
      ],
      "metadata": {
        "id": "UlK5Q6Gk0hFp"
      }
    },
    {
      "cell_type": "code",
      "source": [
        "### LOAD DATASETS\n",
        "\n",
        "BATCH_SIZE = 2 \n",
        "\n",
        "# Train Dataset\n",
        "train_dataset = PPI(root=\"\", split='train')\n",
        "train_dataloader = DataLoader(train_dataset, batch_size=BATCH_SIZE)\n",
        "# Val Dataset\n",
        "val_dataset = PPI(root=\"\", split='val')\n",
        "val_dataloader = DataLoader(val_dataset, batch_size=BATCH_SIZE)\n",
        "# Test Dataset\n",
        "test_dataset = PPI(root=\"\", split='test')\n",
        "test_dataloader = DataLoader(test_dataset, batch_size=BATCH_SIZE)\n",
        "\n",
        "# Number of features and classes\n",
        "n_features, n_classes = train_dataset[0].x.shape[1], train_dataset[0].y.shape[1]\n",
        "\n",
        "print(\"Number of samples in the train dataset: \", len(train_dataset))\n",
        "print(\"Number of samples in the val dataset: \", len(test_dataset))\n",
        "print(\"Number of samples in the test dataset: \", len(test_dataset))\n",
        "print(\"Output of one sample from the train dataset: \", train_dataset[0])\n",
        "print(\"Edge_index :\")\n",
        "print(train_dataset[0].edge_index)\n",
        "print(\"Number of features per node: \", n_features)\n",
        "print(\"Number of classes per node: \", n_classes)"
      ],
      "metadata": {
        "id": "1hJqnV2c0JoJ",
        "colab": {
          "base_uri": "https://localhost:8080/"
        },
        "outputId": "3161d71e-b1b5-442a-e5ad-b75b82780271"
      },
      "execution_count": 19,
      "outputs": [
        {
          "output_type": "stream",
          "name": "stdout",
          "text": [
            "Number of samples in the train dataset:  20\n",
            "Number of samples in the val dataset:  2\n",
            "Number of samples in the test dataset:  2\n",
            "Output of one sample from the train dataset:  Data(x=[1767, 50], edge_index=[2, 32318], y=[1767, 121])\n",
            "Edge_index :\n",
            "tensor([[   0,    0,    0,  ..., 1744, 1745, 1749],\n",
            "        [ 372, 1101,  766,  ..., 1745, 1744, 1739]])\n",
            "Number of features per node:  50\n",
            "Number of classes per node:  121\n"
          ]
        }
      ]
    },
    {
      "cell_type": "markdown",
      "source": [
        "### Define a basic Model\n",
        "Here we define a very simple Graph Neural Network model which will be used as our baseline. This model consists of three graph convolutional layers (from https://arxiv.org/pdf/1609.02907.pdf). The first two layers computes 256 features, followed by an ELU activation function. The last layer is used for (multi-level) classification task, computing 121 features which is the number of classes."
      ],
      "metadata": {
        "id": "luhfLKBS0oB8"
      }
    },
    {
      "cell_type": "code",
      "source": [
        "#####################################################\n",
        "################## MODEL ############################\n",
        "#####################################################\n",
        "class BasicGraphModel(nn.Module):\n",
        "\n",
        "    def __init__(self, input_size, hidden_size, output_size):\n",
        "        super().__init__()\n",
        "\n",
        "        self.graphconv1 = graphnn.GCNConv(input_size, hidden_size)\n",
        "        self.graphconv2 = graphnn.GCNConv(hidden_size, hidden_size)\n",
        "        self.graphconv3 = graphnn.GCNConv(hidden_size, output_size)\n",
        "\n",
        "        self.elu = nn.ELU()\n",
        "\n",
        "    def forward(self, x, edge_index):\n",
        "\n",
        "        x = self.graphconv1(x, edge_index)\n",
        "        x = self.elu(x)\n",
        "        x = self.graphconv2(x, edge_index)\n",
        "        x = self.elu(x)\n",
        "        x = self.graphconv3(x, edge_index)\n",
        "\n",
        "        return x"
      ],
      "metadata": {
        "id": "0ek3dvzd0Jk-"
      },
      "execution_count": 20,
      "outputs": []
    },
    {
      "cell_type": "markdown",
      "source": [
        "Next we construct the function to train the model."
      ],
      "metadata": {
        "id": "fRCA1Dga09Ff"
      }
    },
    {
      "cell_type": "code",
      "source": [
        "#####################################################\n",
        "############## TRAIN FUNCTION #######################\n",
        "#####################################################\n",
        "def train(model, loss_fcn, device, optimizer, max_epochs, train_dataloader, val_dataloader):\n",
        "\n",
        "    epoch_list = []\n",
        "    scores_list = []\n",
        "\n",
        "    # loop over epochs\n",
        "    for epoch in range(max_epochs):\n",
        "        model.train()\n",
        "        losses = []\n",
        "        # loop over batches\n",
        "        for i, train_batch in enumerate(train_dataloader):\n",
        "            optimizer.zero_grad()\n",
        "            train_batch_device = train_batch.to(device)\n",
        "            # logits is the output of the model\n",
        "            logits = model(train_batch_device.x, train_batch_device.edge_index)\n",
        "            # compute the loss\n",
        "            loss = loss_fcn(logits, train_batch_device.y)\n",
        "            # optimizer step\n",
        "            loss.backward()\n",
        "            optimizer.step()\n",
        "            losses.append(loss.item())\n",
        "        loss_data = np.array(losses).mean()\n",
        "        print(\"Epoch {:05d} | Loss: {:.4f}\".format(epoch + 1, loss_data))\n",
        "\n",
        "        if epoch % 5 == 0:\n",
        "            # evaluate the model on the validation set\n",
        "            # computes the f1-score (see next function)\n",
        "            score = evaluate(model, loss_fcn, device, val_dataloader)\n",
        "            print(\"F1-Score: {:.4f}\".format(score))\n",
        "            scores_list.append(score)\n",
        "            epoch_list.append(epoch)\n",
        "\n",
        "    return epoch_list, scores_list"
      ],
      "metadata": {
        "id": "isKRdJJT09mB"
      },
      "execution_count": 21,
      "outputs": []
    },
    {
      "cell_type": "markdown",
      "source": [
        "Next, a function is designed to evaluate the performance of the model, computing the F1-Score."
      ],
      "metadata": {
        "id": "ePatmKbs1F1v"
      }
    },
    {
      "cell_type": "code",
      "source": [
        "#####################################################\n",
        "############### TEST FUNCTION #######################\n",
        "#####################################################\n",
        "def evaluate(model, loss_fcn, device, dataloader):\n",
        "\n",
        "    score_list_batch = []\n",
        "\n",
        "    model.eval()\n",
        "    for i, batch in enumerate(dataloader):\n",
        "        batch = batch.to(device)\n",
        "        output = model(batch.x, batch.edge_index)\n",
        "        loss_test = loss_fcn(output, batch.y)\n",
        "        predict = np.where(output.detach().cpu().numpy() >= 0, 1, 0)\n",
        "        score = f1_score(batch.y.cpu().numpy(), predict, average=\"micro\")\n",
        "        score_list_batch.append(score)\n",
        "\n",
        "    return np.array(score_list_batch).mean()"
      ],
      "metadata": {
        "id": "edbjxo1l1Eje"
      },
      "execution_count": 22,
      "outputs": []
    },
    {
      "cell_type": "markdown",
      "source": [
        "Let's train this model !"
      ],
      "metadata": {
        "id": "YYvxkpSN1K0R"
      }
    },
    {
      "cell_type": "code",
      "source": [
        "### DEVICE GPU OR CPU : will select GPU if available\n",
        "device = torch.device('cuda' if torch.cuda.is_available() else 'cpu')\n",
        "print(\"\\nDevice: \", device)\n",
        "\n",
        "### Max number of epochs\n",
        "max_epochs = 200\n",
        "\n",
        "### DEFINE THE MODEL\n",
        "basic_model = BasicGraphModel(  input_size = n_features, \n",
        "                                hidden_size = 256, \n",
        "                                output_size = n_classes).to(device)\n",
        "\n",
        "### DEFINE LOSS FUNCTION\n",
        "loss_fcn = nn.BCEWithLogitsLoss()\n",
        "\n",
        "### DEFINE OPTIMIZER\n",
        "optimizer = torch.optim.Adam(basic_model.parameters(), lr=0.005)\n",
        "\n",
        "### TRAIN THE MODEL\n",
        "epoch_list, basic_model_scores = train(basic_model, loss_fcn, device, optimizer, max_epochs, train_dataloader, val_dataloader)"
      ],
      "metadata": {
        "id": "Dqlu6ytt1LOr",
        "colab": {
          "base_uri": "https://localhost:8080/"
        },
        "outputId": "95ed5a1e-98fd-4b88-e229-fae602bdc510"
      },
      "execution_count": 23,
      "outputs": [
        {
          "output_type": "stream",
          "name": "stdout",
          "text": [
            "\n",
            "Device:  cuda\n",
            "Epoch 00001 | Loss: 0.6363\n",
            "F1-Score: 0.4550\n",
            "Epoch 00002 | Loss: 0.5798\n",
            "Epoch 00003 | Loss: 0.5619\n",
            "Epoch 00004 | Loss: 0.5558\n",
            "Epoch 00005 | Loss: 0.5508\n",
            "Epoch 00006 | Loss: 0.5466\n",
            "F1-Score: 0.4955\n",
            "Epoch 00007 | Loss: 0.5422\n",
            "Epoch 00008 | Loss: 0.5377\n",
            "Epoch 00009 | Loss: 0.5344\n",
            "Epoch 00010 | Loss: 0.5319\n",
            "Epoch 00011 | Loss: 0.5291\n",
            "F1-Score: 0.5274\n",
            "Epoch 00012 | Loss: 0.5265\n",
            "Epoch 00013 | Loss: 0.5240\n",
            "Epoch 00014 | Loss: 0.5217\n",
            "Epoch 00015 | Loss: 0.5195\n",
            "Epoch 00016 | Loss: 0.5174\n",
            "F1-Score: 0.5296\n",
            "Epoch 00017 | Loss: 0.5154\n",
            "Epoch 00018 | Loss: 0.5134\n",
            "Epoch 00019 | Loss: 0.5113\n",
            "Epoch 00020 | Loss: 0.5091\n",
            "Epoch 00021 | Loss: 0.5066\n",
            "F1-Score: 0.5149\n",
            "Epoch 00022 | Loss: 0.5044\n",
            "Epoch 00023 | Loss: 0.5025\n",
            "Epoch 00024 | Loss: 0.5008\n",
            "Epoch 00025 | Loss: 0.4987\n",
            "Epoch 00026 | Loss: 0.4970\n",
            "F1-Score: 0.5422\n",
            "Epoch 00027 | Loss: 0.4952\n",
            "Epoch 00028 | Loss: 0.4934\n",
            "Epoch 00029 | Loss: 0.4915\n",
            "Epoch 00030 | Loss: 0.4897\n",
            "Epoch 00031 | Loss: 0.4880\n",
            "F1-Score: 0.5511\n",
            "Epoch 00032 | Loss: 0.4862\n",
            "Epoch 00033 | Loss: 0.4845\n",
            "Epoch 00034 | Loss: 0.4828\n",
            "Epoch 00035 | Loss: 0.4813\n",
            "Epoch 00036 | Loss: 0.4797\n",
            "F1-Score: 0.5585\n",
            "Epoch 00037 | Loss: 0.4784\n",
            "Epoch 00038 | Loss: 0.4771\n",
            "Epoch 00039 | Loss: 0.4761\n",
            "Epoch 00040 | Loss: 0.4754\n",
            "Epoch 00041 | Loss: 0.4748\n",
            "F1-Score: 0.5646\n",
            "Epoch 00042 | Loss: 0.4734\n",
            "Epoch 00043 | Loss: 0.4721\n",
            "Epoch 00044 | Loss: 0.4707\n",
            "Epoch 00045 | Loss: 0.4705\n",
            "Epoch 00046 | Loss: 0.4691\n",
            "F1-Score: 0.5477\n",
            "Epoch 00047 | Loss: 0.4666\n",
            "Epoch 00048 | Loss: 0.4666\n",
            "Epoch 00049 | Loss: 0.4657\n",
            "Epoch 00050 | Loss: 0.4639\n",
            "Epoch 00051 | Loss: 0.4626\n",
            "F1-Score: 0.5698\n",
            "Epoch 00052 | Loss: 0.4605\n",
            "Epoch 00053 | Loss: 0.4592\n",
            "Epoch 00054 | Loss: 0.4580\n",
            "Epoch 00055 | Loss: 0.4569\n",
            "Epoch 00056 | Loss: 0.4560\n",
            "F1-Score: 0.5719\n",
            "Epoch 00057 | Loss: 0.4550\n",
            "Epoch 00058 | Loss: 0.4534\n",
            "Epoch 00059 | Loss: 0.4520\n",
            "Epoch 00060 | Loss: 0.4512\n",
            "Epoch 00061 | Loss: 0.4508\n",
            "F1-Score: 0.5789\n",
            "Epoch 00062 | Loss: 0.4500\n",
            "Epoch 00063 | Loss: 0.4493\n",
            "Epoch 00064 | Loss: 0.4485\n",
            "Epoch 00065 | Loss: 0.4489\n",
            "Epoch 00066 | Loss: 0.4494\n",
            "F1-Score: 0.5616\n",
            "Epoch 00067 | Loss: 0.4487\n",
            "Epoch 00068 | Loss: 0.4481\n",
            "Epoch 00069 | Loss: 0.4471\n",
            "Epoch 00070 | Loss: 0.4478\n",
            "Epoch 00071 | Loss: 0.4482\n",
            "F1-Score: 0.5915\n",
            "Epoch 00072 | Loss: 0.4480\n",
            "Epoch 00073 | Loss: 0.4462\n",
            "Epoch 00074 | Loss: 0.4450\n",
            "Epoch 00075 | Loss: 0.4448\n",
            "Epoch 00076 | Loss: 0.4453\n",
            "F1-Score: 0.5694\n",
            "Epoch 00077 | Loss: 0.4438\n",
            "Epoch 00078 | Loss: 0.4422\n",
            "Epoch 00079 | Loss: 0.4411\n",
            "Epoch 00080 | Loss: 0.4398\n",
            "Epoch 00081 | Loss: 0.4391\n",
            "F1-Score: 0.5817\n",
            "Epoch 00082 | Loss: 0.4387\n",
            "Epoch 00083 | Loss: 0.4386\n",
            "Epoch 00084 | Loss: 0.4380\n",
            "Epoch 00085 | Loss: 0.4377\n",
            "Epoch 00086 | Loss: 0.4366\n",
            "F1-Score: 0.5843\n",
            "Epoch 00087 | Loss: 0.4361\n",
            "Epoch 00088 | Loss: 0.4345\n",
            "Epoch 00089 | Loss: 0.4335\n",
            "Epoch 00090 | Loss: 0.4336\n",
            "Epoch 00091 | Loss: 0.4332\n",
            "F1-Score: 0.5936\n",
            "Epoch 00092 | Loss: 0.4314\n",
            "Epoch 00093 | Loss: 0.4306\n",
            "Epoch 00094 | Loss: 0.4303\n",
            "Epoch 00095 | Loss: 0.4296\n",
            "Epoch 00096 | Loss: 0.4291\n",
            "F1-Score: 0.6118\n",
            "Epoch 00097 | Loss: 0.4296\n",
            "Epoch 00098 | Loss: 0.4307\n",
            "Epoch 00099 | Loss: 0.4285\n",
            "Epoch 00100 | Loss: 0.4285\n",
            "Epoch 00101 | Loss: 0.4306\n",
            "F1-Score: 0.5754\n",
            "Epoch 00102 | Loss: 0.4304\n",
            "Epoch 00103 | Loss: 0.4300\n",
            "Epoch 00104 | Loss: 0.4301\n",
            "Epoch 00105 | Loss: 0.4291\n",
            "Epoch 00106 | Loss: 0.4280\n",
            "F1-Score: 0.6041\n",
            "Epoch 00107 | Loss: 0.4268\n",
            "Epoch 00108 | Loss: 0.4252\n",
            "Epoch 00109 | Loss: 0.4241\n",
            "Epoch 00110 | Loss: 0.4237\n",
            "Epoch 00111 | Loss: 0.4239\n",
            "F1-Score: 0.6019\n",
            "Epoch 00112 | Loss: 0.4235\n",
            "Epoch 00113 | Loss: 0.4227\n",
            "Epoch 00114 | Loss: 0.4222\n",
            "Epoch 00115 | Loss: 0.4226\n",
            "Epoch 00116 | Loss: 0.4241\n",
            "F1-Score: 0.5951\n",
            "Epoch 00117 | Loss: 0.4238\n",
            "Epoch 00118 | Loss: 0.4237\n",
            "Epoch 00119 | Loss: 0.4225\n",
            "Epoch 00120 | Loss: 0.4204\n",
            "Epoch 00121 | Loss: 0.4203\n",
            "F1-Score: 0.6151\n",
            "Epoch 00122 | Loss: 0.4202\n",
            "Epoch 00123 | Loss: 0.4175\n",
            "Epoch 00124 | Loss: 0.4180\n",
            "Epoch 00125 | Loss: 0.4171\n",
            "Epoch 00126 | Loss: 0.4160\n",
            "F1-Score: 0.6249\n",
            "Epoch 00127 | Loss: 0.4173\n",
            "Epoch 00128 | Loss: 0.4172\n",
            "Epoch 00129 | Loss: 0.4175\n",
            "Epoch 00130 | Loss: 0.4181\n",
            "Epoch 00131 | Loss: 0.4193\n",
            "F1-Score: 0.6365\n",
            "Epoch 00132 | Loss: 0.4193\n",
            "Epoch 00133 | Loss: 0.4180\n",
            "Epoch 00134 | Loss: 0.4191\n",
            "Epoch 00135 | Loss: 0.4177\n",
            "Epoch 00136 | Loss: 0.4177\n",
            "F1-Score: 0.6476\n",
            "Epoch 00137 | Loss: 0.4200\n",
            "Epoch 00138 | Loss: 0.4233\n",
            "Epoch 00139 | Loss: 0.4250\n",
            "Epoch 00140 | Loss: 0.4263\n",
            "Epoch 00141 | Loss: 0.4258\n",
            "F1-Score: 0.6200\n",
            "Epoch 00142 | Loss: 0.4244\n",
            "Epoch 00143 | Loss: 0.4215\n",
            "Epoch 00144 | Loss: 0.4190\n",
            "Epoch 00145 | Loss: 0.4190\n",
            "Epoch 00146 | Loss: 0.4169\n",
            "F1-Score: 0.6339\n",
            "Epoch 00147 | Loss: 0.4180\n",
            "Epoch 00148 | Loss: 0.4205\n",
            "Epoch 00149 | Loss: 0.4210\n",
            "Epoch 00150 | Loss: 0.4230\n",
            "Epoch 00151 | Loss: 0.4266\n",
            "F1-Score: 0.5756\n",
            "Epoch 00152 | Loss: 0.4269\n",
            "Epoch 00153 | Loss: 0.4275\n",
            "Epoch 00154 | Loss: 0.4251\n",
            "Epoch 00155 | Loss: 0.4250\n",
            "Epoch 00156 | Loss: 0.4239\n",
            "F1-Score: 0.6371\n",
            "Epoch 00157 | Loss: 0.4225\n",
            "Epoch 00158 | Loss: 0.4164\n",
            "Epoch 00159 | Loss: 0.4140\n",
            "Epoch 00160 | Loss: 0.4128\n",
            "Epoch 00161 | Loss: 0.4150\n",
            "F1-Score: 0.6393\n",
            "Epoch 00162 | Loss: 0.4144\n",
            "Epoch 00163 | Loss: 0.4133\n",
            "Epoch 00164 | Loss: 0.4145\n",
            "Epoch 00165 | Loss: 0.4155\n",
            "Epoch 00166 | Loss: 0.4154\n",
            "F1-Score: 0.6376\n",
            "Epoch 00167 | Loss: 0.4122\n",
            "Epoch 00168 | Loss: 0.4114\n",
            "Epoch 00169 | Loss: 0.4105\n",
            "Epoch 00170 | Loss: 0.4105\n",
            "Epoch 00171 | Loss: 0.4098\n",
            "F1-Score: 0.6161\n",
            "Epoch 00172 | Loss: 0.4087\n",
            "Epoch 00173 | Loss: 0.4088\n",
            "Epoch 00174 | Loss: 0.4072\n",
            "Epoch 00175 | Loss: 0.4067\n",
            "Epoch 00176 | Loss: 0.4066\n",
            "F1-Score: 0.6110\n",
            "Epoch 00177 | Loss: 0.4065\n",
            "Epoch 00178 | Loss: 0.4062\n",
            "Epoch 00179 | Loss: 0.4071\n",
            "Epoch 00180 | Loss: 0.4075\n",
            "Epoch 00181 | Loss: 0.4074\n",
            "F1-Score: 0.6439\n",
            "Epoch 00182 | Loss: 0.4087\n",
            "Epoch 00183 | Loss: 0.4121\n",
            "Epoch 00184 | Loss: 0.4114\n",
            "Epoch 00185 | Loss: 0.4115\n",
            "Epoch 00186 | Loss: 0.4105\n",
            "F1-Score: 0.6479\n",
            "Epoch 00187 | Loss: 0.4111\n",
            "Epoch 00188 | Loss: 0.4091\n",
            "Epoch 00189 | Loss: 0.4080\n",
            "Epoch 00190 | Loss: 0.4067\n",
            "Epoch 00191 | Loss: 0.4043\n",
            "F1-Score: 0.6213\n",
            "Epoch 00192 | Loss: 0.4026\n",
            "Epoch 00193 | Loss: 0.4030\n",
            "Epoch 00194 | Loss: 0.4025\n",
            "Epoch 00195 | Loss: 0.4038\n",
            "Epoch 00196 | Loss: 0.4038\n",
            "F1-Score: 0.6209\n",
            "Epoch 00197 | Loss: 0.4045\n",
            "Epoch 00198 | Loss: 0.4038\n",
            "Epoch 00199 | Loss: 0.4053\n",
            "Epoch 00200 | Loss: 0.4053\n"
          ]
        }
      ]
    },
    {
      "cell_type": "code",
      "source": [
        "### F1-SCORE ON TEST DATASET\n",
        "score_test = evaluate(basic_model, loss_fcn, device, test_dataloader)\n",
        "print(\"Basic Model : F1-Score on the test set: {:.4f}\".format(score_test))\n",
        "\n",
        "### PLOT EVOLUTION OF F1-SCORE W.R.T EPOCHS\n",
        "def plot_f1_score(epoch_list, scores) :\n",
        "    plt.figure(figsize=[10,5])\n",
        "    plt.plot(epoch_list, scores)\n",
        "    plt.title(\"Evolution of F1S-Score w.r.t epochs\")\n",
        "    plt.ylim([0.0, 1.0])\n",
        "    plt.show()\n",
        "    \n",
        "plot_f1_score(epoch_list, basic_model_scores)"
      ],
      "metadata": {
        "id": "ptwWgxmN1QlM",
        "colab": {
          "base_uri": "https://localhost:8080/",
          "height": 485
        },
        "outputId": "987c07c8-699f-4512-8341-9f6725c722e3"
      },
      "execution_count": 24,
      "outputs": [
        {
          "output_type": "stream",
          "name": "stdout",
          "text": [
            "Basic Model : F1-Score on the test set: 0.6753\n"
          ]
        },
        {
          "output_type": "display_data",
          "data": {
            "text/plain": [
              "<Figure size 1000x500 with 1 Axes>"
            ],
            "image/png": "[encoded data removed]"
          },
          "metadata": {}
        }
      ]
    },
    {
      "cell_type": "markdown",
      "source": [
        "### <font color='red'> Define a better model\n",
        "\n",
        "Now, it's your turn to improve this basic model ! To do so, complete whenever ###### YOUR ANSWER ######## and run the two following cells. You can either use the architectures you learned from the lecture, or try to come up with an idea of your own.\n",
        "\n",
        "**HINT :** https://arxiv.org/pdf/1710.10903.pdf"
      ],
      "metadata": {
        "id": "3Q9qSfkZ1bAa"
      }
    },
    {
      "cell_type": "code",
      "source": [
        "# Your solution here ###########################################################\n",
        "\n",
        "#^^^^^^^^^^^^^^^^^^^^^^^^^^^^^^^^^^^^^^^^^^^^^^^^^^^^^^^^^^^^^^^^^^^^^^^^^^^^^^^\n",
        "class StudentModel(nn.Module):\n",
        "  def __init__(self, input_size, hidden_size, output_size, head1, head2, head3):\n",
        "      super().__init__()\n",
        "      \n",
        "      ####### YOUR ANSWER #######\n",
        "      self.graphconv1 = graphnn.GATConv(input_size, hidden_size, head1)\n",
        "      self.graphconv2 = graphnn.GATConv(hidden_size*head1, hidden_size, head2)\n",
        "      self.graphconv3 = graphnn.GATConv(hidden_size*head2, output_size, head3, \n",
        "                                        concat=False)\n",
        "      \n",
        "      self.elu = nn.ELU()\n",
        "\n",
        "  def forward(self, x, edge_index):\n",
        "\n",
        "      ####### YOUR ANSWER #######\n",
        "      x = self.graphconv1(x, edge_index)\n",
        "      x = self.elu(x)\n",
        "      x = self.graphconv2(x, edge_index)\n",
        "      x = self.elu(x)\n",
        "      x = self.graphconv3(x, edge_index)\n",
        "\n",
        "      return x"
      ],
      "metadata": {
        "id": "wgWjW22Y1bh1"
      },
      "execution_count": 29,
      "outputs": []
    },
    {
      "cell_type": "code",
      "source": [
        "## Student model\n",
        "student_model = StudentModel(input_size = n_features, \n",
        "                             hidden_size = 256, \n",
        "                             output_size = n_classes,\n",
        "                             head1 = 4, head2 = 4, head3 = 6).to(device)\n",
        "\n",
        "### DEFINE LOSS FUNCTION AND OPTIMIZER\n",
        "optimizer = torch.optim.Adam(student_model.parameters(), lr=0.005)\n",
        "\n",
        "### TRAIN\n",
        "epoch_list, student_model_scores = train(student_model, loss_fcn, device, optimizer, max_epochs, train_dataloader, val_dataloader)"
      ],
      "metadata": {
        "id": "95NkPqsZ1kwc",
        "colab": {
          "base_uri": "https://localhost:8080/"
        },
        "outputId": "8ccf083f-54b1-40dd-f554-8587a15498ca"
      },
      "execution_count": 30,
      "outputs": [
        {
          "output_type": "stream",
          "name": "stdout",
          "text": [
            "Epoch 00001 | Loss: 0.6916\n",
            "F1-Score: 0.4048\n",
            "Epoch 00002 | Loss: 0.5654\n",
            "Epoch 00003 | Loss: 0.5417\n",
            "Epoch 00004 | Loss: 0.5340\n",
            "Epoch 00005 | Loss: 0.5181\n",
            "Epoch 00006 | Loss: 0.5105\n",
            "F1-Score: 0.4920\n",
            "Epoch 00007 | Loss: 0.5033\n",
            "Epoch 00008 | Loss: 0.5001\n",
            "Epoch 00009 | Loss: 0.4972\n",
            "Epoch 00010 | Loss: 0.4909\n",
            "Epoch 00011 | Loss: 0.4824\n",
            "F1-Score: 0.5342\n",
            "Epoch 00012 | Loss: 0.4773\n",
            "Epoch 00013 | Loss: 0.4766\n",
            "Epoch 00014 | Loss: 0.4723\n",
            "Epoch 00015 | Loss: 0.4636\n",
            "Epoch 00016 | Loss: 0.4606\n",
            "F1-Score: 0.5845\n",
            "Epoch 00017 | Loss: 0.4558\n",
            "Epoch 00018 | Loss: 0.4493\n",
            "Epoch 00019 | Loss: 0.4435\n",
            "Epoch 00020 | Loss: 0.4386\n",
            "Epoch 00021 | Loss: 0.4359\n",
            "F1-Score: 0.6090\n",
            "Epoch 00022 | Loss: 0.4417\n",
            "Epoch 00023 | Loss: 0.4355\n",
            "Epoch 00024 | Loss: 0.4267\n",
            "Epoch 00025 | Loss: 0.4181\n",
            "Epoch 00026 | Loss: 0.4164\n",
            "F1-Score: 0.6133\n",
            "Epoch 00027 | Loss: 0.4076\n",
            "Epoch 00028 | Loss: 0.4016\n",
            "Epoch 00029 | Loss: 0.3975\n",
            "Epoch 00030 | Loss: 0.3909\n",
            "Epoch 00031 | Loss: 0.3936\n",
            "F1-Score: 0.6332\n",
            "Epoch 00032 | Loss: 0.3855\n",
            "Epoch 00033 | Loss: 0.3784\n",
            "Epoch 00034 | Loss: 0.3726\n",
            "Epoch 00035 | Loss: 0.3671\n",
            "Epoch 00036 | Loss: 0.3628\n",
            "F1-Score: 0.6883\n",
            "Epoch 00037 | Loss: 0.3654\n",
            "Epoch 00038 | Loss: 0.3638\n",
            "Epoch 00039 | Loss: 0.3599\n",
            "Epoch 00040 | Loss: 0.3490\n",
            "Epoch 00041 | Loss: 0.3409\n",
            "F1-Score: 0.7098\n",
            "Epoch 00042 | Loss: 0.3382\n",
            "Epoch 00043 | Loss: 0.3340\n",
            "Epoch 00044 | Loss: 0.3268\n",
            "Epoch 00045 | Loss: 0.3231\n",
            "Epoch 00046 | Loss: 0.3172\n",
            "F1-Score: 0.7337\n",
            "Epoch 00047 | Loss: 0.3110\n",
            "Epoch 00048 | Loss: 0.3082\n",
            "Epoch 00049 | Loss: 0.3036\n",
            "Epoch 00050 | Loss: 0.3003\n",
            "Epoch 00051 | Loss: 0.2963\n",
            "F1-Score: 0.7585\n",
            "Epoch 00052 | Loss: 0.2934\n",
            "Epoch 00053 | Loss: 0.2879\n",
            "Epoch 00054 | Loss: 0.2844\n",
            "Epoch 00055 | Loss: 0.2818\n",
            "Epoch 00056 | Loss: 0.2781\n",
            "F1-Score: 0.7730\n",
            "Epoch 00057 | Loss: 0.2761\n",
            "Epoch 00058 | Loss: 0.2759\n",
            "Epoch 00059 | Loss: 0.2814\n",
            "Epoch 00060 | Loss: 0.2803\n",
            "Epoch 00061 | Loss: 0.2812\n",
            "F1-Score: 0.7434\n",
            "Epoch 00062 | Loss: 0.2865\n",
            "Epoch 00063 | Loss: 0.2834\n",
            "Epoch 00064 | Loss: 0.2668\n",
            "Epoch 00065 | Loss: 0.2551\n",
            "Epoch 00066 | Loss: 0.2470\n",
            "F1-Score: 0.7784\n",
            "Epoch 00067 | Loss: 0.2436\n",
            "Epoch 00068 | Loss: 0.2452\n",
            "Epoch 00069 | Loss: 0.2414\n",
            "Epoch 00070 | Loss: 0.2353\n",
            "Epoch 00071 | Loss: 0.2305\n",
            "F1-Score: 0.7973\n",
            "Epoch 00072 | Loss: 0.2261\n",
            "Epoch 00073 | Loss: 0.2214\n",
            "Epoch 00074 | Loss: 0.2157\n",
            "Epoch 00075 | Loss: 0.2148\n",
            "Epoch 00076 | Loss: 0.2114\n",
            "F1-Score: 0.8184\n",
            "Epoch 00077 | Loss: 0.2081\n",
            "Epoch 00078 | Loss: 0.2047\n",
            "Epoch 00079 | Loss: 0.2023\n",
            "Epoch 00080 | Loss: 0.2026\n",
            "Epoch 00081 | Loss: 0.2004\n",
            "F1-Score: 0.8059\n",
            "Epoch 00082 | Loss: 0.2081\n",
            "Epoch 00083 | Loss: 0.2147\n",
            "Epoch 00084 | Loss: 0.2103\n",
            "Epoch 00085 | Loss: 0.2053\n",
            "Epoch 00086 | Loss: 0.1988\n",
            "F1-Score: 0.8164\n",
            "Epoch 00087 | Loss: 0.1968\n",
            "Epoch 00088 | Loss: 0.1940\n",
            "Epoch 00089 | Loss: 0.1894\n",
            "Epoch 00090 | Loss: 0.1877\n",
            "Epoch 00091 | Loss: 0.1802\n",
            "F1-Score: 0.8398\n",
            "Epoch 00092 | Loss: 0.1763\n",
            "Epoch 00093 | Loss: 0.1745\n",
            "Epoch 00094 | Loss: 0.1717\n",
            "Epoch 00095 | Loss: 0.1655\n",
            "Epoch 00096 | Loss: 0.1634\n",
            "F1-Score: 0.8489\n",
            "Epoch 00097 | Loss: 0.1595\n",
            "Epoch 00098 | Loss: 0.1588\n",
            "Epoch 00099 | Loss: 0.1560\n",
            "Epoch 00100 | Loss: 0.1534\n",
            "Epoch 00101 | Loss: 0.1510\n",
            "F1-Score: 0.8562\n",
            "Epoch 00102 | Loss: 0.1511\n",
            "Epoch 00103 | Loss: 0.1566\n",
            "Epoch 00104 | Loss: 0.1594\n",
            "Epoch 00105 | Loss: 0.1609\n",
            "Epoch 00106 | Loss: 0.1584\n",
            "F1-Score: 0.8444\n",
            "Epoch 00107 | Loss: 0.1630\n",
            "Epoch 00108 | Loss: 0.1715\n",
            "Epoch 00109 | Loss: 0.1690\n",
            "Epoch 00110 | Loss: 0.1666\n",
            "Epoch 00111 | Loss: 0.1644\n",
            "F1-Score: 0.8427\n",
            "Epoch 00112 | Loss: 0.1676\n",
            "Epoch 00113 | Loss: 0.1732\n",
            "Epoch 00114 | Loss: 0.1717\n",
            "Epoch 00115 | Loss: 0.1638\n",
            "Epoch 00116 | Loss: 0.1563\n",
            "F1-Score: 0.8513\n",
            "Epoch 00117 | Loss: 0.1475\n",
            "Epoch 00118 | Loss: 0.1430\n",
            "Epoch 00119 | Loss: 0.1438\n",
            "Epoch 00120 | Loss: 0.1417\n",
            "Epoch 00121 | Loss: 0.1390\n",
            "F1-Score: 0.8668\n",
            "Epoch 00122 | Loss: 0.1406\n",
            "Epoch 00123 | Loss: 0.1356\n",
            "Epoch 00124 | Loss: 0.1302\n",
            "Epoch 00125 | Loss: 0.1246\n",
            "Epoch 00126 | Loss: 0.1213\n",
            "F1-Score: 0.8755\n",
            "Epoch 00127 | Loss: 0.1186\n",
            "Epoch 00128 | Loss: 0.1172\n",
            "Epoch 00129 | Loss: 0.1179\n",
            "Epoch 00130 | Loss: 0.1193\n",
            "Epoch 00131 | Loss: 0.1216\n",
            "F1-Score: 0.8687\n",
            "Epoch 00132 | Loss: 0.1268\n",
            "Epoch 00133 | Loss: 0.1260\n",
            "Epoch 00134 | Loss: 0.1289\n",
            "Epoch 00135 | Loss: 0.1377\n",
            "Epoch 00136 | Loss: 0.1308\n",
            "F1-Score: 0.8693\n",
            "Epoch 00137 | Loss: 0.1255\n",
            "Epoch 00138 | Loss: 0.1276\n",
            "Epoch 00139 | Loss: 0.1240\n",
            "Epoch 00140 | Loss: 0.1237\n",
            "Epoch 00141 | Loss: 0.1183\n",
            "F1-Score: 0.8791\n",
            "Epoch 00142 | Loss: 0.1156\n",
            "Epoch 00143 | Loss: 0.1106\n",
            "Epoch 00144 | Loss: 0.1065\n",
            "Epoch 00145 | Loss: 0.1046\n",
            "Epoch 00146 | Loss: 0.1016\n",
            "F1-Score: 0.8840\n",
            "Epoch 00147 | Loss: 0.1036\n",
            "Epoch 00148 | Loss: 0.1042\n",
            "Epoch 00149 | Loss: 0.1218\n",
            "Epoch 00150 | Loss: 0.1241\n",
            "Epoch 00151 | Loss: 0.1169\n",
            "F1-Score: 0.8733\n",
            "Epoch 00152 | Loss: 0.1118\n",
            "Epoch 00153 | Loss: 0.1126\n",
            "Epoch 00154 | Loss: 0.1149\n",
            "Epoch 00155 | Loss: 0.1140\n",
            "Epoch 00156 | Loss: 0.1123\n",
            "F1-Score: 0.8838\n",
            "Epoch 00157 | Loss: 0.1108\n",
            "Epoch 00158 | Loss: 0.1020\n",
            "Epoch 00159 | Loss: 0.0981\n",
            "Epoch 00160 | Loss: 0.0954\n",
            "Epoch 00161 | Loss: 0.0911\n",
            "F1-Score: 0.8903\n",
            "Epoch 00162 | Loss: 0.0917\n",
            "Epoch 00163 | Loss: 0.0927\n",
            "Epoch 00164 | Loss: 0.0907\n",
            "Epoch 00165 | Loss: 0.0887\n",
            "Epoch 00166 | Loss: 0.0901\n",
            "F1-Score: 0.8872\n",
            "Epoch 00167 | Loss: 0.0895\n",
            "Epoch 00168 | Loss: 0.0882\n",
            "Epoch 00169 | Loss: 0.0897\n",
            "Epoch 00170 | Loss: 0.0896\n",
            "Epoch 00171 | Loss: 0.0936\n",
            "F1-Score: 0.8885\n",
            "Epoch 00172 | Loss: 0.0943\n",
            "Epoch 00173 | Loss: 0.0932\n",
            "Epoch 00174 | Loss: 0.0945\n",
            "Epoch 00175 | Loss: 0.0988\n",
            "Epoch 00176 | Loss: 0.0934\n",
            "F1-Score: 0.8841\n",
            "Epoch 00177 | Loss: 0.0935\n",
            "Epoch 00178 | Loss: 0.0936\n",
            "Epoch 00179 | Loss: 0.0939\n",
            "Epoch 00180 | Loss: 0.0938\n",
            "Epoch 00181 | Loss: 0.0917\n",
            "F1-Score: 0.8911\n",
            "Epoch 00182 | Loss: 0.0891\n",
            "Epoch 00183 | Loss: 0.0869\n",
            "Epoch 00184 | Loss: 0.0853\n",
            "Epoch 00185 | Loss: 0.0837\n",
            "Epoch 00186 | Loss: 0.0797\n",
            "F1-Score: 0.8916\n",
            "Epoch 00187 | Loss: 0.0761\n",
            "Epoch 00188 | Loss: 0.0736\n",
            "Epoch 00189 | Loss: 0.0695\n",
            "Epoch 00190 | Loss: 0.0679\n",
            "Epoch 00191 | Loss: 0.0678\n",
            "F1-Score: 0.9019\n",
            "Epoch 00192 | Loss: 0.0668\n",
            "Epoch 00193 | Loss: 0.0649\n",
            "Epoch 00194 | Loss: 0.0649\n",
            "Epoch 00195 | Loss: 0.0652\n",
            "Epoch 00196 | Loss: 0.0678\n",
            "F1-Score: 0.9012\n",
            "Epoch 00197 | Loss: 0.0683\n",
            "Epoch 00198 | Loss: 0.0672\n",
            "Epoch 00199 | Loss: 0.0648\n",
            "Epoch 00200 | Loss: 0.0676\n"
          ]
        }
      ]
    },
    {
      "cell_type": "code",
      "source": [
        "score_test = evaluate(student_model, loss_fcn, device, test_dataloader)\n",
        "print(\"Student Model : F1-Score on the test set: {:.4f}\".format(score_test))\n",
        "\n",
        "def plot_f1_score(epoch_list, basic_model_scores, student_model_scores) :\n",
        "    plt.figure(figsize = [10,5])\n",
        "    plt.plot(epoch_list, basic_model_scores, 'b', label = \"Basic Model\")\n",
        "    plt.plot(epoch_list, student_model_scores, 'r', label = \"Student Model\")\n",
        "    plt.title(\"Evolution of f1 score w.r.t epochs\")\n",
        "    plt.ylim([0.0, 1.0])\n",
        "    plt.ylabel(\"Epochs\")\n",
        "    plt.xlabel(\"F1-Score\")\n",
        "    plt.legend()\n",
        "    plt.show()\n",
        "    \n",
        "plot_f1_score(epoch_list, basic_model_scores, student_model_scores)"
      ],
      "metadata": {
        "id": "LHxzz21G1n_C",
        "colab": {
          "base_uri": "https://localhost:8080/",
          "height": 504
        },
        "outputId": "bf19e34f-886b-429f-a6b2-4acb31b0cc4f"
      },
      "execution_count": 31,
      "outputs": [
        {
          "output_type": "stream",
          "name": "stdout",
          "text": [
            "Student Model : F1-Score on the test set: 0.9279\n"
          ]
        },
        {
          "output_type": "display_data",
          "data": {
            "text/plain": [
              "<Figure size 1000x500 with 1 Axes>"
            ],
            "image/png": "[encoded data removed]"
          },
          "metadata": {}
        }
      ]
    },
    {
      "cell_type": "markdown",
      "source": [
        "## <font color='red'> **PART 2 : QUESTIONS** (12pts)\n"
      ],
      "metadata": {
        "id": "hkrgsmMi1q27"
      }
    },
    {
      "cell_type": "markdown",
      "source": [
        "<font color='red'> 1. Explains your achitecture and justifies your choices (why the Graph Layer you chose is more efficient than the GCNLayer from the Basic Model?)."
      ],
      "metadata": {
        "id": "UClH63M5N0Nx"
      }
    },
    {
      "cell_type": "markdown",
      "source": [
        "> **Your answer here:**  \n",
        "We chose to replicate the architecture from the original GAT paper linked in the notebook. Indeed they apply their new method to the same PPI dataset so it seemed valid to use the same architecture. The key difference between this model and the GCN-based model is what is called the attention in each layer. The attention is the relative importance of each node to each other, this parameter is also trained which means that it is optimized.  \n",
        "Instead of a GCN layer in which the same value is attributed to the information coming from neighboring nodes, the GAT considers that the network should be more general by learning which neighbors are more/less important when exchanging information. This is the attention mechanism in GATs and we indeed see that the performance is much better than with the GCN model.\n"
      ],
      "metadata": {
        "id": "o8cQJp_3N0um"
      }
    },
    {
      "cell_type": "markdown",
      "source": [
        "<font color='red'>  2. Analyses your results (what is the F1-Score ? are your results convincing ?)"
      ],
      "metadata": {
        "id": "ZQZuIBDON1FS"
      }
    },
    {
      "cell_type": "markdown",
      "source": [
        "> **Your answer here:**  \n",
        "The F1-score is a standard measure of performance for classification tasks, it is a ratio of precision and recall. In our case we see that the GAT based model achieves an F1-score of over $90\\%$ which is very convincing as it is much higher than the $\\approx 60-65\\%$ of the GCN based model."
      ],
      "metadata": {
        "id": "_Bm-redLN1XR"
      }
    },
    {
      "cell_type": "markdown",
      "source": [
        "<font color='red'> 3. Provide a diagram of your architecture, which includes a good and clear legend as well as shapes information. The diagram must be submitted as an external file, along with this notebook (PDF, JEPG or PNG format accepted)."
      ],
      "metadata": {
        "id": "QwBHsPl6N1m3"
      }
    },
    {
      "cell_type": "markdown",
      "source": [
        "> **Your answer here:**"
      ],
      "metadata": {
        "id": "BJ7YIdxKuQwX"
      }
    },
    {
      "cell_type": "markdown",
      "source": [
        "<font color='red'> 4. What is the name of the problem that arises when using deep GNNs? Define and explain this problem."
      ],
      "metadata": {
        "id": "bawTfQN5N5rZ"
      }
    },
    {
      "cell_type": "markdown",
      "source": [
        "> **Your answer here:**  \n",
        "The problem is called over-smoothing: As the model gets deeper, the information of the whole graph is shared with everyone, and hence node features become similar everywhere."
      ],
      "metadata": {
        "id": "PygWElzkOiOi"
      }
    },
    {
      "cell_type": "markdown",
      "source": [
        "<font color='red'> 5. Are there solutions to overcome it ? "
      ],
      "metadata": {
        "id": "0K3G6Qu8N5jV"
      }
    },
    {
      "cell_type": "markdown",
      "source": [
        "> **Your answer here:**  \n",
        "One current way to alleviate over-smoothing is to train while randomly dropping edges, as it is done using DropEdge (Rong et al. 2020), Adaptive Connection Sampling (Hasanzadesh et al. 2020) and Neural Sparsification (Zheng et al. 2020).\n",
        "By removing some edges, the model is forced to rely on a more limited set of neighbors for each node, reducing information flow from distant nodes.\n"
      ],
      "metadata": {
        "id": "coLl-zvNN5Z9"
      }
    },
    {
      "cell_type": "code",
      "source": [],
      "metadata": {
        "id": "5IFbwkEKkDsr"
      },
      "execution_count": null,
      "outputs": []
    }
  ]
}