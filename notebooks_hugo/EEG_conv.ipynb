{
 "cells": [
  {
   "attachments": {},
   "cell_type": "markdown",
   "metadata": {},
   "source": [
    "# 1d Conv on EEG data\n",
    "\n",
    "Step 1:\n",
    "- build convolutional model\n",
    "\n",
    "Step 2:\n",
    "- run a training pipeline"
   ]
  },
  {
   "cell_type": "code",
   "execution_count": 2,
   "metadata": {},
   "outputs": [],
   "source": [
    "import sys\n",
    "sys.path.append('../')\n",
    "from utils.dataset import EEGDataset\n",
    "from pathlib import Path\n",
    "\n",
    "\n",
    "eeg_dir = Path('../EEGDataset/')\n",
    "subjects = ['sub-01']\n",
    "\n",
    "data = EEGDataset(eeg_dir, subjects)"
   ]
  },
  {
   "attachments": {},
   "cell_type": "markdown",
   "metadata": {},
   "source": [
    "### Step 1 - Build model"
   ]
  },
  {
   "cell_type": "code",
   "execution_count": 3,
   "metadata": {},
   "outputs": [],
   "source": [
    "import numpy as np\n",
    "from sklearn import preprocessing\n",
    "from utils.transforms import Compose\n",
    "import torch\n",
    "import torch.nn as nn "
   ]
  },
  {
   "cell_type": "code",
   "execution_count": 4,
   "metadata": {},
   "outputs": [],
   "source": [
    "class CNN(nn.Module):\n",
    "\n",
    "    def __init__(self, n_channels):\n",
    "        super().__init__()\n",
    "        \n",
    "        self.conv1 = nn.Sequential(\n",
    "            nn.Conv1d(in_channels=n_channels, out_channels=5, kernel_size=3),\n",
    "            nn.BatchNorm1d(num_features=5),\n",
    "            nn.LeakyReLU(),\n",
    "            nn.MaxPool1d(kernel_size=2, stride=2),\n",
    "        )\n",
    "\n",
    "        self.conv2 = nn.Sequential(\n",
    "            nn.Conv1d(in_channels=5, out_channels=5, kernel_size=3),\n",
    "            nn.LeakyReLU(),\n",
    "            nn.MaxPool1d(kernel_size=2, stride=2),\n",
    "            nn.Dropout(p=0.5),\n",
    "        )\n",
    "\n",
    "        self.conv3 = nn.Sequential(\n",
    "            nn.Conv1d(in_channels=5, out_channels=5, kernel_size=3),\n",
    "            nn.LeakyReLU(),\n",
    "            nn.AvgPool1d(kernel_size=2,stride=2),\n",
    "            nn.Dropout(p=0.5),\n",
    "        )\n",
    "\n",
    "        self.conv4 = nn.Sequential(\n",
    "            nn.Conv1d(in_channels=5, out_channels=5, kernel_size=3),\n",
    "            nn.LeakyReLU(),\n",
    "            nn.AvgPool1d(kernel_size=2, stride=2),\n",
    "        )\n",
    "\n",
    "        self.conv5 = nn.Sequential(\n",
    "            nn.Conv1d(in_channels=5, out_channels=5, kernel_size=3),\n",
    "            nn.LeakyReLU(),\n",
    "            nn.AvgPool1d(kernel_size=35),\n",
    "        )\n",
    "\n",
    "        self.fc1 = nn.Sequential(\n",
    "            nn.Linear(in_features=5, out_features=1),\n",
    "            nn.Sigmoid(),\n",
    "        )\n",
    "\n",
    "    def forward(self, x):\n",
    "        # Initialization\n",
    "        x = x.float()\n",
    "\n",
    "        # Convolutions\n",
    "        x = self.conv1(x) \n",
    "        x = self.conv2(x)\n",
    "        x = self.conv3(x)\n",
    "        x = self.conv4(x)\n",
    "        x = self.conv5(x)\n",
    "        x = x.squeeze()\n",
    "\n",
    "        # Fully connected layers\n",
    "        x = self.fc1(x)\n",
    "\n",
    "        return x\n"
   ]
  },
  {
   "attachments": {},
   "cell_type": "markdown",
   "metadata": {},
   "source": [
    "### Train model"
   ]
  },
  {
   "cell_type": "code",
   "execution_count": 19,
   "metadata": {},
   "outputs": [],
   "source": [
    "device = 'mps' if torch.backends.mps.is_available() else 'cpu'\n",
    "loss_fn = nn.BCELoss()\n",
    "\n",
    "\n",
    "def train(dataloader, model, loss_fn, optimizer):\n",
    "    size = len(dataloader.dataset)\n",
    "    model.train()                       # if not train, model won't compute gradients\n",
    "\n",
    "    for batch_idx, batch in enumerate(dataloader):\n",
    "        X = batch['eeg'].float().to(device)\n",
    "        y = batch['label'].float().to(device)\n",
    "\n",
    "        # Compute prediction error\n",
    "        pred = model(X).squeeze()\n",
    "        loss = loss_fn(pred, y)\n",
    "\n",
    "        # Backpropagation\n",
    "        optimizer.zero_grad()\n",
    "        loss.backward()\n",
    "        optimizer.step()\n",
    "\n",
    "        if batch_idx % 100 == 0:\n",
    "            loss, current = loss.item(), batch_idx * len(X)\n",
    "            print(f\"loss: {loss:>7f}  [{current:>5d}/{size:>5d}]\")\n",
    "\n",
    "\n",
    "def valid(dataloader, model, loss_fn):\n",
    "    size = len(dataloader.dataset)\n",
    "    num_batches = len(dataloader)\n",
    "    model.eval()                    # set to eval to not compute gradient\n",
    "\n",
    "    val_loss, correct = 0, 0\n",
    "    with torch.no_grad():\n",
    "        for batch in dataloader:\n",
    "            X = batch['eeg'].float().to(device)\n",
    "            y = batch['label'].float().to(device)\n",
    "\n",
    "            pred = model(X).squeeze()\n",
    "            val_loss += loss_fn(pred, y).item()\n",
    "            correct += ((pred > 0.5) == y).type(torch.float).sum().item()\n",
    "    val_loss /= num_batches\n",
    "    correct /= size\n",
    "    print(f\"Test Error: \\n Accuracy: {(100*correct):>0.1f}%, Avg loss: {val_loss:>8f} \\n\")\n",
    "\n",
    "    return val_loss "
   ]
  },
  {
   "cell_type": "code",
   "execution_count": 20,
   "metadata": {},
   "outputs": [],
   "source": [
    "# Split data\n",
    "from torch.utils.data import random_split, DataLoader\n",
    "from utils.transforms import ToTensor \n",
    "\n",
    "scaler = data.standard_scaler()\n",
    "transform = Compose([scaler, ToTensor()])\n",
    "\n",
    "data.transform = transform\n",
    "\n",
    "train_loader = DataLoader(data, batch_size=32)\n",
    "\n"
   ]
  },
  {
   "cell_type": "code",
   "execution_count": 21,
   "metadata": {},
   "outputs": [
    {
     "name": "stdout",
     "output_type": "stream",
     "text": [
      "Epoch 1\n",
      "-------------------------------\n",
      "loss: 0.747399  [    0/  588]\n",
      "Test Error: \n",
      " Accuracy: 50.0%, Avg loss: 0.692802 \n",
      "\n",
      "Epoch 2\n",
      "-------------------------------\n",
      "loss: 0.747298  [    0/  588]\n",
      "Test Error: \n",
      " Accuracy: 50.0%, Avg loss: 0.692801 \n",
      "\n",
      "Epoch 3\n",
      "-------------------------------\n",
      "loss: 0.747289  [    0/  588]\n",
      "Test Error: \n",
      " Accuracy: 50.0%, Avg loss: 0.692801 \n",
      "\n",
      "Epoch 4\n",
      "-------------------------------\n",
      "loss: 0.747303  [    0/  588]\n",
      "Test Error: \n",
      " Accuracy: 50.0%, Avg loss: 0.692801 \n",
      "\n",
      "Epoch 5\n",
      "-------------------------------\n",
      "loss: 0.747285  [    0/  588]\n",
      "Test Error: \n",
      " Accuracy: 50.0%, Avg loss: 0.692801 \n",
      "\n",
      "Epoch 6\n",
      "-------------------------------\n",
      "loss: 0.747270  [    0/  588]\n",
      "Test Error: \n",
      " Accuracy: 50.0%, Avg loss: 0.692801 \n",
      "\n",
      "Epoch 7\n",
      "-------------------------------\n",
      "loss: 0.747262  [    0/  588]\n",
      "Test Error: \n",
      " Accuracy: 50.0%, Avg loss: 0.692800 \n",
      "\n",
      "Epoch 8\n",
      "-------------------------------\n",
      "loss: 0.747256  [    0/  588]\n",
      "Test Error: \n",
      " Accuracy: 50.0%, Avg loss: 0.692800 \n",
      "\n",
      "Epoch 9\n",
      "-------------------------------\n",
      "loss: 0.747253  [    0/  588]\n",
      "Test Error: \n",
      " Accuracy: 50.0%, Avg loss: 0.692800 \n",
      "\n",
      "Epoch 10\n",
      "-------------------------------\n",
      "loss: 0.747251  [    0/  588]\n",
      "Test Error: \n",
      " Accuracy: 50.0%, Avg loss: 0.692800 \n",
      "\n",
      "Done!\n"
     ]
    }
   ],
   "source": [
    "lr = 1e-5\n",
    "    \n",
    "model = CNN(n_channels=128).to(device)\n",
    "optimizer = torch.optim.Adam(model.parameters(), lr=lr, weight_decay=0.5)\n",
    "\n",
    "epochs = 10\n",
    "loss = []\n",
    "for t in range(epochs):\n",
    "    print(f\"Epoch {t+1}\\n-------------------------------\")\n",
    "    train(train_loader, model, loss_fn, optimizer)\n",
    "    loss.append(valid(train_loader, model, loss_fn))\n",
    "\n",
    "print('Done!')"
   ]
  },
  {
   "cell_type": "code",
   "execution_count": 12,
   "metadata": {},
   "outputs": [
    {
     "data": {
      "text/plain": [
       "[<matplotlib.lines.Line2D at 0x2a1b5da00>]"
      ]
     },
     "execution_count": 12,
     "metadata": {},
     "output_type": "execute_result"
    },
    {
     "data": {
      "image/png": "[encoded data removed]",
      "text/plain": [
       "<Figure size 640x480 with 1 Axes>"
      ]
     },
     "metadata": {},
     "output_type": "display_data"
    }
   ],
   "source": [
    "import matplotlib.pyplot as plt \n",
    "\n",
    "e = range(epochs)\n",
    "plt.plot(e, loss)"
   ]
  },
  {
   "cell_type": "code",
   "execution_count": null,
   "metadata": {},
   "outputs": [],
   "source": []
  }
 ],
 "metadata": {
  "kernelspec": {
   "display_name": "eegcs",
   "language": "python",
   "name": "python3"
  },
  "language_info": {
   "codemirror_mode": {
    "name": "ipython",
    "version": 3
   },
   "file_extension": ".py",
   "mimetype": "text/x-python",
   "name": "python",
   "nbconvert_exporter": "python",
   "pygments_lexer": "ipython3",
   "version": "3.8.16"
  },
  "orig_nbformat": 4
 },
 "nbformat": 4,
 "nbformat_minor": 2
}
