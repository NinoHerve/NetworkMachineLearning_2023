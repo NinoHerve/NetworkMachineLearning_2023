{
 "cells": [
  {
   "cell_type": "code",
   "execution_count": 1,
   "metadata": {},
   "outputs": [],
   "source": [
    "import mne\n",
    "from mne_connectivity import spectral_connectivity_epochs\n",
    "from mne_connectivity.viz import plot_connectivity_circle\n",
    "from matplotlib import pyplot as plt\n",
    "import numpy as np"
   ]
  },
  {
   "cell_type": "code",
   "execution_count": 2,
   "metadata": {},
   "outputs": [],
   "source": [
    "bids_dir = '/Users/hugofluhr/DATA/ds003505/'"
   ]
  },
  {
   "cell_type": "code",
   "execution_count": 3,
   "metadata": {},
   "outputs": [],
   "source": [
    "from utils_hugo import read_subject_epochs"
   ]
  },
  {
   "cell_type": "code",
   "execution_count": null,
   "metadata": {},
   "outputs": [
    {
     "name": "stderr",
     "output_type": "stream",
     "text": [
      "/Users/hugofluhr/Documents/Cours/NML/NetworkMachineLearning_2023/notebooks_hugo/utils_hugo.py:18: RuntimeWarning: At least one epoch has multiple events. Only the latency of the first event will be retained.\n",
      "  epochs = mne.read_epochs_eeglab(\n"
     ]
    },
    {
     "name": "stdout",
     "output_type": "stream",
     "text": [
      "Applying baseline correction (mode: mean)\n",
      "EEG channel type selected for re-referencing\n",
      "Adding average EEG reference projection.\n",
      "1 projection items deactivated\n",
      "Average reference projection was added, but has not been applied yet. Use the apply_proj method to apply it.\n",
      "Created an SSP operator (subspace dimension = 1)\n",
      "1 projection items activated\n",
      "SSP projectors applied...\n"
     ]
    }
   ],
   "source": [
    "epochs, y = read_subject_epochs(bids_dir=bids_dir, subject='sub-01')\n",
    "metadata_list = [{'event': i} for i in y]"
   ]
  },
  {
   "cell_type": "code",
   "execution_count": 48,
   "metadata": {},
   "outputs": [
    {
     "name": "stderr",
     "output_type": "stream",
     "text": [
      "[MNE]: 100%|██████████| 588/588 [00:42<00:00, 13.70it/s]"
     ]
    },
    {
     "name": "stdout",
     "output_type": "stream",
     "text": [
      "Please wait for the writing process to complete...\n"
     ]
    },
    {
     "name": "stderr",
     "output_type": "stream",
     "text": [
      "\n"
     ]
    }
   ],
   "source": [
    "dataset = MNEDataset(epochs_list=[epochs[i] for i in range(len(epochs))],\n",
    "                        metadata_list=metadata_list,\n",
    "                        io_path='data/data_mne',\n",
    "                        offline_transform=transforms.Compose(\n",
    "                            [transforms.BandDifferentialEntropy()]),\n",
    "                        online_transform=transforms.ToTensor(),\n",
    "                        label_transform=transforms.Compose([\n",
    "                            transforms.Select('event')\n",
    "                        ]),\n",
    "                        num_worker=1)"
   ]
  },
  {
   "cell_type": "code",
   "execution_count": 49,
   "metadata": {},
   "outputs": [
    {
     "data": {
      "text/plain": [
       "1"
      ]
     },
     "execution_count": 49,
     "metadata": {},
     "output_type": "execute_result"
    }
   ],
   "source": [
    "dataset[0][1]"
   ]
  },
  {
   "cell_type": "code",
   "execution_count": null,
   "metadata": {},
   "outputs": [],
   "source": []
  },
  {
   "cell_type": "code",
   "execution_count": null,
   "metadata": {},
   "outputs": [],
   "source": []
  },
  {
   "attachments": {},
   "cell_type": "markdown",
   "metadata": {},
   "source": [
    "## PLI Connectivity"
   ]
  },
  {
   "cell_type": "code",
   "execution_count": null,
   "metadata": {},
   "outputs": [],
   "source": [
    "fmin, fmax = 4., 9.\n",
    "sfreq = epochs.info['sfreq']\n",
    "tmin = 0.0 # exclude the baseline period"
   ]
  },
  {
   "cell_type": "code",
   "execution_count": null,
   "metadata": {},
   "outputs": [],
   "source": [
    "con_faces = spectral_connectivity_epochs(\n",
    "    epochs['Faces'], method='plv', mode='multitaper', fmin=10, fmax=50,\n",
    "    faverage=True, tmin=tmin, mt_adaptive=False, n_jobs=8, verbose='CRITICAL')"
   ]
  },
  {
   "cell_type": "code",
   "execution_count": null,
   "metadata": {},
   "outputs": [],
   "source": [
    "con_scram = spectral_connectivity_epochs(\n",
    "    epochs['Scrambled'], method='plv', mode='multitaper', fmin=10, fmax=50,\n",
    "    faverage=True, tmin=tmin, mt_adaptive=False, n_jobs=8, verbose='CRITICAL')"
   ]
  },
  {
   "cell_type": "code",
   "execution_count": null,
   "metadata": {},
   "outputs": [],
   "source": [
    "A_faces = np.squeeze(con_faces.get_data('dense'))\n",
    "A_faces += A_faces.T"
   ]
  },
  {
   "cell_type": "code",
   "execution_count": null,
   "metadata": {},
   "outputs": [],
   "source": [
    "plt.imshow(A_faces, interpolation='none')\n",
    "plt.colorbar()\n",
    "plt.title('Faces connectivity');"
   ]
  },
  {
   "cell_type": "code",
   "execution_count": null,
   "metadata": {},
   "outputs": [],
   "source": [
    "plt.hist(A_faces.sum(0))\n",
    "plt.title('Degree distribution of faces connectivity')\n",
    "plt.show()"
   ]
  },
  {
   "cell_type": "code",
   "execution_count": null,
   "metadata": {},
   "outputs": [],
   "source": [
    "A_scram = np.squeeze(con_scram.get_data('dense'))\n",
    "A_scram += A_scram.T"
   ]
  },
  {
   "cell_type": "code",
   "execution_count": null,
   "metadata": {},
   "outputs": [],
   "source": [
    "plt.imshow(A_scram, interpolation='none')\n",
    "plt.colorbar()\n",
    "plt.title('Scrambled connectivity');"
   ]
  },
  {
   "cell_type": "code",
   "execution_count": null,
   "metadata": {},
   "outputs": [],
   "source": [
    "plt.hist(A_scram.sum(0))\n",
    "plt.title('Degree distribution of Scrambled connectivity')\n",
    "plt.show()"
   ]
  },
  {
   "cell_type": "code",
   "execution_count": null,
   "metadata": {},
   "outputs": [],
   "source": [
    "plt.scatter(np.triu(A_faces), np.triu(A_scram))\n",
    "plt.colorbar()\n",
    "plt.title('Scatter of Faces vs Scrambled for 1 subject')\n",
    "plt.xlabel('Faces')\n",
    "plt.ylabel('Scrambled')\n",
    "plt.show()"
   ]
  },
  {
   "cell_type": "code",
   "execution_count": null,
   "metadata": {},
   "outputs": [],
   "source": [
    "# Fancy useless plot\n",
    "plot_connectivity_circle(\n",
    "    con_faces.get_data(output='dense')[:, :, 0],\n",
    "    epochs.ch_names)"
   ]
  },
  {
   "cell_type": "code",
   "execution_count": null,
   "metadata": {},
   "outputs": [],
   "source": [
    "# Fancy useless plot\n",
    "plot_connectivity_circle(\n",
    "    con_scram.get_data(output='dense')[:, :, 0],\n",
    "    epochs.ch_names)"
   ]
  },
  {
   "attachments": {},
   "cell_type": "markdown",
   "metadata": {},
   "source": [
    "## Enveloppe correlation connectivity"
   ]
  },
  {
   "cell_type": "code",
   "execution_count": null,
   "metadata": {},
   "outputs": [],
   "source": [
    "from mne_connectivity import envelope_correlation"
   ]
  },
  {
   "cell_type": "code",
   "execution_count": null,
   "metadata": {},
   "outputs": [],
   "source": [
    "env_con = envelope_correlation(epochs['Faces'])"
   ]
  },
  {
   "cell_type": "code",
   "execution_count": null,
   "metadata": {},
   "outputs": [],
   "source": [
    "plt.matshow(env_con.get_data('dense').mean(0))\n",
    "plt.colorbar()"
   ]
  },
  {
   "cell_type": "code",
   "execution_count": null,
   "metadata": {},
   "outputs": [],
   "source": [
    "env_con_sram = envelope_correlation(epochs['Scrambled'])"
   ]
  },
  {
   "cell_type": "code",
   "execution_count": null,
   "metadata": {},
   "outputs": [],
   "source": [
    "plt.matshow(env_con_sram.get_data('dense').mean(0))\n",
    "plt.colorbar()"
   ]
  },
  {
   "cell_type": "code",
   "execution_count": null,
   "metadata": {},
   "outputs": [],
   "source": [
    "plt.scatter(np.triu(env_con.get_data('dense').mean(0)), np.triu(env_con_sram.get_data('dense').mean(0)))\n",
    "plt.colorbar()\n",
    "plt.title('Scatter of Faces vs Scrambled for 1 subject')\n",
    "plt.xlabel('Faces')\n",
    "plt.ylabel('Scrambled')\n",
    "plt.show()"
   ]
  },
  {
   "cell_type": "code",
   "execution_count": null,
   "metadata": {},
   "outputs": [],
   "source": [
    "env_con.get_data('dense').mean(0).shape"
   ]
  },
  {
   "attachments": {},
   "cell_type": "markdown",
   "metadata": {},
   "source": [
    "## Compare connectivity from different epochs"
   ]
  },
  {
   "cell_type": "code",
   "execution_count": null,
   "metadata": {},
   "outputs": [],
   "source": [
    "epochs['Faces']\n"
   ]
  },
  {
   "cell_type": "code",
   "execution_count": null,
   "metadata": {},
   "outputs": [],
   "source": [
    "con_faces_1 = spectral_connectivity_epochs(\n",
    "    epochs['Faces'][:10], method='plv', mode='multitaper', fmin=10, fmax=50,\n",
    "    faverage=True, tmin=tmin, mt_adaptive=False, n_jobs=8, verbose='CRITICAL')"
   ]
  },
  {
   "cell_type": "code",
   "execution_count": null,
   "metadata": {},
   "outputs": [],
   "source": [
    "con_faces_2 = spectral_connectivity_epochs(\n",
    "    epochs['Faces'][-10:], method='plv', mode='multitaper', fmin=10, fmax=50,\n",
    "    faverage=True, tmin=tmin, mt_adaptive=False, n_jobs=8, verbose='CRITICAL')"
   ]
  },
  {
   "cell_type": "code",
   "execution_count": null,
   "metadata": {},
   "outputs": [],
   "source": [
    "plt.scatter(con_faces_1.get_data('dense'),con_faces_2.get_data('dense'))\n",
    "plt.title('Scatter of PLV connectivity for different samples of epochs for 1 subject')\n",
    "plt.show()"
   ]
  },
  {
   "attachments": {},
   "cell_type": "markdown",
   "metadata": {},
   "source": [
    "## Evoked response for 1 subject"
   ]
  },
  {
   "cell_type": "code",
   "execution_count": null,
   "metadata": {},
   "outputs": [],
   "source": [
    "evoked = epochs.average(by_event_type=True)"
   ]
  },
  {
   "cell_type": "code",
   "execution_count": null,
   "metadata": {},
   "outputs": [],
   "source": [
    "evoked[0].plot();"
   ]
  },
  {
   "cell_type": "code",
   "execution_count": null,
   "metadata": {},
   "outputs": [],
   "source": [
    "evoked[1].plot();"
   ]
  },
  {
   "cell_type": "code",
   "execution_count": null,
   "metadata": {},
   "outputs": [],
   "source": [
    "evoked_diff = mne.combine_evoked([evoked[1], evoked[0]], weights=[1, -1])"
   ]
  },
  {
   "cell_type": "code",
   "execution_count": null,
   "metadata": {},
   "outputs": [],
   "source": [
    "evoked_diff.plot();"
   ]
  },
  {
   "cell_type": "code",
   "execution_count": null,
   "metadata": {},
   "outputs": [],
   "source": []
  }
 ],
 "metadata": {
  "kernelspec": {
   "display_name": "torch",
   "language": "python",
   "name": "python3"
  },
  "language_info": {
   "codemirror_mode": {
    "name": "ipython",
    "version": 3
   },
   "file_extension": ".py",
   "mimetype": "text/x-python",
   "name": "python",
   "nbconvert_exporter": "python",
   "pygments_lexer": "ipython3",
   "version": "3.8.16"
  },
  "orig_nbformat": 4
 },
 "nbformat": 4,
 "nbformat_minor": 2
}
